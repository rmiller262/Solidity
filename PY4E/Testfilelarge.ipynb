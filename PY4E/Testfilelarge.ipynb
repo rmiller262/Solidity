{
 "cells": [
  {
   "cell_type": "code",
   "execution_count": 1,
   "id": "c40c6a42-e78a-4000-ade6-e8d65694c52f",
   "metadata": {},
   "outputs": [],
   "source": [
    "import tweepy\n",
    "import webbrowser\n",
    "import time"
   ]
  },
  {
   "cell_type": "code",
   "execution_count": 2,
   "id": "6c9fd6a3-d9cd-42b5-85c8-d560f0ed297e",
   "metadata": {},
   "outputs": [],
   "source": [
    "consumer_key= \"XURKKZo9J4ntH4HYar3g0ZjSh\"\n",
    "consumer_secret = \"fyaEEq9aYrpfaJA6aY0cqJ603Nay8cA5z6TLXrEScyToUSGBFu\""
   ]
  },
  {
   "cell_type": "code",
   "execution_count": 3,
   "id": "fde5782c-3282-49b1-a725-97904c4efd7d",
   "metadata": {},
   "outputs": [],
   "source": [
    "callback_uri = 'oob'"
   ]
  },
  {
   "cell_type": "code",
   "execution_count": 4,
   "id": "631ef4d5-d3b4-4842-9712-be12e21c632d",
   "metadata": {},
   "outputs": [],
   "source": [
    "auth = tweepy.OAuthHandler(consumer_key, consumer_secret, callback_uri)"
   ]
  },
  {
   "cell_type": "code",
   "execution_count": 5,
   "id": "a56f32cc-4132-4aed-aa28-7a2cf08d88ab",
   "metadata": {},
   "outputs": [
    {
     "name": "stdout",
     "output_type": "stream",
     "text": [
      "https://api.twitter.com/oauth/authorize?oauth_token=4hTYSAAAAAABZYbjAAABfyJwdF0\n"
     ]
    }
   ],
   "source": [
    "redirect_url=auth.get_authorization_url()\n",
    "print(redirect_url)"
   ]
  },
  {
   "cell_type": "code",
   "execution_count": 6,
   "id": "08a2fcd6-8e3e-463b-822f-56993b07c20b",
   "metadata": {},
   "outputs": [
    {
     "name": "stdin",
     "output_type": "stream",
     "text": [
      "Please enter PIN Value? 8154817\n"
     ]
    }
   ],
   "source": [
    "user_pint_input = input('Please enter PIN Value?')"
   ]
  },
  {
   "cell_type": "code",
   "execution_count": 8,
   "id": "d6d5c82d-68fb-4e85-955f-e813c274d1f1",
   "metadata": {},
   "outputs": [
    {
     "data": {
      "text/plain": [
       "('1494724358010548232-WNi8AUzp87tPKQ5cozfAilwuc37vme',\n",
       " 'zP6A67fhdpA6EetnrTt2vVefU1CPbOmBKqoKC9aimQkTs')"
      ]
     },
     "execution_count": 8,
     "metadata": {},
     "output_type": "execute_result"
    }
   ],
   "source": [
    "auth.get_access_token(user_pint_input)"
   ]
  },
  {
   "cell_type": "code",
   "execution_count": 9,
   "id": "f864148b-70a3-460b-a3d0-e8366fc916d7",
   "metadata": {},
   "outputs": [],
   "source": [
    "api = tweepy.API(auth)"
   ]
  },
  {
   "cell_type": "code",
   "execution_count": 10,
   "id": "d277f6c9-18b1-426c-9e52-375336ec000a",
   "metadata": {},
   "outputs": [],
   "source": [
    "me = api.me()"
   ]
  },
  {
   "cell_type": "code",
   "execution_count": 11,
   "id": "7c39ee32-3995-48a0-b769-4f403fbac2a4",
   "metadata": {},
   "outputs": [
    {
     "name": "stdout",
     "output_type": "stream",
     "text": [
      "ROGERMI42293589\n"
     ]
    }
   ],
   "source": [
    "print(me.screen_name)"
   ]
  },
  {
   "cell_type": "code",
   "execution_count": 12,
   "id": "23bd9ff7-7ccc-446f-910b-352258f6b18c",
   "metadata": {},
   "outputs": [],
   "source": [
    "nasa = api.get_user('nasa')"
   ]
  },
  {
   "cell_type": "code",
   "execution_count": 13,
   "id": "446b8e94-0068-4c75-9c19-6478e967e094",
   "metadata": {},
   "outputs": [
    {
     "data": {
      "text/plain": [
       "11348282"
      ]
     },
     "execution_count": 13,
     "metadata": {},
     "output_type": "execute_result"
    }
   ],
   "source": [
    "nasa.id"
   ]
  },
  {
   "cell_type": "code",
   "execution_count": 14,
   "id": "d16937dc-7483-425e-b539-65895ec49983",
   "metadata": {},
   "outputs": [
    {
     "data": {
      "text/plain": [
       "'NASA'"
      ]
     },
     "execution_count": 14,
     "metadata": {},
     "output_type": "execute_result"
    }
   ],
   "source": [
    "nasa.name"
   ]
  },
  {
   "cell_type": "code",
   "execution_count": 15,
   "id": "cf603143-7f7c-4fba-9068-6790b5f7609a",
   "metadata": {},
   "outputs": [
    {
     "data": {
      "text/plain": [
       "'NASA'"
      ]
     },
     "execution_count": 15,
     "metadata": {},
     "output_type": "execute_result"
    }
   ],
   "source": [
    "nasa.screen_name"
   ]
  },
  {
   "cell_type": "code",
   "execution_count": 16,
   "id": "1e9b209e-2038-490c-adf6-6738fee52ade",
   "metadata": {},
   "outputs": [
    {
     "data": {
      "text/plain": [
       "\"There's space for everybody. ✨\""
      ]
     },
     "execution_count": 16,
     "metadata": {},
     "output_type": "execute_result"
    }
   ],
   "source": [
    "nasa.description"
   ]
  },
  {
   "cell_type": "code",
   "execution_count": 17,
   "id": "c570e2b4-bead-4fc2-b1b5-70259774a81c",
   "metadata": {},
   "outputs": [
    {
     "data": {
      "text/plain": [
       "52897390"
      ]
     },
     "execution_count": 17,
     "metadata": {},
     "output_type": "execute_result"
    }
   ],
   "source": [
    "nasa.followers_count"
   ]
  },
  {
   "cell_type": "code",
   "execution_count": 18,
   "id": "b1993866-6459-4c7a-97ff-0feed1dd8e6c",
   "metadata": {},
   "outputs": [
    {
     "data": {
      "text/plain": [
       "178"
      ]
     },
     "execution_count": 18,
     "metadata": {},
     "output_type": "execute_result"
    }
   ],
   "source": [
    "nasa.friends_count"
   ]
  },
  {
   "cell_type": "code",
   "execution_count": 19,
   "id": "b7c0ac47-6a8a-4d03-abfc-dc5590f48530",
   "metadata": {},
   "outputs": [
    {
     "ename": "TweepError",
     "evalue": "[{'code': 50, 'message': 'User not found.'}]",
     "output_type": "error",
     "traceback": [
      "\u001b[1;31m---------------------------------------------------------------------------\u001b[0m",
      "\u001b[1;31mTweepError\u001b[0m                                Traceback (most recent call last)",
      "\u001b[1;32m~\\AppData\\Local\\Temp/ipykernel_2112/3328560657.py\u001b[0m in \u001b[0;36m<module>\u001b[1;34m\u001b[0m\n\u001b[1;32m----> 1\u001b[1;33m \u001b[0mnasa_Kepler\u001b[0m \u001b[1;33m=\u001b[0m \u001b[0mapi\u001b[0m\u001b[1;33m.\u001b[0m\u001b[0mget_user\u001b[0m\u001b[1;33m(\u001b[0m\u001b[1;34m'NASAKepler'\u001b[0m\u001b[1;33m)\u001b[0m\u001b[1;33m\u001b[0m\u001b[1;33m\u001b[0m\u001b[0m\n\u001b[0m",
      "\u001b[1;32m~\\anaconda3\\anaconda\\lib\\site-packages\\tweepy\\binder.py\u001b[0m in \u001b[0;36m_call\u001b[1;34m(*args, **kwargs)\u001b[0m\n\u001b[0;32m    248\u001b[0m             \u001b[1;32mreturn\u001b[0m \u001b[0mmethod\u001b[0m\u001b[1;33m\u001b[0m\u001b[1;33m\u001b[0m\u001b[0m\n\u001b[0;32m    249\u001b[0m         \u001b[1;32melse\u001b[0m\u001b[1;33m:\u001b[0m\u001b[1;33m\u001b[0m\u001b[1;33m\u001b[0m\u001b[0m\n\u001b[1;32m--> 250\u001b[1;33m             \u001b[1;32mreturn\u001b[0m \u001b[0mmethod\u001b[0m\u001b[1;33m.\u001b[0m\u001b[0mexecute\u001b[0m\u001b[1;33m(\u001b[0m\u001b[1;33m)\u001b[0m\u001b[1;33m\u001b[0m\u001b[1;33m\u001b[0m\u001b[0m\n\u001b[0m\u001b[0;32m    251\u001b[0m \u001b[1;33m\u001b[0m\u001b[0m\n\u001b[0;32m    252\u001b[0m     \u001b[1;31m# Set pagination mode\u001b[0m\u001b[1;33m\u001b[0m\u001b[1;33m\u001b[0m\u001b[0m\n",
      "\u001b[1;32m~\\anaconda3\\anaconda\\lib\\site-packages\\tweepy\\binder.py\u001b[0m in \u001b[0;36mexecute\u001b[1;34m(self)\u001b[0m\n\u001b[0;32m    232\u001b[0m                     \u001b[1;32mraise\u001b[0m \u001b[0mRateLimitError\u001b[0m\u001b[1;33m(\u001b[0m\u001b[0merror_msg\u001b[0m\u001b[1;33m,\u001b[0m \u001b[0mresp\u001b[0m\u001b[1;33m)\u001b[0m\u001b[1;33m\u001b[0m\u001b[1;33m\u001b[0m\u001b[0m\n\u001b[0;32m    233\u001b[0m                 \u001b[1;32melse\u001b[0m\u001b[1;33m:\u001b[0m\u001b[1;33m\u001b[0m\u001b[1;33m\u001b[0m\u001b[0m\n\u001b[1;32m--> 234\u001b[1;33m                     \u001b[1;32mraise\u001b[0m \u001b[0mTweepError\u001b[0m\u001b[1;33m(\u001b[0m\u001b[0merror_msg\u001b[0m\u001b[1;33m,\u001b[0m \u001b[0mresp\u001b[0m\u001b[1;33m,\u001b[0m \u001b[0mapi_code\u001b[0m\u001b[1;33m=\u001b[0m\u001b[0mapi_error_code\u001b[0m\u001b[1;33m)\u001b[0m\u001b[1;33m\u001b[0m\u001b[1;33m\u001b[0m\u001b[0m\n\u001b[0m\u001b[0;32m    235\u001b[0m \u001b[1;33m\u001b[0m\u001b[0m\n\u001b[0;32m    236\u001b[0m             \u001b[1;31m# Parse the response payload\u001b[0m\u001b[1;33m\u001b[0m\u001b[1;33m\u001b[0m\u001b[0m\n",
      "\u001b[1;31mTweepError\u001b[0m: [{'code': 50, 'message': 'User not found.'}]"
     ]
    }
   ],
   "source": [
    "nasa_Kepler = api.get_user('NASAKepler')"
   ]
  },
  {
   "cell_type": "code",
   "execution_count": 20,
   "id": "0f788470-ec82-493c-99e0-9592890d186e",
   "metadata": {},
   "outputs": [],
   "source": [
    "followers = []"
   ]
  },
  {
   "cell_type": "code",
   "execution_count": 21,
   "id": "a4646033-9d00-48e3-b817-e8f9021c3b87",
   "metadata": {},
   "outputs": [],
   "source": [
    "cursor= tweepy.Cursor(api.followers, screen_name = 'nasa')"
   ]
  },
  {
   "cell_type": "code",
   "execution_count": 24,
   "id": "bf272e09-4cba-4f6f-8149-7bec541ebb86",
   "metadata": {},
   "outputs": [],
   "source": [
    "for account in cursor.items(10):\n",
    "    followers.append(account.screen_name)"
   ]
  },
  {
   "cell_type": "code",
   "execution_count": 29,
   "id": "0cf840a1-cda1-41db-a774-e1016012b3cd",
   "metadata": {},
   "outputs": [
    {
     "name": "stdout",
     "output_type": "stream",
     "text": [
      "Followers: ainPieykaaa Akimiekiki br7479356 cdhuan9x Cristin36463846 Eyupgul02 Ismay31900162 Jhon0ey21 LuisJoseGuerra7 RPolaei\n"
     ]
    }
   ],
   "source": [
    "print('Followers:',\n",
    "       ' '.join(sorted(followers, key=lambda s: s.lower())))"
   ]
  },
  {
   "cell_type": "code",
   "execution_count": 30,
   "id": "97f63b8a-a8c9-4df2-a0c1-a2ced61c85cf",
   "metadata": {},
   "outputs": [],
   "source": [
    "friends = []"
   ]
  },
  {
   "cell_type": "code",
   "execution_count": 32,
   "id": "d91d56ed-97d4-4299-b9a3-2d18ba227060",
   "metadata": {},
   "outputs": [],
   "source": [
    "cursor = tweepy.Cursor(api.friends, screen_name = 'nasa')"
   ]
  },
  {
   "cell_type": "code",
   "execution_count": 33,
   "id": "e5a6423d-414c-4330-aada-ee1b087738c4",
   "metadata": {},
   "outputs": [],
   "source": [
    "for friend in cursor.items(10):\n",
    "    friends.append(friend.screen_name)\n",
    "    "
   ]
  },
  {
   "cell_type": "code",
   "execution_count": 34,
   "id": "c3a838ce-b120-4239-ac8c-adc9f88077ae",
   "metadata": {},
   "outputs": [
    {
     "name": "stdout",
     "output_type": "stream",
     "text": [
      "Friends: Aki_Hoshideastro_matthiasAstro_PamJimFreeNASA_GatewayNASAArtemisNASASpaceSciSenBillNelsonThom_astrov_wyche\n"
     ]
    }
   ],
   "source": [
    "print('Friends:', \n",
    "      ''.join(sorted(friends, key=lambda s: s.lower())))"
   ]
  },
  {
   "cell_type": "code",
   "execution_count": 35,
   "id": "8f896581-408c-4fd4-b70f-17702bc40469",
   "metadata": {},
   "outputs": [],
   "source": [
    "nasa_tweets=api.user_timeline(screen_name = 'nasa', count=3)"
   ]
  },
  {
   "cell_type": "code",
   "execution_count": 37,
   "id": "26d07a5f-2611-4463-aff5-28d1011d8569",
   "metadata": {},
   "outputs": [
    {
     "name": "stdout",
     "output_type": "stream",
     "text": [
      "NASA: @BJones79 Don't worry! DART can't change the orbit in a way that would send the asteroid closer to Earth. All it wi… https://t.co/CtDNtU6uQW\n",
      "\n",
      "NASA: @Crosley_AZ Great question. The fresh food sent to the @Space_Station aboard Cygnus included apples, avocado, tomat… https://t.co/yVAh75b2RA\n",
      "\n",
      "NASA: #Artemis engineers are working through the final closeout tasks for the launch of our upcoming Moon mission.\n",
      "\n",
      "MEDIA… https://t.co/nGIIJWT4Sj\n",
      "\n"
     ]
    }
   ],
   "source": [
    "for tweet in nasa_tweets:\n",
    "    print(f'{tweet.user.screen_name}: {tweet.text}\\n')\n",
    "          "
   ]
  },
  {
   "cell_type": "code",
   "execution_count": null,
   "id": "9592ea43-b1f8-4b7e-981f-917b6675810c",
   "metadata": {},
   "outputs": [],
   "source": []
  },
  {
   "cell_type": "code",
   "execution_count": 38,
   "id": "6810b757-28cc-4c30-b8a8-77fc2a017c53",
   "metadata": {},
   "outputs": [
    {
     "data": {
      "text/plain": [
       "[]"
      ]
     },
     "execution_count": 38,
     "metadata": {},
     "output_type": "execute_result"
    }
   ],
   "source": [
    "api.home_timeline()"
   ]
  },
  {
   "cell_type": "code",
   "execution_count": 39,
   "id": "bcc2faca-93ea-4f64-945c-3351082fefd0",
   "metadata": {},
   "outputs": [],
   "source": [
    "tweets = api.search(q = '#collegefootball', count=3)"
   ]
  },
  {
   "cell_type": "code",
   "execution_count": 40,
   "id": "17600b8e-6c8b-4537-a8d9-32144c21fdaf",
   "metadata": {},
   "outputs": [
    {
     "ename": "NameError",
     "evalue": "name 'print_tweets' is not defined",
     "output_type": "error",
     "traceback": [
      "\u001b[1;31m---------------------------------------------------------------------------\u001b[0m",
      "\u001b[1;31mNameError\u001b[0m                                 Traceback (most recent call last)",
      "\u001b[1;32m~\\AppData\\Local\\Temp/ipykernel_2112/3244229404.py\u001b[0m in \u001b[0;36m<module>\u001b[1;34m\u001b[0m\n\u001b[1;32m----> 1\u001b[1;33m \u001b[0mprint_tweets\u001b[0m\u001b[1;33m(\u001b[0m\u001b[0mtweets\u001b[0m\u001b[1;33m)\u001b[0m\u001b[1;33m\u001b[0m\u001b[1;33m\u001b[0m\u001b[0m\n\u001b[0m",
      "\u001b[1;31mNameError\u001b[0m: name 'print_tweets' is not defined"
     ]
    }
   ],
   "source": [
    "print_tweets(tweets)"
   ]
  },
  {
   "cell_type": "code",
   "execution_count": 41,
   "id": "6cfa8d27-55a9-4466-b200-61b4f8f96151",
   "metadata": {},
   "outputs": [
    {
     "ename": "NameError",
     "evalue": "name 'print_tweets' is not defined",
     "output_type": "error",
     "traceback": [
      "\u001b[1;31m---------------------------------------------------------------------------\u001b[0m",
      "\u001b[1;31mNameError\u001b[0m                                 Traceback (most recent call last)",
      "\u001b[1;32m~\\AppData\\Local\\Temp/ipykernel_2112/3244229404.py\u001b[0m in \u001b[0;36m<module>\u001b[1;34m\u001b[0m\n\u001b[1;32m----> 1\u001b[1;33m \u001b[0mprint_tweets\u001b[0m\u001b[1;33m(\u001b[0m\u001b[0mtweets\u001b[0m\u001b[1;33m)\u001b[0m\u001b[1;33m\u001b[0m\u001b[1;33m\u001b[0m\u001b[0m\n\u001b[0m",
      "\u001b[1;31mNameError\u001b[0m: name 'print_tweets' is not defined"
     ]
    }
   ],
   "source": [
    "print_tweets(tweets)"
   ]
  },
  {
   "cell_type": "raw",
   "id": "a8c7bfbf-ffe0-437a-9683-7ff61abc93e6",
   "metadata": {},
   "source": [
    "print(tweets)"
   ]
  },
  {
   "cell_type": "code",
   "execution_count": 42,
   "id": "b5a00100-2a48-4c65-a867-d284ff052fcf",
   "metadata": {},
   "outputs": [
    {
     "ename": "SyntaxError",
     "evalue": "EOL while scanning string literal (Temp/ipykernel_2112/660979249.py, line 1)",
     "output_type": "error",
     "traceback": [
      "\u001b[1;36m  File \u001b[1;32m\"C:\\Users\\18323\\AppData\\Local\\Temp/ipykernel_2112/660979249.py\"\u001b[1;36m, line \u001b[1;32m1\u001b[0m\n\u001b[1;33m    print(f\"{tweet.search}:{tweet.text}\\n')\u001b[0m\n\u001b[1;37m                                           ^\u001b[0m\n\u001b[1;31mSyntaxError\u001b[0m\u001b[1;31m:\u001b[0m EOL while scanning string literal\n"
     ]
    }
   ],
   "source": [
    "print(f\"{tweet.search}:{tweet.text}\\n')"
   ]
  },
  {
   "cell_type": "code",
   "execution_count": 43,
   "id": "51c42a9d-6577-40f8-849b-f75f179e262d",
   "metadata": {},
   "outputs": [
    {
     "ename": "NameError",
     "evalue": "name 'print_tweet' is not defined",
     "output_type": "error",
     "traceback": [
      "\u001b[1;31m---------------------------------------------------------------------------\u001b[0m",
      "\u001b[1;31mNameError\u001b[0m                                 Traceback (most recent call last)",
      "\u001b[1;32m~\\AppData\\Local\\Temp/ipykernel_2112/677771857.py\u001b[0m in \u001b[0;36m<module>\u001b[1;34m\u001b[0m\n\u001b[1;32m----> 1\u001b[1;33m \u001b[0mprint_tweet\u001b[0m\u001b[1;33m(\u001b[0m\u001b[0mtweets\u001b[0m\u001b[1;33m)\u001b[0m\u001b[1;33m\u001b[0m\u001b[1;33m\u001b[0m\u001b[0m\n\u001b[0m",
      "\u001b[1;31mNameError\u001b[0m: name 'print_tweet' is not defined"
     ]
    }
   ],
   "source": [
    "print_tweet(tweets)"
   ]
  },
  {
   "cell_type": "code",
   "execution_count": 44,
   "id": "aab95a29-c5bb-4cd7-ba76-3e21a5331686",
   "metadata": {},
   "outputs": [
    {
     "ename": "NameError",
     "evalue": "name 'print_tweets' is not defined",
     "output_type": "error",
     "traceback": [
      "\u001b[1;31m---------------------------------------------------------------------------\u001b[0m",
      "\u001b[1;31mNameError\u001b[0m                                 Traceback (most recent call last)",
      "\u001b[1;32m~\\AppData\\Local\\Temp/ipykernel_2112/2744654219.py\u001b[0m in \u001b[0;36m<module>\u001b[1;34m\u001b[0m\n\u001b[1;32m----> 1\u001b[1;33m \u001b[0mprint_tweets\u001b[0m\u001b[1;33m(\u001b[0m\u001b[0mtweet\u001b[0m\u001b[1;33m)\u001b[0m\u001b[1;33m\u001b[0m\u001b[1;33m\u001b[0m\u001b[0m\n\u001b[0m",
      "\u001b[1;31mNameError\u001b[0m: name 'print_tweets' is not defined"
     ]
    }
   ],
   "source": [
    "print_tweets(tweet)"
   ]
  },
  {
   "cell_type": "code",
   "execution_count": 47,
   "id": "eb648aae-06d5-4f85-9f8f-69b1a7f29ae2",
   "metadata": {},
   "outputs": [
    {
     "ename": "TweepError",
     "evalue": "Failed to send request: HTTPSConnectionPool(host='api.twitter.com', port=443): Max retries exceeded with url: /1.1/search/tweets.json?q=from%3Anasa+since%3A2022%2F02%2F20%2Ccount%3D3 (Caused by NewConnectionError('<urllib3.connection.HTTPSConnection object at 0x0000028C11757220>: Failed to establish a new connection: [Errno 11001] getaddrinfo failed'))",
     "output_type": "error",
     "traceback": [
      "\u001b[1;31m---------------------------------------------------------------------------\u001b[0m",
      "\u001b[1;31mgaierror\u001b[0m                                  Traceback (most recent call last)",
      "\u001b[1;32m~\\anaconda3\\anaconda\\lib\\site-packages\\urllib3\\connection.py\u001b[0m in \u001b[0;36m_new_conn\u001b[1;34m(self)\u001b[0m\n\u001b[0;32m    173\u001b[0m         \u001b[1;32mtry\u001b[0m\u001b[1;33m:\u001b[0m\u001b[1;33m\u001b[0m\u001b[1;33m\u001b[0m\u001b[0m\n\u001b[1;32m--> 174\u001b[1;33m             conn = connection.create_connection(\n\u001b[0m\u001b[0;32m    175\u001b[0m                 \u001b[1;33m(\u001b[0m\u001b[0mself\u001b[0m\u001b[1;33m.\u001b[0m\u001b[0m_dns_host\u001b[0m\u001b[1;33m,\u001b[0m \u001b[0mself\u001b[0m\u001b[1;33m.\u001b[0m\u001b[0mport\u001b[0m\u001b[1;33m)\u001b[0m\u001b[1;33m,\u001b[0m \u001b[0mself\u001b[0m\u001b[1;33m.\u001b[0m\u001b[0mtimeout\u001b[0m\u001b[1;33m,\u001b[0m \u001b[1;33m**\u001b[0m\u001b[0mextra_kw\u001b[0m\u001b[1;33m\u001b[0m\u001b[1;33m\u001b[0m\u001b[0m\n",
      "\u001b[1;32m~\\anaconda3\\anaconda\\lib\\site-packages\\urllib3\\util\\connection.py\u001b[0m in \u001b[0;36mcreate_connection\u001b[1;34m(address, timeout, source_address, socket_options)\u001b[0m\n\u001b[0;32m     72\u001b[0m \u001b[1;33m\u001b[0m\u001b[0m\n\u001b[1;32m---> 73\u001b[1;33m     \u001b[1;32mfor\u001b[0m \u001b[0mres\u001b[0m \u001b[1;32min\u001b[0m \u001b[0msocket\u001b[0m\u001b[1;33m.\u001b[0m\u001b[0mgetaddrinfo\u001b[0m\u001b[1;33m(\u001b[0m\u001b[0mhost\u001b[0m\u001b[1;33m,\u001b[0m \u001b[0mport\u001b[0m\u001b[1;33m,\u001b[0m \u001b[0mfamily\u001b[0m\u001b[1;33m,\u001b[0m \u001b[0msocket\u001b[0m\u001b[1;33m.\u001b[0m\u001b[0mSOCK_STREAM\u001b[0m\u001b[1;33m)\u001b[0m\u001b[1;33m:\u001b[0m\u001b[1;33m\u001b[0m\u001b[1;33m\u001b[0m\u001b[0m\n\u001b[0m\u001b[0;32m     74\u001b[0m         \u001b[0maf\u001b[0m\u001b[1;33m,\u001b[0m \u001b[0msocktype\u001b[0m\u001b[1;33m,\u001b[0m \u001b[0mproto\u001b[0m\u001b[1;33m,\u001b[0m \u001b[0mcanonname\u001b[0m\u001b[1;33m,\u001b[0m \u001b[0msa\u001b[0m \u001b[1;33m=\u001b[0m \u001b[0mres\u001b[0m\u001b[1;33m\u001b[0m\u001b[1;33m\u001b[0m\u001b[0m\n",
      "\u001b[1;32m~\\anaconda3\\anaconda\\lib\\socket.py\u001b[0m in \u001b[0;36mgetaddrinfo\u001b[1;34m(host, port, family, type, proto, flags)\u001b[0m\n\u001b[0;32m    953\u001b[0m     \u001b[0maddrlist\u001b[0m \u001b[1;33m=\u001b[0m \u001b[1;33m[\u001b[0m\u001b[1;33m]\u001b[0m\u001b[1;33m\u001b[0m\u001b[1;33m\u001b[0m\u001b[0m\n\u001b[1;32m--> 954\u001b[1;33m     \u001b[1;32mfor\u001b[0m \u001b[0mres\u001b[0m \u001b[1;32min\u001b[0m \u001b[0m_socket\u001b[0m\u001b[1;33m.\u001b[0m\u001b[0mgetaddrinfo\u001b[0m\u001b[1;33m(\u001b[0m\u001b[0mhost\u001b[0m\u001b[1;33m,\u001b[0m \u001b[0mport\u001b[0m\u001b[1;33m,\u001b[0m \u001b[0mfamily\u001b[0m\u001b[1;33m,\u001b[0m \u001b[0mtype\u001b[0m\u001b[1;33m,\u001b[0m \u001b[0mproto\u001b[0m\u001b[1;33m,\u001b[0m \u001b[0mflags\u001b[0m\u001b[1;33m)\u001b[0m\u001b[1;33m:\u001b[0m\u001b[1;33m\u001b[0m\u001b[1;33m\u001b[0m\u001b[0m\n\u001b[0m\u001b[0;32m    955\u001b[0m         \u001b[0maf\u001b[0m\u001b[1;33m,\u001b[0m \u001b[0msocktype\u001b[0m\u001b[1;33m,\u001b[0m \u001b[0mproto\u001b[0m\u001b[1;33m,\u001b[0m \u001b[0mcanonname\u001b[0m\u001b[1;33m,\u001b[0m \u001b[0msa\u001b[0m \u001b[1;33m=\u001b[0m \u001b[0mres\u001b[0m\u001b[1;33m\u001b[0m\u001b[1;33m\u001b[0m\u001b[0m\n",
      "\u001b[1;31mgaierror\u001b[0m: [Errno 11001] getaddrinfo failed",
      "\nDuring handling of the above exception, another exception occurred:\n",
      "\u001b[1;31mNewConnectionError\u001b[0m                        Traceback (most recent call last)",
      "\u001b[1;32m~\\anaconda3\\anaconda\\lib\\site-packages\\urllib3\\connectionpool.py\u001b[0m in \u001b[0;36murlopen\u001b[1;34m(self, method, url, body, headers, retries, redirect, assert_same_host, timeout, pool_timeout, release_conn, chunked, body_pos, **response_kw)\u001b[0m\n\u001b[0;32m    698\u001b[0m             \u001b[1;31m# Make the request on the httplib connection object.\u001b[0m\u001b[1;33m\u001b[0m\u001b[1;33m\u001b[0m\u001b[0m\n\u001b[1;32m--> 699\u001b[1;33m             httplib_response = self._make_request(\n\u001b[0m\u001b[0;32m    700\u001b[0m                 \u001b[0mconn\u001b[0m\u001b[1;33m,\u001b[0m\u001b[1;33m\u001b[0m\u001b[1;33m\u001b[0m\u001b[0m\n",
      "\u001b[1;32m~\\anaconda3\\anaconda\\lib\\site-packages\\urllib3\\connectionpool.py\u001b[0m in \u001b[0;36m_make_request\u001b[1;34m(self, conn, method, url, timeout, chunked, **httplib_request_kw)\u001b[0m\n\u001b[0;32m    381\u001b[0m         \u001b[1;32mtry\u001b[0m\u001b[1;33m:\u001b[0m\u001b[1;33m\u001b[0m\u001b[1;33m\u001b[0m\u001b[0m\n\u001b[1;32m--> 382\u001b[1;33m             \u001b[0mself\u001b[0m\u001b[1;33m.\u001b[0m\u001b[0m_validate_conn\u001b[0m\u001b[1;33m(\u001b[0m\u001b[0mconn\u001b[0m\u001b[1;33m)\u001b[0m\u001b[1;33m\u001b[0m\u001b[1;33m\u001b[0m\u001b[0m\n\u001b[0m\u001b[0;32m    383\u001b[0m         \u001b[1;32mexcept\u001b[0m \u001b[1;33m(\u001b[0m\u001b[0mSocketTimeout\u001b[0m\u001b[1;33m,\u001b[0m \u001b[0mBaseSSLError\u001b[0m\u001b[1;33m)\u001b[0m \u001b[1;32mas\u001b[0m \u001b[0me\u001b[0m\u001b[1;33m:\u001b[0m\u001b[1;33m\u001b[0m\u001b[1;33m\u001b[0m\u001b[0m\n",
      "\u001b[1;32m~\\anaconda3\\anaconda\\lib\\site-packages\\urllib3\\connectionpool.py\u001b[0m in \u001b[0;36m_validate_conn\u001b[1;34m(self, conn)\u001b[0m\n\u001b[0;32m   1009\u001b[0m         \u001b[1;32mif\u001b[0m \u001b[1;32mnot\u001b[0m \u001b[0mgetattr\u001b[0m\u001b[1;33m(\u001b[0m\u001b[0mconn\u001b[0m\u001b[1;33m,\u001b[0m \u001b[1;34m\"sock\"\u001b[0m\u001b[1;33m,\u001b[0m \u001b[1;32mNone\u001b[0m\u001b[1;33m)\u001b[0m\u001b[1;33m:\u001b[0m  \u001b[1;31m# AppEngine might not have  `.sock`\u001b[0m\u001b[1;33m\u001b[0m\u001b[1;33m\u001b[0m\u001b[0m\n\u001b[1;32m-> 1010\u001b[1;33m             \u001b[0mconn\u001b[0m\u001b[1;33m.\u001b[0m\u001b[0mconnect\u001b[0m\u001b[1;33m(\u001b[0m\u001b[1;33m)\u001b[0m\u001b[1;33m\u001b[0m\u001b[1;33m\u001b[0m\u001b[0m\n\u001b[0m\u001b[0;32m   1011\u001b[0m \u001b[1;33m\u001b[0m\u001b[0m\n",
      "\u001b[1;32m~\\anaconda3\\anaconda\\lib\\site-packages\\urllib3\\connection.py\u001b[0m in \u001b[0;36mconnect\u001b[1;34m(self)\u001b[0m\n\u001b[0;32m    357\u001b[0m         \u001b[1;31m# Add certificate verification\u001b[0m\u001b[1;33m\u001b[0m\u001b[1;33m\u001b[0m\u001b[0m\n\u001b[1;32m--> 358\u001b[1;33m         \u001b[0mconn\u001b[0m \u001b[1;33m=\u001b[0m \u001b[0mself\u001b[0m\u001b[1;33m.\u001b[0m\u001b[0m_new_conn\u001b[0m\u001b[1;33m(\u001b[0m\u001b[1;33m)\u001b[0m\u001b[1;33m\u001b[0m\u001b[1;33m\u001b[0m\u001b[0m\n\u001b[0m\u001b[0;32m    359\u001b[0m         \u001b[0mhostname\u001b[0m \u001b[1;33m=\u001b[0m \u001b[0mself\u001b[0m\u001b[1;33m.\u001b[0m\u001b[0mhost\u001b[0m\u001b[1;33m\u001b[0m\u001b[1;33m\u001b[0m\u001b[0m\n",
      "\u001b[1;32m~\\anaconda3\\anaconda\\lib\\site-packages\\urllib3\\connection.py\u001b[0m in \u001b[0;36m_new_conn\u001b[1;34m(self)\u001b[0m\n\u001b[0;32m    185\u001b[0m         \u001b[1;32mexcept\u001b[0m \u001b[0mSocketError\u001b[0m \u001b[1;32mas\u001b[0m \u001b[0me\u001b[0m\u001b[1;33m:\u001b[0m\u001b[1;33m\u001b[0m\u001b[1;33m\u001b[0m\u001b[0m\n\u001b[1;32m--> 186\u001b[1;33m             raise NewConnectionError(\n\u001b[0m\u001b[0;32m    187\u001b[0m                 \u001b[0mself\u001b[0m\u001b[1;33m,\u001b[0m \u001b[1;34m\"Failed to establish a new connection: %s\"\u001b[0m \u001b[1;33m%\u001b[0m \u001b[0me\u001b[0m\u001b[1;33m\u001b[0m\u001b[1;33m\u001b[0m\u001b[0m\n",
      "\u001b[1;31mNewConnectionError\u001b[0m: <urllib3.connection.HTTPSConnection object at 0x0000028C11757220>: Failed to establish a new connection: [Errno 11001] getaddrinfo failed",
      "\nDuring handling of the above exception, another exception occurred:\n",
      "\u001b[1;31mMaxRetryError\u001b[0m                             Traceback (most recent call last)",
      "\u001b[1;32m~\\anaconda3\\anaconda\\lib\\site-packages\\requests\\adapters.py\u001b[0m in \u001b[0;36msend\u001b[1;34m(self, request, stream, timeout, verify, cert, proxies)\u001b[0m\n\u001b[0;32m    438\u001b[0m             \u001b[1;32mif\u001b[0m \u001b[1;32mnot\u001b[0m \u001b[0mchunked\u001b[0m\u001b[1;33m:\u001b[0m\u001b[1;33m\u001b[0m\u001b[1;33m\u001b[0m\u001b[0m\n\u001b[1;32m--> 439\u001b[1;33m                 resp = conn.urlopen(\n\u001b[0m\u001b[0;32m    440\u001b[0m                     \u001b[0mmethod\u001b[0m\u001b[1;33m=\u001b[0m\u001b[0mrequest\u001b[0m\u001b[1;33m.\u001b[0m\u001b[0mmethod\u001b[0m\u001b[1;33m,\u001b[0m\u001b[1;33m\u001b[0m\u001b[1;33m\u001b[0m\u001b[0m\n",
      "\u001b[1;32m~\\anaconda3\\anaconda\\lib\\site-packages\\urllib3\\connectionpool.py\u001b[0m in \u001b[0;36murlopen\u001b[1;34m(self, method, url, body, headers, retries, redirect, assert_same_host, timeout, pool_timeout, release_conn, chunked, body_pos, **response_kw)\u001b[0m\n\u001b[0;32m    754\u001b[0m \u001b[1;33m\u001b[0m\u001b[0m\n\u001b[1;32m--> 755\u001b[1;33m             retries = retries.increment(\n\u001b[0m\u001b[0;32m    756\u001b[0m                 \u001b[0mmethod\u001b[0m\u001b[1;33m,\u001b[0m \u001b[0murl\u001b[0m\u001b[1;33m,\u001b[0m \u001b[0merror\u001b[0m\u001b[1;33m=\u001b[0m\u001b[0me\u001b[0m\u001b[1;33m,\u001b[0m \u001b[0m_pool\u001b[0m\u001b[1;33m=\u001b[0m\u001b[0mself\u001b[0m\u001b[1;33m,\u001b[0m \u001b[0m_stacktrace\u001b[0m\u001b[1;33m=\u001b[0m\u001b[0msys\u001b[0m\u001b[1;33m.\u001b[0m\u001b[0mexc_info\u001b[0m\u001b[1;33m(\u001b[0m\u001b[1;33m)\u001b[0m\u001b[1;33m[\u001b[0m\u001b[1;36m2\u001b[0m\u001b[1;33m]\u001b[0m\u001b[1;33m\u001b[0m\u001b[1;33m\u001b[0m\u001b[0m\n",
      "\u001b[1;32m~\\anaconda3\\anaconda\\lib\\site-packages\\urllib3\\util\\retry.py\u001b[0m in \u001b[0;36mincrement\u001b[1;34m(self, method, url, response, error, _pool, _stacktrace)\u001b[0m\n\u001b[0;32m    573\u001b[0m         \u001b[1;32mif\u001b[0m \u001b[0mnew_retry\u001b[0m\u001b[1;33m.\u001b[0m\u001b[0mis_exhausted\u001b[0m\u001b[1;33m(\u001b[0m\u001b[1;33m)\u001b[0m\u001b[1;33m:\u001b[0m\u001b[1;33m\u001b[0m\u001b[1;33m\u001b[0m\u001b[0m\n\u001b[1;32m--> 574\u001b[1;33m             \u001b[1;32mraise\u001b[0m \u001b[0mMaxRetryError\u001b[0m\u001b[1;33m(\u001b[0m\u001b[0m_pool\u001b[0m\u001b[1;33m,\u001b[0m \u001b[0murl\u001b[0m\u001b[1;33m,\u001b[0m \u001b[0merror\u001b[0m \u001b[1;32mor\u001b[0m \u001b[0mResponseError\u001b[0m\u001b[1;33m(\u001b[0m\u001b[0mcause\u001b[0m\u001b[1;33m)\u001b[0m\u001b[1;33m)\u001b[0m\u001b[1;33m\u001b[0m\u001b[1;33m\u001b[0m\u001b[0m\n\u001b[0m\u001b[0;32m    575\u001b[0m \u001b[1;33m\u001b[0m\u001b[0m\n",
      "\u001b[1;31mMaxRetryError\u001b[0m: HTTPSConnectionPool(host='api.twitter.com', port=443): Max retries exceeded with url: /1.1/search/tweets.json?q=from%3Anasa+since%3A2022%2F02%2F20%2Ccount%3D3 (Caused by NewConnectionError('<urllib3.connection.HTTPSConnection object at 0x0000028C11757220>: Failed to establish a new connection: [Errno 11001] getaddrinfo failed'))",
      "\nDuring handling of the above exception, another exception occurred:\n",
      "\u001b[1;31mConnectionError\u001b[0m                           Traceback (most recent call last)",
      "\u001b[1;32m~\\anaconda3\\anaconda\\lib\\site-packages\\tweepy\\binder.py\u001b[0m in \u001b[0;36mexecute\u001b[1;34m(self)\u001b[0m\n\u001b[0;32m    184\u001b[0m                 \u001b[1;32mtry\u001b[0m\u001b[1;33m:\u001b[0m\u001b[1;33m\u001b[0m\u001b[1;33m\u001b[0m\u001b[0m\n\u001b[1;32m--> 185\u001b[1;33m                     resp = self.session.request(self.method,\n\u001b[0m\u001b[0;32m    186\u001b[0m                                                 \u001b[0mfull_url\u001b[0m\u001b[1;33m,\u001b[0m\u001b[1;33m\u001b[0m\u001b[1;33m\u001b[0m\u001b[0m\n",
      "\u001b[1;32m~\\anaconda3\\anaconda\\lib\\site-packages\\requests\\sessions.py\u001b[0m in \u001b[0;36mrequest\u001b[1;34m(self, method, url, params, data, headers, cookies, files, auth, timeout, allow_redirects, proxies, hooks, stream, verify, cert, json)\u001b[0m\n\u001b[0;32m    541\u001b[0m         \u001b[0msend_kwargs\u001b[0m\u001b[1;33m.\u001b[0m\u001b[0mupdate\u001b[0m\u001b[1;33m(\u001b[0m\u001b[0msettings\u001b[0m\u001b[1;33m)\u001b[0m\u001b[1;33m\u001b[0m\u001b[1;33m\u001b[0m\u001b[0m\n\u001b[1;32m--> 542\u001b[1;33m         \u001b[0mresp\u001b[0m \u001b[1;33m=\u001b[0m \u001b[0mself\u001b[0m\u001b[1;33m.\u001b[0m\u001b[0msend\u001b[0m\u001b[1;33m(\u001b[0m\u001b[0mprep\u001b[0m\u001b[1;33m,\u001b[0m \u001b[1;33m**\u001b[0m\u001b[0msend_kwargs\u001b[0m\u001b[1;33m)\u001b[0m\u001b[1;33m\u001b[0m\u001b[1;33m\u001b[0m\u001b[0m\n\u001b[0m\u001b[0;32m    543\u001b[0m \u001b[1;33m\u001b[0m\u001b[0m\n",
      "\u001b[1;32m~\\anaconda3\\anaconda\\lib\\site-packages\\requests\\sessions.py\u001b[0m in \u001b[0;36msend\u001b[1;34m(self, request, **kwargs)\u001b[0m\n\u001b[0;32m    654\u001b[0m         \u001b[1;31m# Send the request\u001b[0m\u001b[1;33m\u001b[0m\u001b[1;33m\u001b[0m\u001b[0m\n\u001b[1;32m--> 655\u001b[1;33m         \u001b[0mr\u001b[0m \u001b[1;33m=\u001b[0m \u001b[0madapter\u001b[0m\u001b[1;33m.\u001b[0m\u001b[0msend\u001b[0m\u001b[1;33m(\u001b[0m\u001b[0mrequest\u001b[0m\u001b[1;33m,\u001b[0m \u001b[1;33m**\u001b[0m\u001b[0mkwargs\u001b[0m\u001b[1;33m)\u001b[0m\u001b[1;33m\u001b[0m\u001b[1;33m\u001b[0m\u001b[0m\n\u001b[0m\u001b[0;32m    656\u001b[0m \u001b[1;33m\u001b[0m\u001b[0m\n",
      "\u001b[1;32m~\\anaconda3\\anaconda\\lib\\site-packages\\requests\\adapters.py\u001b[0m in \u001b[0;36msend\u001b[1;34m(self, request, stream, timeout, verify, cert, proxies)\u001b[0m\n\u001b[0;32m    515\u001b[0m \u001b[1;33m\u001b[0m\u001b[0m\n\u001b[1;32m--> 516\u001b[1;33m             \u001b[1;32mraise\u001b[0m \u001b[0mConnectionError\u001b[0m\u001b[1;33m(\u001b[0m\u001b[0me\u001b[0m\u001b[1;33m,\u001b[0m \u001b[0mrequest\u001b[0m\u001b[1;33m=\u001b[0m\u001b[0mrequest\u001b[0m\u001b[1;33m)\u001b[0m\u001b[1;33m\u001b[0m\u001b[1;33m\u001b[0m\u001b[0m\n\u001b[0m\u001b[0;32m    517\u001b[0m \u001b[1;33m\u001b[0m\u001b[0m\n",
      "\u001b[1;31mConnectionError\u001b[0m: HTTPSConnectionPool(host='api.twitter.com', port=443): Max retries exceeded with url: /1.1/search/tweets.json?q=from%3Anasa+since%3A2022%2F02%2F20%2Ccount%3D3 (Caused by NewConnectionError('<urllib3.connection.HTTPSConnection object at 0x0000028C11757220>: Failed to establish a new connection: [Errno 11001] getaddrinfo failed'))",
      "\nDuring handling of the above exception, another exception occurred:\n",
      "\u001b[1;31mTweepError\u001b[0m                                Traceback (most recent call last)",
      "\u001b[1;32m~\\AppData\\Local\\Temp/ipykernel_2112/2738395457.py\u001b[0m in \u001b[0;36m<module>\u001b[1;34m\u001b[0m\n\u001b[1;32m----> 1\u001b[1;33m \u001b[0mtweets\u001b[0m \u001b[1;33m=\u001b[0m\u001b[0mapi\u001b[0m\u001b[1;33m.\u001b[0m\u001b[0msearch\u001b[0m\u001b[1;33m(\u001b[0m\u001b[0mq\u001b[0m\u001b[1;33m=\u001b[0m\u001b[1;34m'from:nasa since:2022/02/20,count=3'\u001b[0m\u001b[1;33m)\u001b[0m\u001b[1;33m\u001b[0m\u001b[1;33m\u001b[0m\u001b[0m\n\u001b[0m",
      "\u001b[1;32m~\\anaconda3\\anaconda\\lib\\site-packages\\tweepy\\binder.py\u001b[0m in \u001b[0;36m_call\u001b[1;34m(*args, **kwargs)\u001b[0m\n\u001b[0;32m    248\u001b[0m             \u001b[1;32mreturn\u001b[0m \u001b[0mmethod\u001b[0m\u001b[1;33m\u001b[0m\u001b[1;33m\u001b[0m\u001b[0m\n\u001b[0;32m    249\u001b[0m         \u001b[1;32melse\u001b[0m\u001b[1;33m:\u001b[0m\u001b[1;33m\u001b[0m\u001b[1;33m\u001b[0m\u001b[0m\n\u001b[1;32m--> 250\u001b[1;33m             \u001b[1;32mreturn\u001b[0m \u001b[0mmethod\u001b[0m\u001b[1;33m.\u001b[0m\u001b[0mexecute\u001b[0m\u001b[1;33m(\u001b[0m\u001b[1;33m)\u001b[0m\u001b[1;33m\u001b[0m\u001b[1;33m\u001b[0m\u001b[0m\n\u001b[0m\u001b[0;32m    251\u001b[0m \u001b[1;33m\u001b[0m\u001b[0m\n\u001b[0;32m    252\u001b[0m     \u001b[1;31m# Set pagination mode\u001b[0m\u001b[1;33m\u001b[0m\u001b[1;33m\u001b[0m\u001b[0m\n",
      "\u001b[1;32m~\\anaconda3\\anaconda\\lib\\site-packages\\tweepy\\binder.py\u001b[0m in \u001b[0;36mexecute\u001b[1;34m(self)\u001b[0m\n\u001b[0;32m    190\u001b[0m                                                 proxies=self.api.proxy)\n\u001b[0;32m    191\u001b[0m                 \u001b[1;32mexcept\u001b[0m \u001b[0mException\u001b[0m \u001b[1;32mas\u001b[0m \u001b[0me\u001b[0m\u001b[1;33m:\u001b[0m\u001b[1;33m\u001b[0m\u001b[1;33m\u001b[0m\u001b[0m\n\u001b[1;32m--> 192\u001b[1;33m                     \u001b[0msix\u001b[0m\u001b[1;33m.\u001b[0m\u001b[0mreraise\u001b[0m\u001b[1;33m(\u001b[0m\u001b[0mTweepError\u001b[0m\u001b[1;33m,\u001b[0m \u001b[0mTweepError\u001b[0m\u001b[1;33m(\u001b[0m\u001b[1;34m'Failed to send request: %s'\u001b[0m \u001b[1;33m%\u001b[0m \u001b[0me\u001b[0m\u001b[1;33m)\u001b[0m\u001b[1;33m,\u001b[0m \u001b[0msys\u001b[0m\u001b[1;33m.\u001b[0m\u001b[0mexc_info\u001b[0m\u001b[1;33m(\u001b[0m\u001b[1;33m)\u001b[0m\u001b[1;33m[\u001b[0m\u001b[1;36m2\u001b[0m\u001b[1;33m]\u001b[0m\u001b[1;33m)\u001b[0m\u001b[1;33m\u001b[0m\u001b[1;33m\u001b[0m\u001b[0m\n\u001b[0m\u001b[0;32m    193\u001b[0m \u001b[1;33m\u001b[0m\u001b[0m\n\u001b[0;32m    194\u001b[0m                 \u001b[0mrem_calls\u001b[0m \u001b[1;33m=\u001b[0m \u001b[0mresp\u001b[0m\u001b[1;33m.\u001b[0m\u001b[0mheaders\u001b[0m\u001b[1;33m.\u001b[0m\u001b[0mget\u001b[0m\u001b[1;33m(\u001b[0m\u001b[1;34m'x-rate-limit-remaining'\u001b[0m\u001b[1;33m)\u001b[0m\u001b[1;33m\u001b[0m\u001b[1;33m\u001b[0m\u001b[0m\n",
      "\u001b[1;32m~\\anaconda3\\anaconda\\lib\\site-packages\\six.py\u001b[0m in \u001b[0;36mreraise\u001b[1;34m(tp, value, tb)\u001b[0m\n\u001b[0;32m    716\u001b[0m                 \u001b[0mvalue\u001b[0m \u001b[1;33m=\u001b[0m \u001b[0mtp\u001b[0m\u001b[1;33m(\u001b[0m\u001b[1;33m)\u001b[0m\u001b[1;33m\u001b[0m\u001b[1;33m\u001b[0m\u001b[0m\n\u001b[0;32m    717\u001b[0m             \u001b[1;32mif\u001b[0m \u001b[0mvalue\u001b[0m\u001b[1;33m.\u001b[0m\u001b[0m__traceback__\u001b[0m \u001b[1;32mis\u001b[0m \u001b[1;32mnot\u001b[0m \u001b[0mtb\u001b[0m\u001b[1;33m:\u001b[0m\u001b[1;33m\u001b[0m\u001b[1;33m\u001b[0m\u001b[0m\n\u001b[1;32m--> 718\u001b[1;33m                 \u001b[1;32mraise\u001b[0m \u001b[0mvalue\u001b[0m\u001b[1;33m.\u001b[0m\u001b[0mwith_traceback\u001b[0m\u001b[1;33m(\u001b[0m\u001b[0mtb\u001b[0m\u001b[1;33m)\u001b[0m\u001b[1;33m\u001b[0m\u001b[1;33m\u001b[0m\u001b[0m\n\u001b[0m\u001b[0;32m    719\u001b[0m             \u001b[1;32mraise\u001b[0m \u001b[0mvalue\u001b[0m\u001b[1;33m\u001b[0m\u001b[1;33m\u001b[0m\u001b[0m\n\u001b[0;32m    720\u001b[0m         \u001b[1;32mfinally\u001b[0m\u001b[1;33m:\u001b[0m\u001b[1;33m\u001b[0m\u001b[1;33m\u001b[0m\u001b[0m\n",
      "\u001b[1;32m~\\anaconda3\\anaconda\\lib\\site-packages\\tweepy\\binder.py\u001b[0m in \u001b[0;36mexecute\u001b[1;34m(self)\u001b[0m\n\u001b[0;32m    183\u001b[0m                 \u001b[1;31m# Execute request\u001b[0m\u001b[1;33m\u001b[0m\u001b[1;33m\u001b[0m\u001b[0m\n\u001b[0;32m    184\u001b[0m                 \u001b[1;32mtry\u001b[0m\u001b[1;33m:\u001b[0m\u001b[1;33m\u001b[0m\u001b[1;33m\u001b[0m\u001b[0m\n\u001b[1;32m--> 185\u001b[1;33m                     resp = self.session.request(self.method,\n\u001b[0m\u001b[0;32m    186\u001b[0m                                                 \u001b[0mfull_url\u001b[0m\u001b[1;33m,\u001b[0m\u001b[1;33m\u001b[0m\u001b[1;33m\u001b[0m\u001b[0m\n\u001b[0;32m    187\u001b[0m                                                 \u001b[0mdata\u001b[0m\u001b[1;33m=\u001b[0m\u001b[0mself\u001b[0m\u001b[1;33m.\u001b[0m\u001b[0mpost_data\u001b[0m\u001b[1;33m,\u001b[0m\u001b[1;33m\u001b[0m\u001b[1;33m\u001b[0m\u001b[0m\n",
      "\u001b[1;32m~\\anaconda3\\anaconda\\lib\\site-packages\\requests\\sessions.py\u001b[0m in \u001b[0;36mrequest\u001b[1;34m(self, method, url, params, data, headers, cookies, files, auth, timeout, allow_redirects, proxies, hooks, stream, verify, cert, json)\u001b[0m\n\u001b[0;32m    540\u001b[0m         }\n\u001b[0;32m    541\u001b[0m         \u001b[0msend_kwargs\u001b[0m\u001b[1;33m.\u001b[0m\u001b[0mupdate\u001b[0m\u001b[1;33m(\u001b[0m\u001b[0msettings\u001b[0m\u001b[1;33m)\u001b[0m\u001b[1;33m\u001b[0m\u001b[1;33m\u001b[0m\u001b[0m\n\u001b[1;32m--> 542\u001b[1;33m         \u001b[0mresp\u001b[0m \u001b[1;33m=\u001b[0m \u001b[0mself\u001b[0m\u001b[1;33m.\u001b[0m\u001b[0msend\u001b[0m\u001b[1;33m(\u001b[0m\u001b[0mprep\u001b[0m\u001b[1;33m,\u001b[0m \u001b[1;33m**\u001b[0m\u001b[0msend_kwargs\u001b[0m\u001b[1;33m)\u001b[0m\u001b[1;33m\u001b[0m\u001b[1;33m\u001b[0m\u001b[0m\n\u001b[0m\u001b[0;32m    543\u001b[0m \u001b[1;33m\u001b[0m\u001b[0m\n\u001b[0;32m    544\u001b[0m         \u001b[1;32mreturn\u001b[0m \u001b[0mresp\u001b[0m\u001b[1;33m\u001b[0m\u001b[1;33m\u001b[0m\u001b[0m\n",
      "\u001b[1;32m~\\anaconda3\\anaconda\\lib\\site-packages\\requests\\sessions.py\u001b[0m in \u001b[0;36msend\u001b[1;34m(self, request, **kwargs)\u001b[0m\n\u001b[0;32m    653\u001b[0m \u001b[1;33m\u001b[0m\u001b[0m\n\u001b[0;32m    654\u001b[0m         \u001b[1;31m# Send the request\u001b[0m\u001b[1;33m\u001b[0m\u001b[1;33m\u001b[0m\u001b[0m\n\u001b[1;32m--> 655\u001b[1;33m         \u001b[0mr\u001b[0m \u001b[1;33m=\u001b[0m \u001b[0madapter\u001b[0m\u001b[1;33m.\u001b[0m\u001b[0msend\u001b[0m\u001b[1;33m(\u001b[0m\u001b[0mrequest\u001b[0m\u001b[1;33m,\u001b[0m \u001b[1;33m**\u001b[0m\u001b[0mkwargs\u001b[0m\u001b[1;33m)\u001b[0m\u001b[1;33m\u001b[0m\u001b[1;33m\u001b[0m\u001b[0m\n\u001b[0m\u001b[0;32m    656\u001b[0m \u001b[1;33m\u001b[0m\u001b[0m\n\u001b[0;32m    657\u001b[0m         \u001b[1;31m# Total elapsed time of the request (approximately)\u001b[0m\u001b[1;33m\u001b[0m\u001b[1;33m\u001b[0m\u001b[0m\n",
      "\u001b[1;32m~\\anaconda3\\anaconda\\lib\\site-packages\\requests\\adapters.py\u001b[0m in \u001b[0;36msend\u001b[1;34m(self, request, stream, timeout, verify, cert, proxies)\u001b[0m\n\u001b[0;32m    514\u001b[0m                 \u001b[1;32mraise\u001b[0m \u001b[0mSSLError\u001b[0m\u001b[1;33m(\u001b[0m\u001b[0me\u001b[0m\u001b[1;33m,\u001b[0m \u001b[0mrequest\u001b[0m\u001b[1;33m=\u001b[0m\u001b[0mrequest\u001b[0m\u001b[1;33m)\u001b[0m\u001b[1;33m\u001b[0m\u001b[1;33m\u001b[0m\u001b[0m\n\u001b[0;32m    515\u001b[0m \u001b[1;33m\u001b[0m\u001b[0m\n\u001b[1;32m--> 516\u001b[1;33m             \u001b[1;32mraise\u001b[0m \u001b[0mConnectionError\u001b[0m\u001b[1;33m(\u001b[0m\u001b[0me\u001b[0m\u001b[1;33m,\u001b[0m \u001b[0mrequest\u001b[0m\u001b[1;33m=\u001b[0m\u001b[0mrequest\u001b[0m\u001b[1;33m)\u001b[0m\u001b[1;33m\u001b[0m\u001b[1;33m\u001b[0m\u001b[0m\n\u001b[0m\u001b[0;32m    517\u001b[0m \u001b[1;33m\u001b[0m\u001b[0m\n\u001b[0;32m    518\u001b[0m         \u001b[1;32mexcept\u001b[0m \u001b[0mClosedPoolError\u001b[0m \u001b[1;32mas\u001b[0m \u001b[0me\u001b[0m\u001b[1;33m:\u001b[0m\u001b[1;33m\u001b[0m\u001b[1;33m\u001b[0m\u001b[0m\n",
      "\u001b[1;31mTweepError\u001b[0m: Failed to send request: HTTPSConnectionPool(host='api.twitter.com', port=443): Max retries exceeded with url: /1.1/search/tweets.json?q=from%3Anasa+since%3A2022%2F02%2F20%2Ccount%3D3 (Caused by NewConnectionError('<urllib3.connection.HTTPSConnection object at 0x0000028C11757220>: Failed to establish a new connection: [Errno 11001] getaddrinfo failed'))"
     ]
    }
   ],
   "source": [
    "tweets =api.search(q='from:nasa since:2022/02/20,count=3')"
   ]
  },
  {
   "cell_type": "code",
   "execution_count": null,
   "id": "ed548479-ed7f-4623-9b2e-bd8231c08ff5",
   "metadata": {},
   "outputs": [],
   "source": [
    "print_tweets(tweets"
   ]
  },
  {
   "cell_type": "code",
   "execution_count": 48,
   "id": "36d33678-9f57-4b53-b995-5b35df69e434",
   "metadata": {},
   "outputs": [
    {
     "data": {
      "text/plain": [
       "11348282"
      ]
     },
     "execution_count": 48,
     "metadata": {},
     "output_type": "execute_result"
    }
   ],
   "source": [
    "nasa.id"
   ]
  },
  {
   "cell_type": "code",
   "execution_count": 55,
   "id": "d6a4ae47-bf6a-4f5e-ad84-903ec21e9cd3",
   "metadata": {},
   "outputs": [],
   "source": [
    "tweets=api.search(q='#collegefootball',count=3)"
   ]
  },
  {
   "cell_type": "code",
   "execution_count": 56,
   "id": "6ec60be5-4260-464e-86a5-4df6930dc4af",
   "metadata": {},
   "outputs": [
    {
     "ename": "SyntaxError",
     "evalue": "invalid syntax (Temp/ipykernel_2112/371127070.py, line 1)",
     "output_type": "error",
     "traceback": [
      "\u001b[1;36m  File \u001b[1;32m\"C:\\Users\\18323\\AppData\\Local\\Temp/ipykernel_2112/371127070.py\"\u001b[1;36m, line \u001b[1;32m1\u001b[0m\n\u001b[1;33m    print_tweets(tweets):\u001b[0m\n\u001b[1;37m                         ^\u001b[0m\n\u001b[1;31mSyntaxError\u001b[0m\u001b[1;31m:\u001b[0m invalid syntax\n"
     ]
    }
   ],
   "source": [
    "print_tweets(tweets):"
   ]
  },
  {
   "cell_type": "code",
   "execution_count": 59,
   "id": "ad8ff542-1b6c-45b7-8ff3-55f246a4880f",
   "metadata": {},
   "outputs": [],
   "source": [
    "def print_tweets(tweets):\n",
    "    for tweet in tweets:\n",
    "        print(f'{tweet.user.screen_name}:', end='')"
   ]
  },
  {
   "cell_type": "code",
   "execution_count": 60,
   "id": "db0d222c-a3ed-4ba3-8839-6e73ab7c201c",
   "metadata": {},
   "outputs": [
    {
     "name": "stdout",
     "output_type": "stream",
     "text": [
      "#Artemis engineers are working through the final closeout tasks for the launch of our upcoming Moon mission.\n",
      "\n",
      "MEDIA… https://t.co/nGIIJWT4Sj\n",
      "\n"
     ]
    }
   ],
   "source": [
    "if 'en' in tweet.lang:\n",
    "    print(f'{tweet.text}\\n')\n",
    "elif 'und' not in tweet.lang:\n",
    "    print(f'\\n ORIGINAL: {tweet.text}')\n",
    "    print(f'TRANSLATED: {TextBlob(tweet.text).translate()}\\n')"
   ]
  },
  {
   "cell_type": "code",
   "execution_count": 61,
   "id": "1f266060-a5f5-4530-bc07-b51dca043471",
   "metadata": {},
   "outputs": [],
   "source": [
    "tweets=api.search(q ='Mars Opportunity Rover', count=3)"
   ]
  },
  {
   "cell_type": "code",
   "execution_count": 62,
   "id": "be8d1867-d742-4a01-b5d2-195fd034615a",
   "metadata": {},
   "outputs": [
    {
     "name": "stdout",
     "output_type": "stream",
     "text": [
      "andresotondo:villman89:itis_matthew:"
     ]
    }
   ],
   "source": [
    "print_tweets(tweets)"
   ]
  },
  {
   "cell_type": "code",
   "execution_count": 74,
   "id": "a6ccf2a4-a4cd-41db-a35f-c042be8cd75a",
   "metadata": {},
   "outputs": [],
   "source": [
    "tweets=api.search(q='Mars Mission', count=3)"
   ]
  },
  {
   "cell_type": "code",
   "execution_count": 75,
   "id": "23580929-3bf5-4344-8716-dc444c79bd46",
   "metadata": {},
   "outputs": [
    {
     "name": "stdout",
     "output_type": "stream",
     "text": [
      "whatadumbtwat:MEDVEDDEV:GbengaJ10544472:"
     ]
    }
   ],
   "source": [
    "print_tweets(tweets)"
   ]
  },
  {
   "cell_type": "code",
   "execution_count": 76,
   "id": "c4c997ed-7fcb-4ad9-abeb-2edb4e37936f",
   "metadata": {},
   "outputs": [],
   "source": [
    "tweets=api.search(q='Pluto', count=5)"
   ]
  },
  {
   "cell_type": "code",
   "execution_count": 77,
   "id": "df231faf-9060-4450-96de-b1dd8c505e35",
   "metadata": {},
   "outputs": [
    {
     "name": "stdout",
     "output_type": "stream",
     "text": [
      "pluto_bro:nicotinesweetea:pluto_rx:Polarluana:emele_notpriv:"
     ]
    }
   ],
   "source": [
    "print_tweets(tweets)"
   ]
  },
  {
   "cell_type": "code",
   "execution_count": 80,
   "id": "3762f805-87a3-4cf4-8d64-60b9e5e3ac6a",
   "metadata": {},
   "outputs": [],
   "source": [
    "tweets=api.search(q='#Nasa', count=5)"
   ]
  },
  {
   "cell_type": "code",
   "execution_count": 81,
   "id": "56c995df-7237-4d0b-80ee-22e40b038644",
   "metadata": {},
   "outputs": [
    {
     "name": "stdout",
     "output_type": "stream",
     "text": [
      "AMY_WORDS:JSMBrandShop:MeditationBot_:EmceeSLIM:alquma18:"
     ]
    }
   ],
   "source": [
    "print_tweets(tweets)"
   ]
  },
  {
   "cell_type": "code",
   "execution_count": 82,
   "id": "83f0d611-94c5-42a2-92e7-86916ab73079",
   "metadata": {},
   "outputs": [],
   "source": [
    "tweets=api.search(q='Medvedev', count=5)"
   ]
  },
  {
   "cell_type": "code",
   "execution_count": 83,
   "id": "cfe8f585-77c9-40e8-8711-30f95ed90b4c",
   "metadata": {},
   "outputs": [
    {
     "name": "stdout",
     "output_type": "stream",
     "text": [
      "journeyheart:rnw_ch:Dorli_Wi:caterinacorda1:kazoo10s:"
     ]
    }
   ],
   "source": [
    "print_tweets(tweets)\n"
   ]
  },
  {
   "cell_type": "code",
   "execution_count": 92,
   "id": "146bd21a-114f-489f-bb49-4bac6fabcc9c",
   "metadata": {},
   "outputs": [],
   "source": [
    "tweets=api.search(q='from: nasa since: 2022-02-02',count=5)"
   ]
  },
  {
   "cell_type": "code",
   "execution_count": 93,
   "id": "d1d35cbe-3c82-408d-bb98-0483fbcd2bca",
   "metadata": {},
   "outputs": [
    {
     "name": "stdout",
     "output_type": "stream",
     "text": [
      "BrianLemaire2:CZH2030:SpaceComExpo:yukinari230:davidFLSTS:"
     ]
    }
   ],
   "source": [
    "print_tweets(tweets)"
   ]
  },
  {
   "cell_type": "code",
   "execution_count": 98,
   "id": "56a1495f-25fa-408d-a2f7-9036562fe571",
   "metadata": {},
   "outputs": [],
   "source": [
    "tweets=api.search(q='#collegefootball')"
   ]
  },
  {
   "cell_type": "code",
   "execution_count": 99,
   "id": "638bdc26-217b-4f1b-bc55-edfa29d29598",
   "metadata": {},
   "outputs": [
    {
     "name": "stdout",
     "output_type": "stream",
     "text": [
      "academics_real2:academics_real2:academics_real2:ImbalanceSports:Rickofjasper:tricks_pix:Esports_1xBet:dctf:dctfCFB:OfficeSutra:_nik_nik_b:CoachZoneEyes:BonnFootball:JillElizabethT:MichaelBonnevi4:"
     ]
    }
   ],
   "source": [
    "print_tweets(tweets)"
   ]
  },
  {
   "cell_type": "code",
   "execution_count": 103,
   "id": "bc7c03cb-9c42-4d36-92cd-ba1c0e5a287c",
   "metadata": {},
   "outputs": [],
   "source": [
    "def get_tweet_content(tweet, location=False):\n",
    "    fields = {}\n",
    "    fields['screen_name'] = tweet.user.screen_name\n",
    "    try:\n",
    "           fields['text'] = tweet.extended_tweet.full_text\n",
    "    except:\n",
    "        fields['text'] = tweet.text\n",
    "    if location:\n",
    "           fields['location'] = tweet.user.location\n",
    "           \n",
    "    return fields"
   ]
  },
  {
   "cell_type": "code",
   "execution_count": 106,
   "id": "99e39fcc-1291-4bf2-919c-16de292aac76",
   "metadata": {},
   "outputs": [],
   "source": [
    "tweets=api.search(q='#collegefootball')"
   ]
  },
  {
   "cell_type": "code",
   "execution_count": 107,
   "id": "0286795d-10c0-4838-a618-e44e6f9ab0da",
   "metadata": {},
   "outputs": [
    {
     "name": "stdout",
     "output_type": "stream",
     "text": [
      "C_F_Nation:academics_real2:academics_real2:academics_real2:ImbalanceSports:Rickofjasper:tricks_pix:Esports_1xBet:dctf:dctfCFB:OfficeSutra:_nik_nik_b:CoachZoneEyes:BonnFootball:"
     ]
    }
   ],
   "source": [
    "print_tweets(tweets)"
   ]
  },
  {
   "cell_type": "code",
   "execution_count": 108,
   "id": "5e982de1-e224-4acb-99e4-7660c5666caa",
   "metadata": {},
   "outputs": [],
   "source": [
    "tweets=api.search(q='#BuffaloBills')"
   ]
  },
  {
   "cell_type": "code",
   "execution_count": 109,
   "id": "756cb8dc-276d-47cd-bcf4-d29be29578d4",
   "metadata": {},
   "outputs": [
    {
     "name": "stdout",
     "output_type": "stream",
     "text": [
      "RonnieEastham:ThePeebcast:topfanscorner:Crimsonchick2:Christi53918195:Crimsonchick2:ryanthomastake:topfanscorner:validusvell:Bud_Rocks:OyerJonathan32:whisper0829:pigeonsofny_nft:"
     ]
    }
   ],
   "source": [
    "print_tweets(tweets)"
   ]
  },
  {
   "cell_type": "code",
   "execution_count": 110,
   "id": "26c1c4cd-3342-4226-b523-4ee0e9d9f816",
   "metadata": {},
   "outputs": [],
   "source": [
    "tweets = api.search('Josh Allen', count=10)"
   ]
  },
  {
   "cell_type": "code",
   "execution_count": 111,
   "id": "f3d537d9-7bc5-4d57-a7ba-1ad18c58ddc5",
   "metadata": {},
   "outputs": [
    {
     "name": "stdout",
     "output_type": "stream",
     "text": [
      "SteveStone4Real:StevenDoBucki72:DoeingTyler:NYeoman:JetsWayPodcast:Nicky6saffire:MaGiC_CiTy_305:charliegfbtl:Mik311:Radioface_88:"
     ]
    }
   ],
   "source": [
    "print_tweets(tweets)"
   ]
  },
  {
   "cell_type": "code",
   "execution_count": 112,
   "id": "c95a824b-ee7b-47c0-b8a0-8a29a13aab17",
   "metadata": {},
   "outputs": [
    {
     "ename": "ModuleNotFoundError",
     "evalue": "No module named 'tweetutilities'",
     "output_type": "error",
     "traceback": [
      "\u001b[1;31m---------------------------------------------------------------------------\u001b[0m",
      "\u001b[1;31mModuleNotFoundError\u001b[0m                       Traceback (most recent call last)",
      "\u001b[1;32m~\\AppData\\Local\\Temp/ipykernel_2112/3723146305.py\u001b[0m in \u001b[0;36m<module>\u001b[1;34m\u001b[0m\n\u001b[1;32m----> 1\u001b[1;33m \u001b[1;32mfrom\u001b[0m \u001b[0mtweetutilities\u001b[0m \u001b[1;32mimport\u001b[0m \u001b[0mprint_tweets\u001b[0m\u001b[1;33m\u001b[0m\u001b[1;33m\u001b[0m\u001b[0m\n\u001b[0m",
      "\u001b[1;31mModuleNotFoundError\u001b[0m: No module named 'tweetutilities'"
     ]
    }
   ],
   "source": [
    "from tweetutilities import print_tweets"
   ]
  },
  {
   "cell_type": "code",
   "execution_count": 113,
   "id": "6889963e-0039-4824-9c78-0f09c39aef25",
   "metadata": {},
   "outputs": [
    {
     "ename": "ModuleNotFoundError",
     "evalue": "No module named 'tweetutilities'",
     "output_type": "error",
     "traceback": [
      "\u001b[1;31m---------------------------------------------------------------------------\u001b[0m",
      "\u001b[1;31mModuleNotFoundError\u001b[0m                       Traceback (most recent call last)",
      "\u001b[1;32m~\\AppData\\Local\\Temp/ipykernel_2112/97899845.py\u001b[0m in \u001b[0;36m<module>\u001b[1;34m\u001b[0m\n\u001b[1;32m----> 1\u001b[1;33m \u001b[1;32mimport\u001b[0m \u001b[0mtweetutilities\u001b[0m\u001b[1;33m\u001b[0m\u001b[1;33m\u001b[0m\u001b[0m\n\u001b[0m",
      "\u001b[1;31mModuleNotFoundError\u001b[0m: No module named 'tweetutilities'"
     ]
    }
   ],
   "source": [
    "import tweetutilities"
   ]
  },
  {
   "cell_type": "code",
   "execution_count": 114,
   "id": "2d229f41-6ca1-49e3-bc31-f6f05a93d2ed",
   "metadata": {},
   "outputs": [
    {
     "name": "stdout",
     "output_type": "stream",
     "text": [
      "Note: you may need to restart the kernel to use updated packages.\n"
     ]
    },
    {
     "name": "stderr",
     "output_type": "stream",
     "text": [
      "ERROR: unknown command \"tweetutilities\"\n",
      "\n"
     ]
    }
   ],
   "source": [
    "pip tweetutilities"
   ]
  },
  {
   "cell_type": "code",
   "execution_count": 115,
   "id": "68f225fd-dd9d-419d-b602-bb5696a8f119",
   "metadata": {},
   "outputs": [],
   "source": [
    "tweet = api.search('Josh Allen', count=10)"
   ]
  },
  {
   "cell_type": "code",
   "execution_count": 119,
   "id": "5492efe8-9d13-40ac-96b3-d9c8e6b34633",
   "metadata": {},
   "outputs": [
    {
     "name": "stdout",
     "output_type": "stream",
     "text": [
      "SteveStone4Real:StevenDoBucki72:DoeingTyler:NYeoman:JetsWayPodcast:Nicky6saffire:MaGiC_CiTy_305:charliegfbtl:Mik311:Radioface_88:"
     ]
    }
   ],
   "source": [
    "print_tweets(tweets)"
   ]
  },
  {
   "cell_type": "code",
   "execution_count": 125,
   "id": "bef7d08b-5d59-4533-b505-d057aef8c3da",
   "metadata": {},
   "outputs": [],
   "source": [
    "def get_geocodes(tweet_list):\n",
    "    print('Getting coordinates for tweet locations...')\n",
    "    geo = OpenMapQuest(api_key=key.mapquest.key)\n",
    "    bad_locations = 0\n",
    "    for tweet in tweet_list:\n",
    "        processed = False\n",
    "        delay = .1\n",
    "        while not processed: \n",
    "            try: \n",
    "                geo_location = geo.geocode(tweet['location'])\n",
    "                processed = True\n",
    "            except:\n",
    "                print('OpenMapQuest service timed out. Waiting.')\n",
    "                time.sleep(delay)\n",
    "                delay += .1\n",
    "        if geo_location:\n",
    "            tweet['latitude'] = geo_location.latitude\n",
    "            tweet['longitude'] = geo_location.latitude\n",
    "        else:\n",
    "            bad_locations +=1\n",
    "            \n",
    "    print('Done geocoding')\n",
    "    return bad_locations\n"
   ]
  },
  {
   "cell_type": "code",
   "execution_count": 126,
   "id": "a3db7cde-8a17-4bb0-ad48-087c0f37a8b7",
   "metadata": {},
   "outputs": [],
   "source": [
    "tweet = api.search('Josh Allen', count=10)"
   ]
  },
  {
   "cell_type": "code",
   "execution_count": 127,
   "id": "9d289e45-8adc-4ee2-b188-d961e02159bb",
   "metadata": {},
   "outputs": [
    {
     "name": "stdout",
     "output_type": "stream",
     "text": [
      "SteveStone4Real:StevenDoBucki72:DoeingTyler:NYeoman:JetsWayPodcast:Nicky6saffire:MaGiC_CiTy_305:charliegfbtl:Mik311:Radioface_88:"
     ]
    }
   ],
   "source": [
    "print_tweets(tweets)"
   ]
  },
  {
   "cell_type": "code",
   "execution_count": 128,
   "id": "188d1b8f-2b51-4b79-86c6-c5af3cfc7ea9",
   "metadata": {},
   "outputs": [],
   "source": [
    "search = tweepy.Cursor(api.search, q=\"Nepal\", result_type=\"recent\", lang=\"en\").items(5)"
   ]
  },
  {
   "cell_type": "code",
   "execution_count": 129,
   "id": "f9aa4a23-5ea5-48f0-be92-b3e6095b9f57",
   "metadata": {},
   "outputs": [
    {
     "ename": "NameError",
     "evalue": "name 'item' is not defined",
     "output_type": "error",
     "traceback": [
      "\u001b[1;31m---------------------------------------------------------------------------\u001b[0m",
      "\u001b[1;31mNameError\u001b[0m                                 Traceback (most recent call last)",
      "\u001b[1;32m~\\AppData\\Local\\Temp/ipykernel_2112/2438442914.py\u001b[0m in \u001b[0;36m<module>\u001b[1;34m\u001b[0m\n\u001b[1;32m----> 1\u001b[1;33m \u001b[0mprint\u001b[0m\u001b[1;33m(\u001b[0m\u001b[0mitem\u001b[0m\u001b[1;33m.\u001b[0m\u001b[0mtext\u001b[0m\u001b[1;33m)\u001b[0m\u001b[1;33m\u001b[0m\u001b[1;33m\u001b[0m\u001b[0m\n\u001b[0m",
      "\u001b[1;31mNameError\u001b[0m: name 'item' is not defined"
     ]
    }
   ],
   "source": [
    "print(item.text)"
   ]
  },
  {
   "cell_type": "code",
   "execution_count": 130,
   "id": "10fbd8ba-c792-4544-a304-0f31e03d88d9",
   "metadata": {},
   "outputs": [
    {
     "name": "stdout",
     "output_type": "stream",
     "text": [
      "RT @SanjayaBishwak2: We dv winners always appreciate the work done by \n",
      "@USAmbNepal\n",
      "\n",
      " and very thankful,Despite of that we are also hoping f…\n",
      "RT @GokarnaMagar3: To travel is to discover that everyone is wrong about other countries #nature #naturelovers #travel #nepal #adventure #m…\n",
      "RT @GokarnaMagar3: To travel is to discover that everyone is wrong about other countries #nature #naturelovers #travel #nepal #adventure #m…\n",
      "RT @Mohan_2022: thank you\n",
      "You have started well. You are one of the best ambassadors . We know that you are able to handle all cases in Nep…\n",
      "RT @SulavKarki: Can't believe it is 21st century and a big Country has just invaded another small Country again.. just shows how Nepal shou…\n"
     ]
    }
   ],
   "source": [
    "for item in search:\n",
    "    print(item.text)\n"
   ]
  },
  {
   "cell_type": "code",
   "execution_count": 131,
   "id": "dee6e7e7-adf3-4073-80ed-a2668d75e70f",
   "metadata": {},
   "outputs": [],
   "source": [
    "search = tweepy.Cursor(api.search, q=\"Tom Brady\", result_type=\"recent\", lang=\"en\").items(10)"
   ]
  },
  {
   "cell_type": "code",
   "execution_count": 132,
   "id": "a8cfc283-5577-4b74-aaa4-62588ce2b1d9",
   "metadata": {},
   "outputs": [
    {
     "name": "stdout",
     "output_type": "stream",
     "text": [
      "RT @steakshapiro: Aaron Rodgers has won as many Super Bowls as Trent Dilfer and Nick Foles and he expects to be coddled like he is Joe Mont…\n",
      "RT @steakshapiro: Aaron Rodgers has won as many Super Bowls as Trent Dilfer and Nick Foles and he expects to be coddled like he is Joe Mont…\n",
      "What Should Bucs Do Next With Tom Brady’s Contract? https://t.co/jksKW3OOQ9\n",
      "Coach Steve Mariucci once cut Kurt Warner and passed on Tom Brady in the draft—-  errrr——Don’t let one persons view of you define you!!!!!!\n",
      "RT @breakfasttv: Tom Brady is producing and set to star as himself in ‘80 for Brady’, a comedy about 4 best friends and New England Patriot…\n",
      "@kirkxxs Why was Tom Brady her example of a politician?\n",
      "RT @SInow: Jimmy G has two Super Bowl rings as Tom Brady's backup in New England 💍💍 https://t.co/F67y4ckTPz\n",
      "RT @itsbostoncream: Patriots came back from 14 down twice. Tom Brady made one of his best throws of all time. Baltimore hadn’t been this sh…\n",
      "RT @CalebCorrill: “Things don’t correct themselves, you’ve got to go out there and work hard to correct them.” – Tom Brady https://t.co/2e8…\n",
      "@Jacksonrr1000 @itmekaralee @SNFonNBC @NFL @TomBrady Tom Brady wouldn’t be shit without bill, no other coach could… https://t.co/DTFsF40k1H\n"
     ]
    }
   ],
   "source": [
    "for item in search:\n",
    "    print(item.text)"
   ]
  },
  {
   "cell_type": "code",
   "execution_count": 134,
   "id": "7a92fce1-fbbf-43a4-8bc8-c4256a23dfd1",
   "metadata": {},
   "outputs": [],
   "source": [
    "search = tweepy.Cursor(api.search, q=\"Rick Macci\", result_type=\"recent\", lang=\"en\").items(10)"
   ]
  },
  {
   "cell_type": "code",
   "execution_count": 135,
   "id": "a1ea45da-9bc1-4931-ae3f-dff96eb56fa2",
   "metadata": {},
   "outputs": [
    {
     "name": "stdout",
     "output_type": "stream",
     "text": [
      "RT @jonnybernthal: How King Richard Star Jon Bernthal Brought Rick Macci to Life – The Hollywood Reporter. A really cool conversation I am…\n",
      "RT @FilmGamerOne: @mrbrianrowe KR should win for being the least boring. It prevents Rich from being overbearing which is all too easy.\n",
      "All…\n",
      "@mrbrianrowe KR should win for being the least boring. It prevents Rich from being overbearing which is all too eas… https://t.co/cXMlBvIkXS\n",
      "@Svitoflopina Well he was their Junior coach that of course has Rick Macci and others coach .  One The Williams sis… https://t.co/4KgV2zohBV\n",
      "\"Macci Magic: Extracting Greatness From Yourself and Others\" by Rick Macci (Foreword by Andy Roddick) is the top-ra… https://t.co/ROYm0sxDJ3\n",
      "when Venus was ten so that she could attend the tennis academy of Rick Macci. Marci, who spotted the exceptional ta… https://t.co/wcszgIyf5c\n",
      "\"Rick Macci and Richard Williams had not spoken for 20 years before this movie came out, and now they're reunited\"… https://t.co/Zc6ROnm2kb\n",
      "@PeeDubb2 @whomstissarah Rick Macci is the main reason for Venus and Serena success\n",
      "@David1Campelo @memorodd @gigicat7_ Compton of 1950s and 1980s\n",
      "Infact when she was 9, they moved to West Palm Beach… https://t.co/v5WZ3cna6O\n",
      "very enjoyable movie &amp; @jonnybernthal steals the show as Rick Macci..he deserves accolades as well\n"
     ]
    }
   ],
   "source": [
    "for item in search:\n",
    "    print(item.text)"
   ]
  },
  {
   "cell_type": "code",
   "execution_count": 136,
   "id": "01550f4b-290c-433e-b541-35c1ecf158eb",
   "metadata": {},
   "outputs": [],
   "source": [
    "search = tweepy.Cursor(api.search, q=\"Donald Trump\", result_type=\"recent\", lang=\"en\").items(20)"
   ]
  },
  {
   "cell_type": "code",
   "execution_count": 138,
   "id": "f3079d72-2904-4590-bfe9-56e0a51e75e4",
   "metadata": {},
   "outputs": [
    {
     "name": "stdout",
     "output_type": "stream",
     "text": [
      "RT @robreiner: As the entire world stands behind President Zelensky and the people of Ukraine, we must never forget that Donald Trump heape…\n",
      "RT @jefftimmer: Tomorrow would be a good time for all the lenders with whom Donald Trump has violated covenants to call their loans.\n",
      "RT @realLizUSA: NEW!\n",
      "\n",
      "President Donald J. Trump:\n",
      "\n",
      "“I hope everyone is able to remember that it was me, as President of the United States, t…\n",
      "RT @johnpavlovitz: Of all Donald Trump's marriages, the one with Vladimir Putin has been the worst.\n",
      "RT @softwarnet: #Twitter \n",
      "https://t.co/UwrdQOhgZa\n",
      "Russia-Ukraine crisis: GOPers slam Big Tech for banning conservatives but allowing Kremli…\n",
      "RT @TristanSnell: Ukraine has fewer weapons today because Donald Trump tried to extort Ukrainian President Zelensky rather than helping him…\n",
      "RT @JoJoFromJerz: You cannot stand with Ukraine and donald trump at the same time.\n",
      "RT @RSBNetwork: Statement by Donald J. Trump, 45th President of the United States of America https://t.co/TmeyIAzscP\n",
      "RT @RSBNetwork: Statement by Donald J. Trump, 45th President of the United States of America https://t.co/TmeyIAzscP\n",
      "@IAPonomarenko NAZI INVASION-ANTICIPATED-12/6/17-The totality of evidence at hand states that…Nazis got into collus… https://t.co/U9X00roftp\n",
      "RT @robreiner: As the entire world stands behind President Zelensky and the people of Ukraine, we must never forget that Donald Trump heape…\n",
      "@jacktodd46 Has the @EdmontonJournal lost it's sense of shame?\n",
      "\n",
      "\"This is genius. Putin declares a big portion of th… https://t.co/cKZkHhZTqH\n",
      "RT @owillis: in 2016 donald trump said the us should rethink its involvement with NATO, specifically citing Ukraine being encircled and not…\n",
      "RT @robreiner: As the entire world stands behind President Zelensky and the people of Ukraine, we must never forget that Donald Trump heape…\n",
      "RT @robreiner: As the entire world stands behind President Zelensky and the people of Ukraine, we must never forget that Donald Trump heape…\n",
      "RT @TomFitton: 'What the hell is going on?' Donald Trump demands an audit of Mark Zuckerberg's $417m election donations https://t.co/CXTlht…\n",
      "RT @johnpavlovitz: Of all Donald Trump's marriages, the one with Vladimir Putin has been the worst.\n",
      "RT @robreiner: As the entire world stands behind President Zelensky and the people of Ukraine, we must never forget that Donald Trump heape…\n",
      "RT @RepLizCheney: As Russian forces invade Ukraine, Russian TV features Donald Trump, Mike Pompeo and Tucker Carlson praising Putin. \n",
      "\n",
      "Puti…\n",
      "RT @robreiner: As the entire world stands behind President Zelensky and the people of Ukraine, we must never forget that Donald Trump heape…\n"
     ]
    }
   ],
   "source": [
    "for item in search:\n",
    "    print(item.text)"
   ]
  },
  {
   "cell_type": "code",
   "execution_count": null,
   "id": "b16c0072-556d-457e-a939-27e0a5316872",
   "metadata": {},
   "outputs": [],
   "source": []
  },
  {
   "cell_type": "code",
   "execution_count": 139,
   "id": "8cb5f60d-c67c-44ae-86a7-4a11914d32c1",
   "metadata": {},
   "outputs": [],
   "source": [
    "search = tweepy.Cursor(api.search, q=\"TB12\", result_type=\"recent\", lang=\"en\").items(20)"
   ]
  },
  {
   "cell_type": "code",
   "execution_count": null,
   "id": "b4720f9a-1853-4df7-be95-ef4c26fa8dcb",
   "metadata": {},
   "outputs": [],
   "source": []
  },
  {
   "cell_type": "code",
   "execution_count": null,
   "id": "1a18c59e-3129-40ac-b8b1-52f2d9621d7f",
   "metadata": {},
   "outputs": [],
   "source": []
  },
  {
   "cell_type": "code",
   "execution_count": 140,
   "id": "db440c70-b74b-4616-9d7d-a57452109cc5",
   "metadata": {},
   "outputs": [
    {
     "name": "stdout",
     "output_type": "stream",
     "text": [
      "@nickmedici @CorrectTakesOn1 @unclebeanbag_47 @PFTCommenter I imagine PFT said something mean about TB12 in 2011 an… https://t.co/am8501hT4h\n",
      "@_braedenk Lmaooooo nah , but that TB12 in the aqua in orange would go way harder than a Pats jersey 🤷🏾‍♂️\n",
      "Jeter is (or at least presents himself as, i don't know him personally) one of those Kobe/MJ/TB12 types where winni… https://t.co/eX9j4TtDcg\n",
      "@StankBastard @KeithNOSweat9 I'm a Jameis believer, but it took all of the first season with TB12 before I wasn't e… https://t.co/FzAUL5zRA1\n",
      "@Jeremia10422126 @OogProlific @kalebjc315 @mr_sause21 @AdamSchefter Arod,tb12,dak,kyler,matt,russ wlson, are in the… https://t.co/YtsLtYNFNQ\n",
      "@ProFootballTalk Lol why are people saying this is insane and not credible? \n",
      "\n",
      "Sean Payton and Flores lawsuit were w… https://t.co/jcV3C6Lt0R\n",
      "@RealCalebLesko @NFLALLDAY I got 11 Von Miller TB12 strip sacks and 1 OBJ Superbowl touchdown (#702) so far! 🏈 https://t.co/GPYyL6fX71\n",
      "@PaulBrown_UK Could still end up in Germany. Bucs opponent hasn’t been announced. Bet they are less than happy gett… https://t.co/SShzZVEaW0\n",
      "@Donofdacourts @d_buff @JoshDubowAP Lol you don’t know football. Stafford WR in the Super Bowl was a triple team Ku… https://t.co/mmAXvqxANz\n",
      "@CLEsportsTalk So…I don’t think of you r AB and not trying to get the best of the best your doing your job. But if… https://t.co/A6o9COOtiK\n",
      "If @TomBrady joins the Dolphins ownership, it would bring new meaning to \"if you can't beat them\" Buy them #Brady #Goat #TB12\n",
      "@brgridiron @ProFootballTalk TB12 would never play for the dolphins lol.\n",
      "RT @PropterMalone: retired: TB12\n",
      "wired: TB2\n",
      "retired: TB12\n",
      "wired: TB2\n",
      "@LesBowen If Russ would commit to the TB12 diet of newborn babies and the blood of orphans, I think I would pull th… https://t.co/0kGuwSb4fR\n",
      "@VChromo @MySportsUpdate Bucs without TB12👎🏼\n",
      "@avlev124 TB12, KG, Paul Pierce, David Ortiz, Lawrence Maroney (lol), ricky williams in Miami, Jason Richardson Gol… https://t.co/6o9DjbziIY\n",
      "RT @BlakeWalker23: $110 for BOTH! Optic Holo on TB12 &amp; Aqua Holo /50 on Gronk! @HobbyConnector @cardbrokers https://t.co/nro1D9a8yK\n",
      "RT @BlakeWalker23: $110 for BOTH! Optic Holo on TB12 &amp; Aqua Holo /50 on Gronk! @HobbyConnector @cardbrokers https://t.co/nro1D9a8yK\n",
      "$110 for BOTH! Optic Holo on TB12 &amp; Aqua Holo /50 on Gronk! @HobbyConnector @cardbrokers https://t.co/nro1D9a8yK\n"
     ]
    }
   ],
   "source": [
    "for item in search:\n",
    "    print(item.text)"
   ]
  },
  {
   "cell_type": "code",
   "execution_count": null,
   "id": "0992b901-9e10-4419-910b-b9ebde99995c",
   "metadata": {},
   "outputs": [],
   "source": []
  },
  {
   "cell_type": "code",
   "execution_count": 142,
   "id": "67add705-49af-4e4c-8427-154bfe7b458f",
   "metadata": {},
   "outputs": [],
   "source": [
    "search = tweepy.Cursor(api.search, q=\"Tennessee Football\", result_type=\"recent\", lang=\"en\").items(20)"
   ]
  },
  {
   "cell_type": "code",
   "execution_count": 143,
   "id": "63b9383d-fcd3-430b-94db-0e17de0c5ac3",
   "metadata": {},
   "outputs": [
    {
     "name": "stdout",
     "output_type": "stream",
     "text": [
      "👉 $229.99 👈\n",
      "Chris Johnson Signed Tennessee FS Speed Helmet 2006 Yds BAS @topfanscorner \n",
      "#Chris #Johnson #Signed… https://t.co/5V4gPFKDXm\n",
      "RT @SECfootball: First and 10: Laugh all you want, but Tennessee is the next elite SEC East beast https://t.co/81csPJzfku https://t.co/x4rH…\n",
      "RT @SECfootball: First and 10: Laugh all you want, but Tennessee is the next elite SEC East beast https://t.co/81csPJzfku https://t.co/x4rH…\n",
      "RT @UCANTSTOPJAUAN: Tennessee football on the rise. \n",
      "Vols baseball and basketball can beat anyone in the country. Womens basketball still i…\n",
      "RT @UCANTSTOPJAUAN: Tennessee football on the rise. \n",
      "Vols baseball and basketball can beat anyone in the country. Womens basketball still i…\n",
      "How long Tennessee football been on the rise now??🤣🤣 https://t.co/PKeMVhY5Xy\n",
      "RT @MattHayesCFB: #Firstand10 at ⁦@SatDownSouth⁩: Laugh all you want, but ⁦@Vol_Football⁩ is the next #SEC East heavyweight — and sooner th…\n",
      "@_joeearl So ur gona argue that Tennessee has been better than Kentucky in football over the last 4 years? Just sav… https://t.co/nUzGaemCmC\n",
      "RT @UCANTSTOPJAUAN: Tennessee football on the rise. \n",
      "Vols baseball and basketball can beat anyone in the country. Womens basketball still i…\n",
      "@JByGodRod Exactly what is Tennessee football doing in the postseason? Lately it's either not going at all or losing to Purdue lol\n",
      "RT @Kreager: This season the TSSAA has to move 20 high school football games a week to Thursday nights due to declining numbers of official…\n",
      "OFFSEASON OUTLOOK: Cornerback\n",
      "\n",
      "#Vols set for fascinating competitions this offseason with pair of starters to repla… https://t.co/SIqfqfL6z6\n",
      "RT @JohnDBrice1: #NEWS Sources tell @FootballScoop former @Vol_Football standout @CoachNickReveiz has landed a major new gig as @VMI_Footba…\n",
      "Can't wait til it's football time in Tennessee! 🍊🍊🍊 https://t.co/fvYJkAvnMa\n",
      "RT @MattHayesCFB: #Firstand10 at ⁦@SatDownSouth⁩: Laugh all you want, but ⁦@Vol_Football⁩ is the next #SEC East heavyweight — and sooner th…\n",
      "RT @JohnDBrice1: #NEWS Sources tell @FootballScoop former @Vol_Football standout @CoachNickReveiz has landed a major new gig as @VMI_Footba…\n",
      "RT @JohnDBrice1: #NEWS Sources tell @FootballScoop former @Vol_Football standout @CoachNickReveiz has landed a major new gig as @VMI_Footba…\n",
      "RT @KobyHoward3: I will be visiting The University Of Tennessee March 5th. @Vol_Football @CoachKelseyPope @angeliajolie_ @rockytopology @Go…\n",
      "RT @JohnDBrice1: #NEWS Sources tell @FootballScoop former @Vol_Football standout @CoachNickReveiz has landed a major new gig as @VMI_Footba…\n",
      "Three things I know, three things I think: #Tennessee #Vols recruiting (VIP) https://t.co/vytM5XdwQ9 https://t.co/7qEqanwRer\n"
     ]
    }
   ],
   "source": [
    "for item in search:\n",
    "    print(item.text)"
   ]
  },
  {
   "cell_type": "code",
   "execution_count": null,
   "id": "85b9d41e-a33e-4fa0-92bf-11aa1db43c52",
   "metadata": {},
   "outputs": [],
   "source": []
  },
  {
   "cell_type": "code",
   "execution_count": 144,
   "id": "cd865731-c307-4200-ba27-d6455d847b5a",
   "metadata": {},
   "outputs": [],
   "source": [
    "looky = tweepy.Cursor(api.search, q=\"TB12\", result_type=\"recent\", lang=\"en\").items(20)"
   ]
  },
  {
   "cell_type": "code",
   "execution_count": 145,
   "id": "9a8dcda6-a52d-45ab-b0c2-fb7e941a443a",
   "metadata": {},
   "outputs": [
    {
     "name": "stdout",
     "output_type": "stream",
     "text": [
      "@JesseKolodkin Yeah but you aren’t as pretty as TB12 😂\n",
      "Ukraine could lock this down by going from tb2 drones to tb12’s\n",
      "@offcialj0nn @AdamSchefter Yes cause you already switched for TB12\n",
      "Day 1: Greatest QB Ever\n",
      "7 rings and the career leader in Passing Yards and Passing TDs makes this a very easy start… https://t.co/mmWqtKL9u0\n",
      "Hey #winnipegtwitter anyone have a goldsmith or silversmith they'd recommend to make some jewelry into new pieces?… https://t.co/KzDkaKO7nF\n",
      "@nickmedici @CorrectTakesOn1 @unclebeanbag_47 @PFTCommenter I imagine PFT said something mean about TB12 in 2011 an… https://t.co/am8501hT4h\n",
      "@_braedenk Lmaooooo nah , but that TB12 in the aqua in orange would go way harder than a Pats jersey 🤷🏾‍♂️\n",
      "Jeter is (or at least presents himself as, i don't know him personally) one of those Kobe/MJ/TB12 types where winni… https://t.co/eX9j4TtDcg\n",
      "@StankBastard @KeithNOSweat9 I'm a Jameis believer, but it took all of the first season with TB12 before I wasn't e… https://t.co/FzAUL5zRA1\n",
      "@Jeremia10422126 @OogProlific @kalebjc315 @mr_sause21 @AdamSchefter Arod,tb12,dak,kyler,matt,russ wlson, are in the… https://t.co/YtsLtYNFNQ\n",
      "@ProFootballTalk Lol why are people saying this is insane and not credible? \n",
      "\n",
      "Sean Payton and Flores lawsuit were w… https://t.co/jcV3C6Lt0R\n",
      "@RealCalebLesko @NFLALLDAY I got 11 Von Miller TB12 strip sacks and 1 OBJ Superbowl touchdown (#702) so far! 🏈 https://t.co/GPYyL6fX71\n",
      "@PaulBrown_UK Could still end up in Germany. Bucs opponent hasn’t been announced. Bet they are less than happy gett… https://t.co/SShzZVEaW0\n",
      "@Donofdacourts @d_buff @JoshDubowAP Lol you don’t know football. Stafford WR in the Super Bowl was a triple team Ku… https://t.co/mmAXvqxANz\n",
      "@CLEsportsTalk So…I don’t think of you r AB and not trying to get the best of the best your doing your job. But if… https://t.co/A6o9COOtiK\n",
      "If @TomBrady joins the Dolphins ownership, it would bring new meaning to \"if you can't beat them\" Buy them #Brady #Goat #TB12\n",
      "@brgridiron @ProFootballTalk TB12 would never play for the dolphins lol.\n",
      "RT @PropterMalone: retired: TB12\n",
      "wired: TB2\n",
      "retired: TB12\n",
      "wired: TB2\n",
      "@LesBowen If Russ would commit to the TB12 diet of newborn babies and the blood of orphans, I think I would pull th… https://t.co/0kGuwSb4fR\n"
     ]
    }
   ],
   "source": [
    "for item in looky:\n",
    "    print(item.text)"
   ]
  },
  {
   "cell_type": "code",
   "execution_count": 148,
   "id": "249c8cb3-d9ef-414c-9eee-17381bfcd01d",
   "metadata": {},
   "outputs": [],
   "source": [
    "nyc_trends = api.trends_place(id=2459115)\n"
   ]
  },
  {
   "cell_type": "code",
   "execution_count": 151,
   "id": "7e386dbd-e476-48ad-978d-a0bd43887a51",
   "metadata": {},
   "outputs": [],
   "source": [
    "nyc_list= nyc_trends[0]['trends']"
   ]
  },
  {
   "cell_type": "code",
   "execution_count": 153,
   "id": "6a5d1ed9-3e38-421a-97e3-a89bd69fa503",
   "metadata": {},
   "outputs": [],
   "source": [
    "nyc_list = [t for t in nyc_list if t['tweet_volume']]"
   ]
  },
  {
   "cell_type": "code",
   "execution_count": 155,
   "id": "36c80140-d4d4-4b17-9183-6d027687ffae",
   "metadata": {},
   "outputs": [
    {
     "ename": "NameError",
     "evalue": "name 'itemgetter' is not defined",
     "output_type": "error",
     "traceback": [
      "\u001b[1;31m---------------------------------------------------------------------------\u001b[0m",
      "\u001b[1;31mNameError\u001b[0m                                 Traceback (most recent call last)",
      "\u001b[1;32m~\\AppData\\Local\\Temp/ipykernel_2112/1037159058.py\u001b[0m in \u001b[0;36m<module>\u001b[1;34m\u001b[0m\n\u001b[1;32m----> 1\u001b[1;33m \u001b[0mnyc_list\u001b[0m\u001b[1;33m.\u001b[0m\u001b[0msort\u001b[0m\u001b[1;33m(\u001b[0m\u001b[0mkey\u001b[0m\u001b[1;33m=\u001b[0m\u001b[0mitemgetter\u001b[0m\u001b[1;33m(\u001b[0m\u001b[1;34m'tweet_volume'\u001b[0m\u001b[1;33m)\u001b[0m\u001b[1;33m,\u001b[0m \u001b[0mreverse\u001b[0m\u001b[1;33m=\u001b[0m\u001b[1;32mTrue\u001b[0m\u001b[1;33m)\u001b[0m\u001b[1;33m\u001b[0m\u001b[1;33m\u001b[0m\u001b[0m\n\u001b[0m",
      "\u001b[1;31mNameError\u001b[0m: name 'itemgetter' is not defined"
     ]
    }
   ],
   "source": [
    "nyc_list.sort(key=itemgetter('tweet_volume'), reverse=True)\n"
   ]
  },
  {
   "cell_type": "code",
   "execution_count": 158,
   "id": "3165fe79-a7c3-4f64-8125-f79a14f4662f",
   "metadata": {},
   "outputs": [
    {
     "name": "stdout",
     "output_type": "stream",
     "text": [
      "#UkraineRussiaWar\n",
      "Barr\n",
      "Jeter\n",
      "#MondayMotivation\n",
      "#TheBatman\n",
      "#RareDiseaseDay\n",
      "Switzerland\n",
      "#ARSD\n",
      "New World Order\n",
      "Swiss\n",
      "SOTU\n",
      "NUEST\n",
      "State of the Union\n",
      "Dr. Fauci\n",
      "Fantastic Beasts\n",
      "Good Monday\n",
      "Pattinson\n",
      "European Union\n",
      "kharkiv\n",
      "FIFA\n"
     ]
    }
   ],
   "source": [
    "for trend in nyc_list[:20]:\n",
    "    print(trend['name'])"
   ]
  },
  {
   "cell_type": "code",
   "execution_count": 160,
   "id": "62913df9-0a59-4122-9e63-04f7826f5af2",
   "metadata": {},
   "outputs": [],
   "source": [
    "topics = {}"
   ]
  },
  {
   "cell_type": "code",
   "execution_count": 163,
   "id": "c7a646db-f183-4836-a6ed-510ab2a010d7",
   "metadata": {},
   "outputs": [],
   "source": [
    "for trend in nyc_list:\n",
    "    topics[trend['name']] = trend['tweet_volume']"
   ]
  },
  {
   "cell_type": "code",
   "execution_count": 166,
   "id": "18b71f19-605a-4a4f-9acf-a16574307a48",
   "metadata": {},
   "outputs": [
    {
     "ename": "ModuleNotFoundError",
     "evalue": "No module named 'wordcloud'",
     "output_type": "error",
     "traceback": [
      "\u001b[1;31m---------------------------------------------------------------------------\u001b[0m",
      "\u001b[1;31mModuleNotFoundError\u001b[0m                       Traceback (most recent call last)",
      "\u001b[1;32m~\\AppData\\Local\\Temp/ipykernel_2112/3266101202.py\u001b[0m in \u001b[0;36m<module>\u001b[1;34m\u001b[0m\n\u001b[1;32m----> 1\u001b[1;33m \u001b[1;32mfrom\u001b[0m \u001b[0mwordcloud\u001b[0m \u001b[1;32mimport\u001b[0m \u001b[0mWordCloud\u001b[0m\u001b[1;33m\u001b[0m\u001b[1;33m\u001b[0m\u001b[0m\n\u001b[0m",
      "\u001b[1;31mModuleNotFoundError\u001b[0m: No module named 'wordcloud'"
     ]
    }
   ],
   "source": [
    "from wordcloud import WordCloud"
   ]
  },
  {
   "cell_type": "code",
   "execution_count": 169,
   "id": "3070b2d8-7a93-40a4-b531-2f866cc98359",
   "metadata": {},
   "outputs": [
    {
     "name": "stdout",
     "output_type": "stream",
     "text": [
      "Collecting package metadata (current_repodata.json): ...working... done\n",
      "Solving environment: ...working... done\n",
      "\n",
      "## Package Plan ##\n",
      "\n",
      "  environment location: C:\\Users\\18323\\anaconda3\\anaconda\n",
      "\n",
      "  added / updated specs:\n",
      "    - wordcloud\n",
      "\n",
      "\n",
      "The following packages will be downloaded:\n",
      "\n",
      "    package                    |            build\n",
      "    ---------------------------|-----------------\n",
      "    wordcloud-1.8.1            |   py39hb82d6ee_2         196 KB  conda-forge\n",
      "    ------------------------------------------------------------\n",
      "                                           Total:         196 KB\n",
      "\n",
      "The following NEW packages will be INSTALLED:\n",
      "\n",
      "  wordcloud          conda-forge/win-64::wordcloud-1.8.1-py39hb82d6ee_2\n",
      "\n",
      "\n",
      "\n",
      "Downloading and Extracting Packages\n",
      "\n",
      "wordcloud-1.8.1      | 196 KB    |            |   0% \n",
      "wordcloud-1.8.1      | 196 KB    | 8          |   8% \n",
      "wordcloud-1.8.1      | 196 KB    | ########## | 100% \n",
      "wordcloud-1.8.1      | 196 KB    | ########## | 100% \n",
      "Preparing transaction: ...working... done\n",
      "Verifying transaction: ...working... done\n",
      "Executing transaction: ...working... done\n",
      "\n",
      "Note: you may need to restart the kernel to use updated packages.\n"
     ]
    }
   ],
   "source": [
    "conda install -c conda-forge wordcloud"
   ]
  },
  {
   "cell_type": "code",
   "execution_count": 170,
   "id": "af9a57c8-7391-4567-ae7c-bf66c11c1d04",
   "metadata": {},
   "outputs": [],
   "source": [
    "from wordcloud import WordCloud"
   ]
  },
  {
   "cell_type": "code",
   "execution_count": 174,
   "id": "5f021549-ae7b-429d-93e1-f3d9cf5f5270",
   "metadata": {},
   "outputs": [],
   "source": [
    "wordcloud = WordCloud(width=1600, height = 900,\n",
    "                      prefer_horizontal=0.5, min_font_size=10, colormap='prism',\n",
    "                      background_color='white')"
   ]
  },
  {
   "cell_type": "code",
   "execution_count": 176,
   "id": "47e532a5-1608-43a2-b402-91c714662b15",
   "metadata": {},
   "outputs": [],
   "source": [
    "wordcloud =wordcloud.fit_words(topics)"
   ]
  },
  {
   "cell_type": "code",
   "execution_count": 177,
   "id": "951a90f1-e5a7-4cff-8d98-cf5a4fa443e6",
   "metadata": {},
   "outputs": [],
   "source": [
    "wordcloud = wordcloud.to_file('TrendingTwitter.png')"
   ]
  },
  {
   "cell_type": "code",
   "execution_count": 179,
   "id": "e7c87c73-1216-4e9d-970c-c4b2696b9b45",
   "metadata": {},
   "outputs": [
    {
     "name": "stdout",
     "output_type": "stream",
     "text": [
      "<wordcloud.wordcloud.WordCloud object at 0x0000028C123EE490>\n"
     ]
    }
   ],
   "source": [
    "print(wordcloud)"
   ]
  },
  {
   "cell_type": "code",
   "execution_count": 181,
   "id": "7609cbdc-e10d-4d37-bb18-dada8bb65149",
   "metadata": {},
   "outputs": [
    {
     "name": "stdout",
     "output_type": "stream",
     "text": [
      "TrendingTwitter.png\n"
     ]
    }
   ],
   "source": [
    "print('TrendingTwitter.png')"
   ]
  },
  {
   "cell_type": "code",
   "execution_count": 183,
   "id": "fa9697a6-f91c-49be-bbff-2fd081087fde",
   "metadata": {},
   "outputs": [
    {
     "ename": "NameError",
     "evalue": "name 'matplotlib' is not defined",
     "output_type": "error",
     "traceback": [
      "\u001b[1;31m---------------------------------------------------------------------------\u001b[0m",
      "\u001b[1;31mNameError\u001b[0m                                 Traceback (most recent call last)",
      "\u001b[1;32m~\\AppData\\Local\\Temp/ipykernel_2112/1265466227.py\u001b[0m in \u001b[0;36m<module>\u001b[1;34m\u001b[0m\n\u001b[1;32m----> 1\u001b[1;33m \u001b[0mmatplotlib\u001b[0m\u001b[1;33m.\u001b[0m\u001b[0mimshow\u001b[0m\u001b[1;33m(\u001b[0m\u001b[0mwordcloud\u001b[0m\u001b[1;33m)\u001b[0m\u001b[1;33m\u001b[0m\u001b[1;33m\u001b[0m\u001b[0m\n\u001b[0m",
      "\u001b[1;31mNameError\u001b[0m: name 'matplotlib' is not defined"
     ]
    }
   ],
   "source": [
    "matplotlib.imshow(wordcloud)\n"
   ]
  },
  {
   "cell_type": "code",
   "execution_count": 184,
   "id": "b25497a7-c32f-4e26-9ddb-3d54bd5a6990",
   "metadata": {},
   "outputs": [],
   "source": [
    "import matplotlib.pyplot as plt"
   ]
  },
  {
   "cell_type": "code",
   "execution_count": 185,
   "id": "299678e9-fcc8-4b60-ad87-f269de804faa",
   "metadata": {},
   "outputs": [
    {
     "data": {
      "text/plain": [
       "<matplotlib.image.AxesImage at 0x28c13c668e0>"
      ]
     },
     "execution_count": 185,
     "metadata": {},
     "output_type": "execute_result"
    },
    {
     "data": {
      "image/png": "[encoded data removed]",
      "text/plain": [
       "<Figure size 432x288 with 1 Axes>"
      ]
     },
     "metadata": {
      "needs_background": "light"
     },
     "output_type": "display_data"
    }
   ],
   "source": [
    "plt.imshow(wordcloud)"
   ]
  },
  {
   "cell_type": "code",
   "execution_count": 186,
   "id": "041c25f9-9b53-4cb5-8a5b-408b914d4af6",
   "metadata": {},
   "outputs": [],
   "source": [
    "\"\"\"API Streaming. Tweepy.streamlistener processes tweets as they arrive.\"\"\"\n",
    "import tweepy\n",
    "from textblob import TextBlob"
   ]
  },
  {
   "cell_type": "code",
   "execution_count": 187,
   "id": "80b500b0-7dac-40d3-9192-c9dab62fcfd0",
   "metadata": {},
   "outputs": [],
   "source": [
    "class TweetListener(tweepy.StreamListener):\n",
    "    \"\"\"Handles incoming tweet stream\"\"\""
   ]
  },
  {
   "cell_type": "code",
   "execution_count": 203,
   "id": "9c91401e-1495-49b2-9157-cd3fe0c23b9f",
   "metadata": {},
   "outputs": [],
   "source": [
    "def _init_(self, api, limit=10):\n",
    "    self.tweet_count=0\n",
    "    self.TWEET_LIMIT=limit\n",
    "    super()._init_(api)"
   ]
  },
  {
   "cell_type": "code",
   "execution_count": null,
   "id": "59b92728-d96f-47e0-9e74-feee6180ff4d",
   "metadata": {},
   "outputs": [],
   "source": []
  },
  {
   "cell_type": "code",
   "execution_count": null,
   "id": "bdd48dd8-605c-41c4-93af-adbb9086ae39",
   "metadata": {},
   "outputs": [],
   "source": []
  },
  {
   "cell_type": "code",
   "execution_count": 199,
   "id": "8cdadef7-1176-49c1-9084-91851c26caa4",
   "metadata": {},
   "outputs": [],
   "source": [
    "def on_connect(self):\n",
    "    print('Connection Successful\\n')"
   ]
  },
  {
   "cell_type": "code",
   "execution_count": 206,
   "id": "f2f026b6-d534-4959-9907-b3fee8f46296",
   "metadata": {},
   "outputs": [],
   "source": [
    "def on_status( self, status):\n",
    "    try:\n",
    "        tweet_text=status.extended_tweet.full_text\n",
    "    except:\n",
    "            tweet_text=status.text\n",
    "    "
   ]
  },
  {
   "cell_type": "code",
   "execution_count": 220,
   "id": "4dc8f460-3288-4725-b5bc-66cc372944e6",
   "metadata": {},
   "outputs": [
    {
     "ename": "NameError",
     "evalue": "name 'status' is not defined",
     "output_type": "error",
     "traceback": [
      "\u001b[1;31m---------------------------------------------------------------------------\u001b[0m",
      "\u001b[1;31mNameError\u001b[0m                                 Traceback (most recent call last)",
      "\u001b[1;32m~\\AppData\\Local\\Temp/ipykernel_2112/2165290890.py\u001b[0m in \u001b[0;36m<module>\u001b[1;34m\u001b[0m\n\u001b[1;32m----> 1\u001b[1;33m \u001b[0mprint\u001b[0m\u001b[1;33m(\u001b[0m\u001b[1;34mf'Screen name: {status.user.screen_name}:'\u001b[0m\u001b[1;33m)\u001b[0m\u001b[1;33m\u001b[0m\u001b[1;33m\u001b[0m\u001b[0m\n\u001b[0m\u001b[0;32m      2\u001b[0m \u001b[0mprint\u001b[0m\u001b[1;33m(\u001b[0m\u001b[1;34mf' Language:   {status.lang}'\u001b[0m\u001b[1;33m)\u001b[0m\u001b[1;33m\u001b[0m\u001b[1;33m\u001b[0m\u001b[0m\n\u001b[0;32m      3\u001b[0m \u001b[0mprint\u001b[0m\u001b[1;33m(\u001b[0m\u001b[1;34mf' Status:     {tweet_text}'\u001b[0m\u001b[1;33m)\u001b[0m\u001b[1;33m\u001b[0m\u001b[1;33m\u001b[0m\u001b[0m\n\u001b[0;32m      4\u001b[0m \u001b[1;32mif\u001b[0m \u001b[0mstatus\u001b[0m\u001b[1;33m.\u001b[0m\u001b[0mlang\u001b[0m\u001b[1;33m!=\u001b[0m\u001b[1;34m'en'\u001b[0m\u001b[1;33m:\u001b[0m\u001b[1;33m\u001b[0m\u001b[1;33m\u001b[0m\u001b[0m\n\u001b[0;32m      5\u001b[0m     \u001b[0mprint\u001b[0m\u001b[1;33m(\u001b[0m\u001b[1;34mf'Translated: {Textblob(tweet_text).translate()}'\u001b[0m\u001b[1;33m)\u001b[0m\u001b[1;33m\u001b[0m\u001b[1;33m\u001b[0m\u001b[0m\n",
      "\u001b[1;31mNameError\u001b[0m: name 'status' is not defined"
     ]
    }
   ],
   "source": [
    "    print(f'Screen name: {status.user.screen_name}:')\n",
    "    print(f' Language:   {status.lang}')\n",
    "    print(f' Status:     {tweet_text}')\n",
    "    if status.lang!='en':\n",
    "        print(f'Translated: {Textblob(tweet_text).translate()}')\n",
    "    print()\n",
    "    self.tweet_count+=1\n",
    "    return self.tweet_count!=self.TWEET_LIMIT\n",
    "    "
   ]
  },
  {
   "cell_type": "code",
   "execution_count": 222,
   "id": "ba52de82-1e37-4fbe-ba90-c409776e6a8f",
   "metadata": {},
   "outputs": [],
   "source": [
    "\n",
    "tweet_listener= TweetListener(api)"
   ]
  },
  {
   "cell_type": "code",
   "execution_count": 225,
   "id": "86b32df0-4a2d-4f8f-bc50-a16b283b52a3",
   "metadata": {},
   "outputs": [],
   "source": [
    "tweet_stream=tweepy.Stream(auth=api.auth, listener=tweet_listener)"
   ]
  },
  {
   "cell_type": "code",
   "execution_count": 227,
   "id": "15d93f6e-ff65-4b89-88ff-22369d66f543",
   "metadata": {},
   "outputs": [],
   "source": [
    "tweet_stream.filter(track=['Mars Rover'], is_async= True)"
   ]
  },
  {
   "cell_type": "code",
   "execution_count": 236,
   "id": "8782fe90-a0db-48f9-b414-49508f36dc0a",
   "metadata": {},
   "outputs": [
    {
     "ename": "ModuleNotFoundError",
     "evalue": "No module named 'preprocessor'",
     "output_type": "error",
     "traceback": [
      "\u001b[1;31m---------------------------------------------------------------------------\u001b[0m",
      "\u001b[1;31mModuleNotFoundError\u001b[0m                       Traceback (most recent call last)",
      "\u001b[1;32m~\\AppData\\Local\\Temp/ipykernel_2112/1134082666.py\u001b[0m in \u001b[0;36m<module>\u001b[1;34m\u001b[0m\n\u001b[1;32m----> 1\u001b[1;33m \u001b[1;32mimport\u001b[0m \u001b[0mpreprocessor\u001b[0m \u001b[1;32mas\u001b[0m \u001b[0mp\u001b[0m\u001b[1;33m\u001b[0m\u001b[1;33m\u001b[0m\u001b[0m\n\u001b[0m",
      "\u001b[1;31mModuleNotFoundError\u001b[0m: No module named 'preprocessor'"
     ]
    }
   ],
   "source": [
    "\n",
    "import preprocessor as p"
   ]
  },
  {
   "cell_type": "code",
   "execution_count": 231,
   "id": "e8ab630e-4555-4fef-bea7-86d60f651e25",
   "metadata": {},
   "outputs": [],
   "source": [
    "def _init_(self, api, sentiment_dict, topic, limit=10):\n",
    "    self.sentiment_dict= sentiment_dict\n",
    "    self.tweet_count = 0\n",
    "    self.topic = Topic\n",
    "    self.TWEET_LIMIT=limit\n",
    "    "
   ]
  },
  {
   "cell_type": "code",
   "execution_count": 238,
   "id": "731f4075-bc4d-4f21-8a99-13e885414f1e",
   "metadata": {},
   "outputs": [],
   "source": [
    "def on_status(self, status):\n",
    "    try:\n",
    "        tweet_text=status.extended_tweet.full_text\n",
    "    except:\n",
    "        tweet_text=status.text\n",
    "        \n",
    "    if tweet_text.startswith('RT'):\n",
    "        return\n",
    "    \n",
    "    if self.topic.lower() not in tweet_text.lower():\n",
    "        return\n",
    "            \n",
    "    "
   ]
  },
  {
   "cell_type": "code",
   "execution_count": 260,
   "id": "f20aeda5-7bc2-4b82-9ec2-54744917bf14",
   "metadata": {},
   "outputs": [
    {
     "ename": "NameError",
     "evalue": "name 'TextBLob' is not defined",
     "output_type": "error",
     "traceback": [
      "\u001b[1;31m---------------------------------------------------------------------------\u001b[0m",
      "\u001b[1;31mNameError\u001b[0m                                 Traceback (most recent call last)",
      "\u001b[1;32m~\\AppData\\Local\\Temp/ipykernel_2112/3370821436.py\u001b[0m in \u001b[0;36m<module>\u001b[1;34m\u001b[0m\n\u001b[1;32m----> 1\u001b[1;33m \u001b[0mblob\u001b[0m \u001b[1;33m=\u001b[0m \u001b[0mTextBLob\u001b[0m\u001b[1;33m(\u001b[0m\u001b[0mtweet_text\u001b[0m\u001b[1;33m)\u001b[0m\u001b[1;33m\u001b[0m\u001b[1;33m\u001b[0m\u001b[0m\n\u001b[0m\u001b[0;32m      2\u001b[0m \u001b[1;32mif\u001b[0m \u001b[0mblob\u001b[0m\u001b[1;33m.\u001b[0m\u001b[0msentiment\u001b[0m\u001b[1;33m.\u001b[0m\u001b[0mpolarity\u001b[0m \u001b[1;33m>\u001b[0m \u001b[1;36m0\u001b[0m\u001b[1;33m:\u001b[0m\u001b[1;33m\u001b[0m\u001b[1;33m\u001b[0m\u001b[0m\n\u001b[0;32m      3\u001b[0m     \u001b[0msentiment\u001b[0m \u001b[1;33m=\u001b[0m \u001b[1;34m'+'\u001b[0m\u001b[1;33m\u001b[0m\u001b[1;33m\u001b[0m\u001b[0m\n\u001b[0;32m      4\u001b[0m     \u001b[0mself\u001b[0m\u001b[1;33m.\u001b[0m\u001b[0msentiment_dict\u001b[0m\u001b[1;33m[\u001b[0m\u001b[1;34m'positive'\u001b[0m\u001b[1;33m]\u001b[0m \u001b[1;33m+=\u001b[0m \u001b[1;36m1\u001b[0m\u001b[1;33m\u001b[0m\u001b[1;33m\u001b[0m\u001b[0m\n\u001b[0;32m      5\u001b[0m \u001b[1;32melif\u001b[0m \u001b[0mblob\u001b[0m\u001b[1;33m.\u001b[0m\u001b[0msentiment\u001b[0m\u001b[1;33m.\u001b[0m\u001b[0mpolarity\u001b[0m \u001b[1;33m==\u001b[0m \u001b[1;36m0\u001b[0m\u001b[1;33m:\u001b[0m\u001b[1;33m\u001b[0m\u001b[1;33m\u001b[0m\u001b[0m\n",
      "\u001b[1;31mNameError\u001b[0m: name 'TextBLob' is not defined"
     ]
    },
    {
     "name": "stderr",
     "output_type": "stream",
     "text": [
      "Exception in thread Thread-14:\n",
      "Traceback (most recent call last):\n",
      "  File \"C:\\Users\\18323\\anaconda3\\anaconda\\lib\\http\\client.py\", line 559, in _get_chunk_left\n",
      "    chunk_left = self._read_next_chunk_size()\n",
      "  File \"C:\\Users\\18323\\anaconda3\\anaconda\\lib\\http\\client.py\", line 526, in _read_next_chunk_size\n",
      "    return int(line, 16)\n",
      "ValueError: invalid literal for int() with base 16: b''\n",
      "\n",
      "During handling of the above exception, another exception occurred:\n",
      "\n",
      "Traceback (most recent call last):\n",
      "  File \"C:\\Users\\18323\\anaconda3\\anaconda\\lib\\http\\client.py\", line 591, in _readinto_chunked\n",
      "    chunk_left = self._get_chunk_left()\n",
      "  File \"C:\\Users\\18323\\anaconda3\\anaconda\\lib\\http\\client.py\", line 561, in _get_chunk_left\n",
      "    raise IncompleteRead(b'')\n",
      "http.client.IncompleteRead: IncompleteRead(0 bytes read)\n",
      "\n",
      "During handling of the above exception, another exception occurred:\n",
      "\n",
      "Traceback (most recent call last):\n",
      "  File \"C:\\Users\\18323\\anaconda3\\anaconda\\lib\\site-packages\\urllib3\\response.py\", line 438, in _error_catcher\n",
      "    yield\n",
      "  File \"C:\\Users\\18323\\anaconda3\\anaconda\\lib\\site-packages\\urllib3\\response.py\", line 519, in read\n",
      "    data = self._fp.read(amt) if not fp_closed else b\"\"\n",
      "  File \"C:\\Users\\18323\\anaconda3\\anaconda\\lib\\http\\client.py\", line 462, in read\n",
      "    n = self.readinto(b)\n",
      "  File \"C:\\Users\\18323\\anaconda3\\anaconda\\lib\\http\\client.py\", line 496, in readinto\n",
      "    return self._readinto_chunked(b)\n",
      "  File \"C:\\Users\\18323\\anaconda3\\anaconda\\lib\\http\\client.py\", line 607, in _readinto_chunked\n",
      "    raise IncompleteRead(bytes(b[0:total_bytes]))\n",
      "http.client.IncompleteRead: IncompleteRead(10 bytes read)\n",
      "\n",
      "During handling of the above exception, another exception occurred:\n",
      "\n",
      "Traceback (most recent call last):\n",
      "  File \"C:\\Users\\18323\\anaconda3\\anaconda\\lib\\threading.py\", line 973, in _bootstrap_inner\n",
      "    self.run()\n",
      "  File \"C:\\Users\\18323\\anaconda3\\anaconda\\lib\\threading.py\", line 910, in run\n",
      "    self._target(*self._args, **self._kwargs)\n",
      "  File \"C:\\Users\\18323\\anaconda3\\anaconda\\lib\\site-packages\\tweepy\\streaming.py\", line 300, in _run\n",
      "    six.reraise(*exc_info)\n",
      "  File \"C:\\Users\\18323\\anaconda3\\anaconda\\lib\\site-packages\\six.py\", line 719, in reraise\n",
      "    raise value\n",
      "  File \"C:\\Users\\18323\\anaconda3\\anaconda\\lib\\site-packages\\tweepy\\streaming.py\", line 269, in _run\n",
      "    self._read_loop(resp)\n",
      "  File \"C:\\Users\\18323\\anaconda3\\anaconda\\lib\\site-packages\\tweepy\\streaming.py\", line 319, in _read_loop\n",
      "    line = buf.read_line()\n",
      "  File \"C:\\Users\\18323\\anaconda3\\anaconda\\lib\\site-packages\\tweepy\\streaming.py\", line 181, in read_line\n",
      "    self._buffer += self._stream.read(self._chunk_size)\n",
      "  File \"C:\\Users\\18323\\anaconda3\\anaconda\\lib\\site-packages\\urllib3\\response.py\", line 541, in read\n",
      "    raise IncompleteRead(self._fp_bytes_read, self.length_remaining)\n",
      "  File \"C:\\Users\\18323\\anaconda3\\anaconda\\lib\\contextlib.py\", line 137, in __exit__\n",
      "    self.gen.throw(typ, value, traceback)\n",
      "  File \"C:\\Users\\18323\\anaconda3\\anaconda\\lib\\site-packages\\urllib3\\response.py\", line 455, in _error_catcher\n",
      "    raise ProtocolError(\"Connection broken: %r\" % e, e)\n",
      "urllib3.exceptions.ProtocolError: ('Connection broken: IncompleteRead(10 bytes read)', IncompleteRead(10 bytes read))\n"
     ]
    }
   ],
   "source": [
    "blob = TextBLob(tweet_text)\n",
    "if blob.sentiment.polarity > 0:\n",
    "    sentiment = '+'\n",
    "    self.sentiment_dict['positive'] += 1\n",
    "elif blob.sentiment.polarity == 0:\n",
    "    sentiment = ''\n",
    "    self.sentiment_dict['neutral'] +=1\n",
    "else:\n",
    "    sentiment = '-'\n",
    "    self.sentiment_dict['negative'] +=1\n",
    "print(f'{sentiment} {status.suer.screen_name}: {tweet_text}\\n')\n",
    "\n",
    "self.tweet_count +=1\n",
    "return self.tweet_count !=self.TWEET_LIMIT\n",
    "    "
   ]
  },
  {
   "cell_type": "code",
   "execution_count": 329,
   "id": "29792ea8-bfc1-440e-9d25-f5d2e48918cc",
   "metadata": {},
   "outputs": [
    {
     "name": "stdout",
     "output_type": "stream",
     "text": [
      "Requirement already satisfied: textblob in c:\\users\\18323\\anaconda3\\anaconda\\lib\\site-packages (0.15.3)\n",
      "Requirement already satisfied: nltk>=3.1 in c:\\users\\18323\\anaconda3\\anaconda\\lib\\site-packages (from textblob) (3.6.5)\n",
      "Requirement already satisfied: click in c:\\users\\18323\\anaconda3\\anaconda\\lib\\site-packages (from nltk>=3.1->textblob) (8.0.3)\n",
      "Requirement already satisfied: joblib in c:\\users\\18323\\anaconda3\\anaconda\\lib\\site-packages (from nltk>=3.1->textblob) (1.1.0)\n",
      "Requirement already satisfied: regex>=2021.8.3 in c:\\users\\18323\\anaconda3\\anaconda\\lib\\site-packages (from nltk>=3.1->textblob) (2021.8.3)\n",
      "Requirement already satisfied: tqdm in c:\\users\\18323\\anaconda3\\anaconda\\lib\\site-packages (from nltk>=3.1->textblob) (4.62.3)\n",
      "Requirement already satisfied: colorama in c:\\users\\18323\\anaconda3\\anaconda\\lib\\site-packages (from click->nltk>=3.1->textblob) (0.4.4)\n",
      "Requirement already satisfied: tweepy in c:\\users\\18323\\anaconda3\\anaconda\\lib\\site-packages (3.7.0)\n",
      "Requirement already satisfied: six>=1.10.0 in c:\\users\\18323\\anaconda3\\anaconda\\lib\\site-packages (from tweepy) (1.16.0)\n",
      "Requirement already satisfied: requests-oauthlib>=0.7.0 in c:\\users\\18323\\anaconda3\\anaconda\\lib\\site-packages (from tweepy) (1.3.1)\n",
      "Requirement already satisfied: requests>=2.11.1 in c:\\users\\18323\\anaconda3\\anaconda\\lib\\site-packages (from tweepy) (2.26.0)\n",
      "Requirement already satisfied: PySocks>=1.5.7 in c:\\users\\18323\\anaconda3\\anaconda\\lib\\site-packages (from tweepy) (1.7.1)\n",
      "Requirement already satisfied: certifi>=2017.4.17 in c:\\users\\18323\\anaconda3\\anaconda\\lib\\site-packages (from requests>=2.11.1->tweepy) (2021.10.8)\n",
      "Requirement already satisfied: idna<4,>=2.5 in c:\\users\\18323\\anaconda3\\anaconda\\lib\\site-packages (from requests>=2.11.1->tweepy) (3.2)\n",
      "Requirement already satisfied: urllib3<1.27,>=1.21.1 in c:\\users\\18323\\anaconda3\\anaconda\\lib\\site-packages (from requests>=2.11.1->tweepy) (1.26.7)\n",
      "Requirement already satisfied: charset-normalizer~=2.0.0 in c:\\users\\18323\\anaconda3\\anaconda\\lib\\site-packages (from requests>=2.11.1->tweepy) (2.0.4)\n",
      "Requirement already satisfied: oauthlib>=3.0.0 in c:\\users\\18323\\anaconda3\\anaconda\\lib\\site-packages (from requests-oauthlib>=0.7.0->tweepy) (3.2.0)\n",
      "Requirement already satisfied: langdetect in c:\\users\\18323\\anaconda3\\anaconda\\lib\\site-packages (1.0.9)\n",
      "Requirement already satisfied: six in c:\\users\\18323\\anaconda3\\anaconda\\lib\\site-packages (from langdetect) (1.16.0)\n",
      "Requirement already satisfied: nltk in c:\\users\\18323\\anaconda3\\anaconda\\lib\\site-packages (3.6.5)\n",
      "Requirement already satisfied: click in c:\\users\\18323\\anaconda3\\anaconda\\lib\\site-packages (from nltk) (8.0.3)\n",
      "Requirement already satisfied: joblib in c:\\users\\18323\\anaconda3\\anaconda\\lib\\site-packages (from nltk) (1.1.0)\n",
      "Requirement already satisfied: regex>=2021.8.3 in c:\\users\\18323\\anaconda3\\anaconda\\lib\\site-packages (from nltk) (2021.8.3)\n",
      "Requirement already satisfied: tqdm in c:\\users\\18323\\anaconda3\\anaconda\\lib\\site-packages (from nltk) (4.62.3)\n",
      "Requirement already satisfied: colorama in c:\\users\\18323\\anaconda3\\anaconda\\lib\\site-packages (from click->nltk) (0.4.4)\n",
      "Requirement already satisfied: pycountry in c:\\users\\18323\\anaconda3\\anaconda\\lib\\site-packages (22.1.10)\n",
      "Requirement already satisfied: setuptools in c:\\users\\18323\\anaconda3\\anaconda\\lib\\site-packages (from pycountry) (58.0.4)\n"
     ]
    }
   ],
   "source": [
    "#Senitment Analysis Example\n",
    "\n",
    "!pip install textblob\n",
    "!pip install tweepy\n",
    "!pip install langdetect\n",
    "!pip install nltk\n",
    "!pip install pycountry"
   ]
  },
  {
   "cell_type": "code",
   "execution_count": 330,
   "id": "e0789646-4479-486a-8c65-5a8bdf8d03ec",
   "metadata": {},
   "outputs": [
    {
     "name": "stdout",
     "output_type": "stream",
     "text": [
      "Collecting vaderSentiment\n",
      "  Downloading vaderSentiment-3.3.2-py2.py3-none-any.whl (125 kB)\n",
      "Requirement already satisfied: requests in c:\\users\\18323\\anaconda3\\anaconda\\lib\\site-packages (from vaderSentiment) (2.26.0)\n",
      "Requirement already satisfied: urllib3<1.27,>=1.21.1 in c:\\users\\18323\\anaconda3\\anaconda\\lib\\site-packages (from requests->vaderSentiment) (1.26.7)\n",
      "Requirement already satisfied: certifi>=2017.4.17 in c:\\users\\18323\\anaconda3\\anaconda\\lib\\site-packages (from requests->vaderSentiment) (2021.10.8)\n",
      "Requirement already satisfied: idna<4,>=2.5 in c:\\users\\18323\\anaconda3\\anaconda\\lib\\site-packages (from requests->vaderSentiment) (3.2)\n",
      "Requirement already satisfied: charset-normalizer~=2.0.0 in c:\\users\\18323\\anaconda3\\anaconda\\lib\\site-packages (from requests->vaderSentiment) (2.0.4)\n",
      "Installing collected packages: vaderSentiment\n",
      "Successfully installed vaderSentiment-3.3.2\n"
     ]
    }
   ],
   "source": [
    "!pip install vaderSentiment"
   ]
  },
  {
   "cell_type": "code",
   "execution_count": 452,
   "id": "4efe52c5-8329-4198-a9bc-b1c06bc6a1b3",
   "metadata": {},
   "outputs": [],
   "source": [
    "#Import Libraries\n",
    "from textblob import TextBlob\n",
    "import sys\n",
    "import tweepy\n",
    "import matplotlib.pyplot as plt\n",
    "import pandas as pd\n",
    "import numpy as np\n",
    "import os\n",
    "import nltk\n",
    "import pycountry\n",
    "import re\n",
    "import string"
   ]
  },
  {
   "cell_type": "code",
   "execution_count": 335,
   "id": "9845eb18-6c09-4cc2-a0cd-dd17aa7007d6",
   "metadata": {},
   "outputs": [
    {
     "name": "stderr",
     "output_type": "stream",
     "text": [
      "[nltk_data] Downloading package vader_lexicon to\n",
      "[nltk_data]     C:\\Users\\18323\\AppData\\Roaming\\nltk_data...\n"
     ]
    },
    {
     "data": {
      "text/plain": [
       "True"
      ]
     },
     "execution_count": 335,
     "metadata": {},
     "output_type": "execute_result"
    }
   ],
   "source": [
    "import vaderSentiment\n",
    "nltk.download('vader_lexicon')\n"
   ]
  },
  {
   "cell_type": "markdown",
   "id": "043db7a3-b1be-4f05-ba57-964400809001",
   "metadata": {},
   "source": []
  },
  {
   "cell_type": "code",
   "execution_count": 453,
   "id": "3c26b6aa-dae2-4547-883d-c520e9462db8",
   "metadata": {},
   "outputs": [],
   "source": [
    "from wordcloud import WordCloud, STOPWORDS\n",
    "from PIL import Image\n",
    "from nltk.sentiment.vader import SentimentIntensityAnalyzer\n",
    "from langdetect import detect\n",
    "from nltk.stem import SnowballStemmer\n",
    "from nltk.sentiment.vader import SentimentIntensityAnalyzer\n",
    "from sklearn.feature_extraction.text import CountVectorizer"
   ]
  },
  {
   "cell_type": "code",
   "execution_count": 454,
   "id": "6420a55f-7955-457c-ad5b-ef8ab8f8beb4",
   "metadata": {},
   "outputs": [
    {
     "name": "stdin",
     "output_type": "stream",
     "text": [
      " Joe Biden\n",
      " 100\n"
     ]
    }
   ],
   "source": [
    "#Sentiment Analysis\n",
    "\n",
    "def percentage(part, whole):\n",
    "    return 100 * float(part)/float(whole)\n",
    "keyword = input('')\n",
    "noOfTweet = int(input())\n",
    "tweets = tweepy.Cursor(api.search, q=keyword).items(noOfTweet)\n",
    "positive = 0\n",
    "negative = 0\n",
    "neutral = 0\n",
    "polarity = 0\n",
    "tweet_list = []\n",
    "neutral_list = []\n",
    "negative_list = []\n",
    "positive_list = []"
   ]
  },
  {
   "cell_type": "markdown",
   "id": "bea8814b-766c-462f-b0c9-afd6a63342d9",
   "metadata": {},
   "source": []
  },
  {
   "cell_type": "code",
   "execution_count": 464,
   "id": "ecc39fa0-295e-4343-a54d-ce40810a176e",
   "metadata": {},
   "outputs": [
    {
     "ename": "TypeError",
     "evalue": "cannot concatenate object of type '<class 'str'>'; only Series and DataFrame objs are valid",
     "output_type": "error",
     "traceback": [
      "\u001b[1;31m---------------------------------------------------------------------------\u001b[0m",
      "\u001b[1;31mTypeError\u001b[0m                                 Traceback (most recent call last)",
      "\u001b[1;32m~\\AppData\\Local\\Temp/ipykernel_2112/4010876786.py\u001b[0m in \u001b[0;36m<module>\u001b[1;34m\u001b[0m\n\u001b[0;32m      2\u001b[0m \u001b[1;33m\u001b[0m\u001b[0m\n\u001b[0;32m      3\u001b[0m  \u001b[1;31m#print(tweet.text)\u001b[0m\u001b[1;33m\u001b[0m\u001b[1;33m\u001b[0m\u001b[0m\n\u001b[1;32m----> 4\u001b[1;33m  \u001b[0mtweet_list\u001b[0m\u001b[1;33m.\u001b[0m\u001b[0mappend\u001b[0m\u001b[1;33m(\u001b[0m\u001b[0mtweet\u001b[0m\u001b[1;33m.\u001b[0m\u001b[0mtext\u001b[0m\u001b[1;33m)\u001b[0m\u001b[1;33m\u001b[0m\u001b[1;33m\u001b[0m\u001b[0m\n\u001b[0m\u001b[0;32m      5\u001b[0m  \u001b[0manalysis\u001b[0m \u001b[1;33m=\u001b[0m \u001b[0mTextBlob\u001b[0m\u001b[1;33m(\u001b[0m\u001b[0mtweet\u001b[0m\u001b[1;33m.\u001b[0m\u001b[0mtext\u001b[0m\u001b[1;33m)\u001b[0m\u001b[1;33m\u001b[0m\u001b[1;33m\u001b[0m\u001b[0m\n\u001b[0;32m      6\u001b[0m  \u001b[0mscore\u001b[0m \u001b[1;33m=\u001b[0m \u001b[0mSentimentIntensityAnalyzer\u001b[0m\u001b[1;33m(\u001b[0m\u001b[1;33m)\u001b[0m\u001b[1;33m.\u001b[0m\u001b[0mpolarity_scores\u001b[0m\u001b[1;33m(\u001b[0m\u001b[0mtweet\u001b[0m\u001b[1;33m.\u001b[0m\u001b[0mtext\u001b[0m\u001b[1;33m)\u001b[0m\u001b[1;33m\u001b[0m\u001b[1;33m\u001b[0m\u001b[0m\n",
      "\u001b[1;32m~\\anaconda3\\anaconda\\lib\\site-packages\\pandas\\core\\frame.py\u001b[0m in \u001b[0;36mappend\u001b[1;34m(self, other, ignore_index, verify_integrity, sort)\u001b[0m\n\u001b[0;32m   8963\u001b[0m             \u001b[0mto_concat\u001b[0m \u001b[1;33m=\u001b[0m \u001b[1;33m[\u001b[0m\u001b[0mself\u001b[0m\u001b[1;33m,\u001b[0m \u001b[0mother\u001b[0m\u001b[1;33m]\u001b[0m\u001b[1;33m\u001b[0m\u001b[1;33m\u001b[0m\u001b[0m\n\u001b[0;32m   8964\u001b[0m         return (\n\u001b[1;32m-> 8965\u001b[1;33m             concat(\n\u001b[0m\u001b[0;32m   8966\u001b[0m                 \u001b[0mto_concat\u001b[0m\u001b[1;33m,\u001b[0m\u001b[1;33m\u001b[0m\u001b[1;33m\u001b[0m\u001b[0m\n\u001b[0;32m   8967\u001b[0m                 \u001b[0mignore_index\u001b[0m\u001b[1;33m=\u001b[0m\u001b[0mignore_index\u001b[0m\u001b[1;33m,\u001b[0m\u001b[1;33m\u001b[0m\u001b[1;33m\u001b[0m\u001b[0m\n",
      "\u001b[1;32m~\\anaconda3\\anaconda\\lib\\site-packages\\pandas\\util\\_decorators.py\u001b[0m in \u001b[0;36mwrapper\u001b[1;34m(*args, **kwargs)\u001b[0m\n\u001b[0;32m    309\u001b[0m                     \u001b[0mstacklevel\u001b[0m\u001b[1;33m=\u001b[0m\u001b[0mstacklevel\u001b[0m\u001b[1;33m,\u001b[0m\u001b[1;33m\u001b[0m\u001b[1;33m\u001b[0m\u001b[0m\n\u001b[0;32m    310\u001b[0m                 )\n\u001b[1;32m--> 311\u001b[1;33m             \u001b[1;32mreturn\u001b[0m \u001b[0mfunc\u001b[0m\u001b[1;33m(\u001b[0m\u001b[1;33m*\u001b[0m\u001b[0margs\u001b[0m\u001b[1;33m,\u001b[0m \u001b[1;33m**\u001b[0m\u001b[0mkwargs\u001b[0m\u001b[1;33m)\u001b[0m\u001b[1;33m\u001b[0m\u001b[1;33m\u001b[0m\u001b[0m\n\u001b[0m\u001b[0;32m    312\u001b[0m \u001b[1;33m\u001b[0m\u001b[0m\n\u001b[0;32m    313\u001b[0m         \u001b[1;32mreturn\u001b[0m \u001b[0mwrapper\u001b[0m\u001b[1;33m\u001b[0m\u001b[1;33m\u001b[0m\u001b[0m\n",
      "\u001b[1;32m~\\anaconda3\\anaconda\\lib\\site-packages\\pandas\\core\\reshape\\concat.py\u001b[0m in \u001b[0;36mconcat\u001b[1;34m(objs, axis, join, ignore_index, keys, levels, names, verify_integrity, sort, copy)\u001b[0m\n\u001b[0;32m    292\u001b[0m     \u001b[0mValueError\u001b[0m\u001b[1;33m:\u001b[0m \u001b[0mIndexes\u001b[0m \u001b[0mhave\u001b[0m \u001b[0moverlapping\u001b[0m \u001b[0mvalues\u001b[0m\u001b[1;33m:\u001b[0m \u001b[1;33m[\u001b[0m\u001b[1;34m'a'\u001b[0m\u001b[1;33m]\u001b[0m\u001b[1;33m\u001b[0m\u001b[1;33m\u001b[0m\u001b[0m\n\u001b[0;32m    293\u001b[0m     \"\"\"\n\u001b[1;32m--> 294\u001b[1;33m     op = _Concatenator(\n\u001b[0m\u001b[0;32m    295\u001b[0m         \u001b[0mobjs\u001b[0m\u001b[1;33m,\u001b[0m\u001b[1;33m\u001b[0m\u001b[1;33m\u001b[0m\u001b[0m\n\u001b[0;32m    296\u001b[0m         \u001b[0maxis\u001b[0m\u001b[1;33m=\u001b[0m\u001b[0maxis\u001b[0m\u001b[1;33m,\u001b[0m\u001b[1;33m\u001b[0m\u001b[1;33m\u001b[0m\u001b[0m\n",
      "\u001b[1;32m~\\anaconda3\\anaconda\\lib\\site-packages\\pandas\\core\\reshape\\concat.py\u001b[0m in \u001b[0;36m__init__\u001b[1;34m(self, objs, axis, join, keys, levels, names, ignore_index, verify_integrity, copy, sort)\u001b[0m\n\u001b[0;32m    382\u001b[0m                     \u001b[1;34m\"only Series and DataFrame objs are valid\"\u001b[0m\u001b[1;33m\u001b[0m\u001b[1;33m\u001b[0m\u001b[0m\n\u001b[0;32m    383\u001b[0m                 )\n\u001b[1;32m--> 384\u001b[1;33m                 \u001b[1;32mraise\u001b[0m \u001b[0mTypeError\u001b[0m\u001b[1;33m(\u001b[0m\u001b[0mmsg\u001b[0m\u001b[1;33m)\u001b[0m\u001b[1;33m\u001b[0m\u001b[1;33m\u001b[0m\u001b[0m\n\u001b[0m\u001b[0;32m    385\u001b[0m \u001b[1;33m\u001b[0m\u001b[0m\n\u001b[0;32m    386\u001b[0m             \u001b[0mndims\u001b[0m\u001b[1;33m.\u001b[0m\u001b[0madd\u001b[0m\u001b[1;33m(\u001b[0m\u001b[0mobj\u001b[0m\u001b[1;33m.\u001b[0m\u001b[0mndim\u001b[0m\u001b[1;33m)\u001b[0m\u001b[1;33m\u001b[0m\u001b[1;33m\u001b[0m\u001b[0m\n",
      "\u001b[1;31mTypeError\u001b[0m: cannot concatenate object of type '<class 'str'>'; only Series and DataFrame objs are valid"
     ]
    }
   ],
   "source": [
    "    for tweet in tweets:\n",
    " \n",
    " #print(tweet.text)\n",
    " tweet_list.append(tweet.text)\n",
    " analysis = TextBlob(tweet.text)\n",
    " score = SentimentIntensityAnalyzer().polarity_scores(tweet.text)\n",
    " neg = score['neg']\n",
    " neu = score['neu']\n",
    " pos = score['pos']\n",
    " comp = score['compound']\n",
    " polarity += analysis.sentiment.polarity\n",
    " \n",
    "if neg > pos:\n",
    "     negative_list.append(tweet.text)\n",
    "     negative += 1\n",
    "elif pos > neg:\n",
    "     positive_list.append(tweet.text)\n",
    "     positive += 1\n",
    " \n",
    "elif pos == neg:\n",
    "     neutral_list.append(tweet.text)\n",
    "     neutral += 1\n",
    "    positive = percentage(positive, noOfTweet)\n",
    "    negative = percentage(negative, noOfTweet)\n",
    "    neutral = percentage(neutral, noOfTweet)\n",
    "    polarity = percentage(polarity, noOfTweet)\n",
    "    positive = format(positive, '.1f')\n",
    "    negative = format(negative, '.1f')\n",
    "    neutral = format(neutral, '.1f')\n"
   ]
  },
  {
   "cell_type": "code",
   "execution_count": null,
   "id": "a94854c4-0876-4ad4-98c2-436b9fcdac0e",
   "metadata": {},
   "outputs": [],
   "source": []
  },
  {
   "cell_type": "code",
   "execution_count": 308,
   "id": "9cdd5c48-c158-4cd2-b044-f1e25243bbf3",
   "metadata": {},
   "outputs": [],
   "source": [
    "import nltk"
   ]
  },
  {
   "cell_type": "code",
   "execution_count": null,
   "id": "7142a7d8-7a24-4371-859e-af30e3824198",
   "metadata": {},
   "outputs": [],
   "source": []
  },
  {
   "cell_type": "code",
   "execution_count": 465,
   "id": "1d808b3e-c48d-4776-9d90-bbd7c499987d",
   "metadata": {},
   "outputs": [
    {
     "name": "stdout",
     "output_type": "stream",
     "text": [
      "total number:  3\n",
      "positive number:  0\n",
      "negative number:  2\n",
      "neutral number:  1\n"
     ]
    }
   ],
   "source": [
    "#Number of Tweets (Total, Positive, Negative, Neutral)\n",
    "\n",
    "tweet_list = pd.DataFrame(tweet_list)\n",
    "neutral_list = pd.DataFrame(neutral_list)\n",
    "negative_list = pd.DataFrame(negative_list)\n",
    "positive_list = pd.DataFrame(positive_list)\n",
    "print(\"total number: \",len(tweet_list))\n",
    "print(\"positive number: \",len(positive_list))\n",
    "print(\"negative number: \",len(negative_list))\n",
    "print(\"neutral number: \",len(neutral_list))\n",
    "\n"
   ]
  },
  {
   "cell_type": "code",
   "execution_count": 466,
   "id": "8b196f2a-2c6e-4d51-8cf8-b1acde2ac1c8",
   "metadata": {},
   "outputs": [
    {
     "data": {
      "image/png": "[encoded data removed]",
      "text/plain": [
       "<Figure size 640x480 with 1 Axes>"
      ]
     },
     "metadata": {},
     "output_type": "display_data"
    }
   ],
   "source": [
    "#Creating PieChart\n",
    "\n",
    "labels = ['Positive ['+str(positive)+'%]', 'Neutral ['+str(neutral)+'%]','Negative ['+str(negative)+'%]']\n",
    "sizes = [positive, neutral, negative]\n",
    "colors = ['yellowgreen', 'blue', 'red']\n",
    "patches, texts =plt.pie(sizes,colors=colors, startangle=90)\n",
    "plt.style.use('default')\n",
    "plt.legend(labels)\n",
    "plt.title(\"Sentiment Analysis Result for keyword= \"+keyword+\"\")\n",
    "plt.axis('equal')\n",
    "plt.show()"
   ]
  },
  {
   "cell_type": "code",
   "execution_count": 467,
   "id": "946d6e9f-2ba0-4c47-83a1-35f7e73b5197",
   "metadata": {},
   "outputs": [],
   "source": [
    "#Clean Tweets to Analyze Sentiment\n",
    "\n",
    "tweet_list.drop_duplicates(inplace = True)"
   ]
  },
  {
   "cell_type": "code",
   "execution_count": 468,
   "id": "70cfa74f-3fd3-48be-9661-d7ed46de5a41",
   "metadata": {},
   "outputs": [
    {
     "data": {
      "text/html": [
       "<div>\n",
       "<style scoped>\n",
       "    .dataframe tbody tr th:only-of-type {\n",
       "        vertical-align: middle;\n",
       "    }\n",
       "\n",
       "    .dataframe tbody tr th {\n",
       "        vertical-align: top;\n",
       "    }\n",
       "\n",
       "    .dataframe thead th {\n",
       "        text-align: right;\n",
       "    }\n",
       "</style>\n",
       "<table border=\"1\" class=\"dataframe\">\n",
       "  <thead>\n",
       "    <tr style=\"text-align: right;\">\n",
       "      <th></th>\n",
       "      <th>0</th>\n",
       "      <th>text</th>\n",
       "    </tr>\n",
       "  </thead>\n",
       "  <tbody>\n",
       "    <tr>\n",
       "      <th>0</th>\n",
       "      <td>RT @lopezdoriga: El ministro de Exteriores rus...</td>\n",
       "      <td>,      é       ...</td>\n",
       "    </tr>\n",
       "    <tr>\n",
       "      <th>1</th>\n",
       "      <td>RT @IsabellaMDeLuca: Joe Biden just said we sh...</td>\n",
       "      <td>...</td>\n",
       "    </tr>\n",
       "    <tr>\n",
       "      <th>2</th>\n",
       "      <td>RT @denverpost: Delivering the loudest hecklin...</td>\n",
       "      <td>...</td>\n",
       "    </tr>\n",
       "  </tbody>\n",
       "</table>\n",
       "</div>"
      ],
      "text/plain": [
       "                                                   0  \\\n",
       "0  RT @lopezdoriga: El ministro de Exteriores rus...   \n",
       "1  RT @IsabellaMDeLuca: Joe Biden just said we sh...   \n",
       "2  RT @denverpost: Delivering the loudest hecklin...   \n",
       "\n",
       "                                                text  \n",
       "0                                 ,      é       ...  \n",
       "1                                                ...  \n",
       "2                                                ...  "
      ]
     },
     "execution_count": 468,
     "metadata": {},
     "output_type": "execute_result"
    }
   ],
   "source": [
    "\n",
    "#Cleaning Text (RT, Punctuation etc)\n",
    "#Creating new dataframe and new features\n",
    "tw_list = pd.DataFrame(tweet_list)\n",
    "tw_list[\"text\"] = tw_list[0]\n",
    "#Removing RT, Punctuation etc\n",
    "remove_rt = lambda x: re.sub('RT @\\w+: ',\" \",x)\n",
    "rt = lambda x: re.sub(\"(@[A-Za-z0–9]+)|([0-9A-Za-z \\t])|(\\w+:\\/\\/\\S+)\",\" \",x)\n",
    "tw_list[\"text\"] = tw_list.text.map(remove_rt).map(rt)\n",
    "tw_list[\"text\"] = tw_list.text.str.lower()\n",
    "tw_list.head(10)"
   ]
  },
  {
   "cell_type": "code",
   "execution_count": 469,
   "id": "0dcb7281-fdaf-4b47-982a-485b40165734",
   "metadata": {},
   "outputs": [],
   "source": [
    "#Calculating Negative, Positive, Neutral and Compound values\n",
    "tw_list[['polarity', 'subjectivity']] = tw_list['text'].apply(lambda Text: pd.Series(TextBlob(Text).sentiment))\n",
    "for index, row in tw_list['text'].iteritems():\n",
    " score = SentimentIntensityAnalyzer().polarity_scores(row)\n",
    " neg = score['neg']\n",
    " neu = score['neu']\n",
    " pos = score['pos']\n",
    " comp = score['compound']\n",
    " if neg > pos:\n",
    "     tw_list.loc[index, 'sentiment'] = \"negative\"\n",
    " elif pos > neg:\n",
    "     tw_list.loc[index, 'sentiment'] = \"positive\"\n",
    " else:\n",
    "     tw_list.loc[index, 'sentiment'] = \"neutral\"\n",
    "     tw_list.loc[index, 'neg'] = neg\n",
    "     tw_list.loc[index, 'neu'] = neu\n",
    "     tw_list.loc[index, 'pos'] = pos\n",
    "     tw_list.loc[index, 'compound'] = comp\n",
    "     tw_list.head(10)"
   ]
  },
  {
   "cell_type": "code",
   "execution_count": 470,
   "id": "40a0629f-eb33-4065-8d2f-57b027e14740",
   "metadata": {},
   "outputs": [],
   "source": [
    "#Creating new data frames for all sentiments (positive, negative and neutral)\n",
    "\n",
    "tw_list_negative = tw_list[tw_list[\"sentiment\"]==\"negative\"]\n",
    "tw_list_positive = tw_list[tw_list[\"sentiment\"]==\"positive\"]\n",
    "tw_list_neutral = tw_list[tw_list[\"sentiment\"]==\"neutral\"]"
   ]
  },
  {
   "cell_type": "code",
   "execution_count": 471,
   "id": "38af41a6-1b8d-4f74-8728-5219c653bb4f",
   "metadata": {},
   "outputs": [
    {
     "data": {
      "text/html": [
       "<div>\n",
       "<style scoped>\n",
       "    .dataframe tbody tr th:only-of-type {\n",
       "        vertical-align: middle;\n",
       "    }\n",
       "\n",
       "    .dataframe tbody tr th {\n",
       "        vertical-align: top;\n",
       "    }\n",
       "\n",
       "    .dataframe thead th {\n",
       "        text-align: right;\n",
       "    }\n",
       "</style>\n",
       "<table border=\"1\" class=\"dataframe\">\n",
       "  <thead>\n",
       "    <tr style=\"text-align: right;\">\n",
       "      <th></th>\n",
       "      <th>Total</th>\n",
       "      <th>Percentage</th>\n",
       "    </tr>\n",
       "  </thead>\n",
       "  <tbody>\n",
       "    <tr>\n",
       "      <th>neutral</th>\n",
       "      <td>3</td>\n",
       "      <td>100.0</td>\n",
       "    </tr>\n",
       "  </tbody>\n",
       "</table>\n",
       "</div>"
      ],
      "text/plain": [
       "         Total  Percentage\n",
       "neutral      3       100.0"
      ]
     },
     "execution_count": 471,
     "metadata": {},
     "output_type": "execute_result"
    }
   ],
   "source": [
    "def count_values_in_column(data,feature):\n",
    " total=data.loc[:,feature].value_counts(dropna=False)\n",
    " percentage=round(data.loc[:,feature].value_counts(dropna=False,normalize=True)*100,2)\n",
    " return pd.concat([total,percentage],axis=1,keys=['Total','Percentage'])\n",
    "#Count_values for sentiment\n",
    "count_values_in_column(tw_list,\"sentiment\")"
   ]
  },
  {
   "cell_type": "code",
   "execution_count": 472,
   "id": "1bf164fe-4694-409e-8fbc-ba630a365148",
   "metadata": {},
   "outputs": [
    {
     "ename": "NameError",
     "evalue": "name 'pc' is not defined",
     "output_type": "error",
     "traceback": [
      "\u001b[1;31m---------------------------------------------------------------------------\u001b[0m",
      "\u001b[1;31mNameError\u001b[0m                                 Traceback (most recent call last)",
      "\u001b[1;32m~\\AppData\\Local\\Temp/ipykernel_2112/937085844.py\u001b[0m in \u001b[0;36m<module>\u001b[1;34m\u001b[0m\n\u001b[0;32m      1\u001b[0m \u001b[1;31m# create data for Pie Chart\u001b[0m\u001b[1;33m\u001b[0m\u001b[1;33m\u001b[0m\u001b[0m\n\u001b[0;32m      2\u001b[0m \u001b[0mpichart\u001b[0m \u001b[1;33m=\u001b[0m \u001b[0mcount_values_in_column\u001b[0m\u001b[1;33m(\u001b[0m\u001b[0mtw_list\u001b[0m\u001b[1;33m,\u001b[0m\u001b[1;34m\"sentiment\"\u001b[0m\u001b[1;33m)\u001b[0m\u001b[1;33m\u001b[0m\u001b[1;33m\u001b[0m\u001b[0m\n\u001b[1;32m----> 3\u001b[1;33m \u001b[0mnames\u001b[0m\u001b[1;33m=\u001b[0m \u001b[0mpc\u001b[0m\u001b[1;33m.\u001b[0m\u001b[0mindex\u001b[0m\u001b[1;33m\u001b[0m\u001b[1;33m\u001b[0m\u001b[0m\n\u001b[0m\u001b[0;32m      4\u001b[0m \u001b[0msize\u001b[0m\u001b[1;33m=\u001b[0m\u001b[0mpc\u001b[0m\u001b[1;33m[\u001b[0m\u001b[1;34m\"Percentage\"\u001b[0m\u001b[1;33m]\u001b[0m\u001b[1;33m\u001b[0m\u001b[1;33m\u001b[0m\u001b[0m\n\u001b[0;32m      5\u001b[0m \u001b[1;33m\u001b[0m\u001b[0m\n",
      "\u001b[1;31mNameError\u001b[0m: name 'pc' is not defined"
     ]
    }
   ],
   "source": [
    "# create data for Pie Chart\n",
    "pichart = count_values_in_column(tw_list,\"sentiment\")\n",
    "names= pc.index\n",
    "size=pc[\"Percentage\"]\n",
    " \n",
    "# Create a circle for the center of the plot\n",
    "my_circle=plt.Circle( (0,0), 0.7, color='white')\n",
    "plt.pie(size, labels=names, colors=['green','blue','red'])\n",
    "p=plt.gcf()\n",
    "p.gca().add_artist(my_circle)\n",
    "plt.show()"
   ]
  },
  {
   "cell_type": "code",
   "execution_count": 473,
   "id": "553a88ef-5045-4e7b-92e2-aa79cb2f6b13",
   "metadata": {},
   "outputs": [],
   "source": [
    "#Function to Create Wordcloud\n",
    "def create_wordcloud(text):\n",
    " mask = np.array(Image.open(\"cloud.png\"))\n",
    " stopwords = set(STOPWORDS)\n",
    " wc = WordCloud(background_color=\"white\",\n",
    " mask = mask,\n",
    " max_words=3000,\n",
    " stopwords=stopwords,\n",
    " repeat=True)\n",
    " wc.generate(str(text))\n",
    " wc.to_file(\"wc.png\")\n",
    " print(\"Word Cloud Saved Successfully\")\n",
    " path=\"wc.png\"\n",
    " display(Image.open(path))"
   ]
  },
  {
   "cell_type": "code",
   "execution_count": 474,
   "id": "7cfd365e-74fc-4a8c-93d0-7fe180de1daa",
   "metadata": {},
   "outputs": [
    {
     "ename": "FileNotFoundError",
     "evalue": "[Errno 2] No such file or directory: 'cloud.png'",
     "output_type": "error",
     "traceback": [
      "\u001b[1;31m---------------------------------------------------------------------------\u001b[0m",
      "\u001b[1;31mFileNotFoundError\u001b[0m                         Traceback (most recent call last)",
      "\u001b[1;32m~\\AppData\\Local\\Temp/ipykernel_2112/399737899.py\u001b[0m in \u001b[0;36m<module>\u001b[1;34m\u001b[0m\n\u001b[0;32m      1\u001b[0m \u001b[1;31m#Creating wordcloud for all tweets\u001b[0m\u001b[1;33m\u001b[0m\u001b[1;33m\u001b[0m\u001b[0m\n\u001b[1;32m----> 2\u001b[1;33m \u001b[0mcreate_wordcloud\u001b[0m\u001b[1;33m(\u001b[0m\u001b[0mtw_list\u001b[0m\u001b[1;33m[\u001b[0m\u001b[1;34m\"text\"\u001b[0m\u001b[1;33m]\u001b[0m\u001b[1;33m.\u001b[0m\u001b[0mvalues\u001b[0m\u001b[1;33m)\u001b[0m\u001b[1;33m\u001b[0m\u001b[1;33m\u001b[0m\u001b[0m\n\u001b[0m",
      "\u001b[1;32m~\\AppData\\Local\\Temp/ipykernel_2112/1420373862.py\u001b[0m in \u001b[0;36mcreate_wordcloud\u001b[1;34m(text)\u001b[0m\n\u001b[0;32m      1\u001b[0m \u001b[1;31m#Function to Create Wordcloud\u001b[0m\u001b[1;33m\u001b[0m\u001b[1;33m\u001b[0m\u001b[0m\n\u001b[0;32m      2\u001b[0m \u001b[1;32mdef\u001b[0m \u001b[0mcreate_wordcloud\u001b[0m\u001b[1;33m(\u001b[0m\u001b[0mtext\u001b[0m\u001b[1;33m)\u001b[0m\u001b[1;33m:\u001b[0m\u001b[1;33m\u001b[0m\u001b[1;33m\u001b[0m\u001b[0m\n\u001b[1;32m----> 3\u001b[1;33m  \u001b[0mmask\u001b[0m \u001b[1;33m=\u001b[0m \u001b[0mnp\u001b[0m\u001b[1;33m.\u001b[0m\u001b[0marray\u001b[0m\u001b[1;33m(\u001b[0m\u001b[0mImage\u001b[0m\u001b[1;33m.\u001b[0m\u001b[0mopen\u001b[0m\u001b[1;33m(\u001b[0m\u001b[1;34m\"cloud.png\"\u001b[0m\u001b[1;33m)\u001b[0m\u001b[1;33m)\u001b[0m\u001b[1;33m\u001b[0m\u001b[1;33m\u001b[0m\u001b[0m\n\u001b[0m\u001b[0;32m      4\u001b[0m  \u001b[0mstopwords\u001b[0m \u001b[1;33m=\u001b[0m \u001b[0mset\u001b[0m\u001b[1;33m(\u001b[0m\u001b[0mSTOPWORDS\u001b[0m\u001b[1;33m)\u001b[0m\u001b[1;33m\u001b[0m\u001b[1;33m\u001b[0m\u001b[0m\n\u001b[0;32m      5\u001b[0m  wc = WordCloud(background_color=\"white\",\n",
      "\u001b[1;32m~\\anaconda3\\anaconda\\lib\\site-packages\\PIL\\Image.py\u001b[0m in \u001b[0;36mopen\u001b[1;34m(fp, mode, formats)\u001b[0m\n\u001b[0;32m   2973\u001b[0m \u001b[1;33m\u001b[0m\u001b[0m\n\u001b[0;32m   2974\u001b[0m     \u001b[1;32mif\u001b[0m \u001b[0mfilename\u001b[0m\u001b[1;33m:\u001b[0m\u001b[1;33m\u001b[0m\u001b[1;33m\u001b[0m\u001b[0m\n\u001b[1;32m-> 2975\u001b[1;33m         \u001b[0mfp\u001b[0m \u001b[1;33m=\u001b[0m \u001b[0mbuiltins\u001b[0m\u001b[1;33m.\u001b[0m\u001b[0mopen\u001b[0m\u001b[1;33m(\u001b[0m\u001b[0mfilename\u001b[0m\u001b[1;33m,\u001b[0m \u001b[1;34m\"rb\"\u001b[0m\u001b[1;33m)\u001b[0m\u001b[1;33m\u001b[0m\u001b[1;33m\u001b[0m\u001b[0m\n\u001b[0m\u001b[0;32m   2976\u001b[0m         \u001b[0mexclusive_fp\u001b[0m \u001b[1;33m=\u001b[0m \u001b[1;32mTrue\u001b[0m\u001b[1;33m\u001b[0m\u001b[1;33m\u001b[0m\u001b[0m\n\u001b[0;32m   2977\u001b[0m \u001b[1;33m\u001b[0m\u001b[0m\n",
      "\u001b[1;31mFileNotFoundError\u001b[0m: [Errno 2] No such file or directory: 'cloud.png'"
     ]
    }
   ],
   "source": [
    "#Creating wordcloud for all tweets\n",
    "create_wordcloud(tw_list[\"text\"].values)"
   ]
  },
  {
   "cell_type": "code",
   "execution_count": 475,
   "id": "83ccca07-c739-42a8-9b60-a6dab442a3b6",
   "metadata": {},
   "outputs": [
    {
     "ename": "FileNotFoundError",
     "evalue": "[Errno 2] No such file or directory: 'cloud.png'",
     "output_type": "error",
     "traceback": [
      "\u001b[1;31m---------------------------------------------------------------------------\u001b[0m",
      "\u001b[1;31mFileNotFoundError\u001b[0m                         Traceback (most recent call last)",
      "\u001b[1;32m~\\AppData\\Local\\Temp/ipykernel_2112/3415822924.py\u001b[0m in \u001b[0;36m<module>\u001b[1;34m\u001b[0m\n\u001b[0;32m      1\u001b[0m \u001b[1;31m#Creating wordcloud for positive sentiment\u001b[0m\u001b[1;33m\u001b[0m\u001b[1;33m\u001b[0m\u001b[0m\n\u001b[1;32m----> 2\u001b[1;33m \u001b[0mcreate_wordcloud\u001b[0m\u001b[1;33m(\u001b[0m\u001b[0mtw_list_positive\u001b[0m\u001b[1;33m[\u001b[0m\u001b[1;34m\"text\"\u001b[0m\u001b[1;33m]\u001b[0m\u001b[1;33m.\u001b[0m\u001b[0mvalues\u001b[0m\u001b[1;33m)\u001b[0m\u001b[1;33m\u001b[0m\u001b[1;33m\u001b[0m\u001b[0m\n\u001b[0m",
      "\u001b[1;32m~\\AppData\\Local\\Temp/ipykernel_2112/1420373862.py\u001b[0m in \u001b[0;36mcreate_wordcloud\u001b[1;34m(text)\u001b[0m\n\u001b[0;32m      1\u001b[0m \u001b[1;31m#Function to Create Wordcloud\u001b[0m\u001b[1;33m\u001b[0m\u001b[1;33m\u001b[0m\u001b[0m\n\u001b[0;32m      2\u001b[0m \u001b[1;32mdef\u001b[0m \u001b[0mcreate_wordcloud\u001b[0m\u001b[1;33m(\u001b[0m\u001b[0mtext\u001b[0m\u001b[1;33m)\u001b[0m\u001b[1;33m:\u001b[0m\u001b[1;33m\u001b[0m\u001b[1;33m\u001b[0m\u001b[0m\n\u001b[1;32m----> 3\u001b[1;33m  \u001b[0mmask\u001b[0m \u001b[1;33m=\u001b[0m \u001b[0mnp\u001b[0m\u001b[1;33m.\u001b[0m\u001b[0marray\u001b[0m\u001b[1;33m(\u001b[0m\u001b[0mImage\u001b[0m\u001b[1;33m.\u001b[0m\u001b[0mopen\u001b[0m\u001b[1;33m(\u001b[0m\u001b[1;34m\"cloud.png\"\u001b[0m\u001b[1;33m)\u001b[0m\u001b[1;33m)\u001b[0m\u001b[1;33m\u001b[0m\u001b[1;33m\u001b[0m\u001b[0m\n\u001b[0m\u001b[0;32m      4\u001b[0m  \u001b[0mstopwords\u001b[0m \u001b[1;33m=\u001b[0m \u001b[0mset\u001b[0m\u001b[1;33m(\u001b[0m\u001b[0mSTOPWORDS\u001b[0m\u001b[1;33m)\u001b[0m\u001b[1;33m\u001b[0m\u001b[1;33m\u001b[0m\u001b[0m\n\u001b[0;32m      5\u001b[0m  wc = WordCloud(background_color=\"white\",\n",
      "\u001b[1;32m~\\anaconda3\\anaconda\\lib\\site-packages\\PIL\\Image.py\u001b[0m in \u001b[0;36mopen\u001b[1;34m(fp, mode, formats)\u001b[0m\n\u001b[0;32m   2973\u001b[0m \u001b[1;33m\u001b[0m\u001b[0m\n\u001b[0;32m   2974\u001b[0m     \u001b[1;32mif\u001b[0m \u001b[0mfilename\u001b[0m\u001b[1;33m:\u001b[0m\u001b[1;33m\u001b[0m\u001b[1;33m\u001b[0m\u001b[0m\n\u001b[1;32m-> 2975\u001b[1;33m         \u001b[0mfp\u001b[0m \u001b[1;33m=\u001b[0m \u001b[0mbuiltins\u001b[0m\u001b[1;33m.\u001b[0m\u001b[0mopen\u001b[0m\u001b[1;33m(\u001b[0m\u001b[0mfilename\u001b[0m\u001b[1;33m,\u001b[0m \u001b[1;34m\"rb\"\u001b[0m\u001b[1;33m)\u001b[0m\u001b[1;33m\u001b[0m\u001b[1;33m\u001b[0m\u001b[0m\n\u001b[0m\u001b[0;32m   2976\u001b[0m         \u001b[0mexclusive_fp\u001b[0m \u001b[1;33m=\u001b[0m \u001b[1;32mTrue\u001b[0m\u001b[1;33m\u001b[0m\u001b[1;33m\u001b[0m\u001b[0m\n\u001b[0;32m   2977\u001b[0m \u001b[1;33m\u001b[0m\u001b[0m\n",
      "\u001b[1;31mFileNotFoundError\u001b[0m: [Errno 2] No such file or directory: 'cloud.png'"
     ]
    }
   ],
   "source": [
    "#Creating wordcloud for positive sentiment\n",
    "create_wordcloud(tw_list_positive[\"text\"].values)"
   ]
  },
  {
   "cell_type": "code",
   "execution_count": 476,
   "id": "6890a09b-ac71-4d2b-b54b-fb0e24aa71b8",
   "metadata": {},
   "outputs": [
    {
     "ename": "SyntaxError",
     "evalue": "EOL while scanning string literal (Temp/ipykernel_2112/2019191903.py, line 3)",
     "output_type": "error",
     "traceback": [
      "\u001b[1;36m  File \u001b[1;32m\"C:\\Users\\18323\\AppData\\Local\\Temp/ipykernel_2112/2019191903.py\"\u001b[1;36m, line \u001b[1;32m3\u001b[0m\n\u001b[1;33m    tw_list['text_word_count'] = tw_list['text\"].apply(lambda x: len(str(x).split()))\u001b[0m\n\u001b[1;37m                                                                                     ^\u001b[0m\n\u001b[1;31mSyntaxError\u001b[0m\u001b[1;31m:\u001b[0m EOL while scanning string literal\n"
     ]
    }
   ],
   "source": [
    "#Calculating tweet’s lenght and word count\n",
    "tw_list['text_len'] = tw_list['text'].astype(str).apply(len)\n",
    "tw_list['text_word_count'] = tw_list['text\"].apply(lambda x: len(str(x).split()))\n",
    "round(pd.DataFrame(tw_list.groupby(\"sentiment\").text_len.mean()),2)round(pd.DataFrame(tw_list.groupby(“sentiment”).text_word_count.mean()),2)"
   ]
  },
  {
   "cell_type": "code",
   "execution_count": 477,
   "id": "e5cd5c56-29d3-48ba-9aa9-c1e015fe9abf",
   "metadata": {},
   "outputs": [
    {
     "ename": "SyntaxError",
     "evalue": "invalid character '–' (U+2013) (Temp/ipykernel_2112/16398231.py, line 4)",
     "output_type": "error",
     "traceback": [
      "\u001b[1;36m  File \u001b[1;32m\"C:\\Users\\18323\\AppData\\Local\\Temp/ipykernel_2112/16398231.py\"\u001b[1;36m, line \u001b[1;32m4\u001b[0m\n\u001b[1;33m    text = re.sub([0–9]+, text)\u001b[0m\n\u001b[1;37m                    ^\u001b[0m\n\u001b[1;31mSyntaxError\u001b[0m\u001b[1;31m:\u001b[0m invalid character '–' (U+2013)\n"
     ]
    }
   ],
   "source": [
    "#Removing Punctuation\n",
    "def remove_punct(text):\n",
    " text = \"\".join([char for char in text if char not in string.punctuation])\n",
    " text = re.sub([0–9]+, text)\n",
    " return text\n",
    "tw_list['punct'] = tw_list['text'].apply(lambda x: remove_punct(x))\n",
    "#Appliyng tokenization\n",
    "def tokenization(text):\n",
    "    text = re.split('\\W+', text)\n",
    "    return text\n",
    "tw_list['tokenized'] = tw_list['punct'].apply(lambda x: tokenization(x.lower()))\n",
    "#Removing stopwords\n",
    "stopword = nltk.corpus.stopwords.words('english')\n",
    "def remove_stopwords(text):\n",
    "    text = [word for word in text if word not in stopword]\n",
    "    return text\n",
    "    \n",
    "tw_list['nonstop'] = tw_list['tokenized'].apply(lambda x: remove_stopwords(x))\n",
    "#Appliyng Stemmer\n",
    "ps = nltk.PorterStemmer()\n",
    "def stemming(text):\n",
    "    text = [ps.stem(word) for word in text]\n",
    "    return text\n",
    "tw_list['stemmed'] = tw_list['nonstop'].apply(lambda x: stemming(x))\n",
    "#Cleaning Text\n",
    "def clean_text(text):\n",
    "    text_lc = \"\".join([word.lower() for word in text if word not in string.punctuation]) # remove puntuation\n",
    "    text_rc = re.sub('[0-9]'+ '', text_lc)\n",
    "    tokens = re.split('\\W+', text_rc)    # tokenization\n",
    "    text = [ps.stem(word) for word in tokens if word not in stopword]  # remove stopwords and stemming\n",
    "    return text\n",
    "tw_list.head()#Removing Punctuation\n",
    "def remove_punct(text):\n",
    " text = “”.join([char for char in text if char not in string.punctuation])\n",
    " text = re.sub('[0–9]+', '', text)\n",
    " return text\n",
    "tw_list[‘punct’] = tw_list[‘text’].apply(lambda x: remove_punct(x))\n",
    "#Appliyng tokenization\n",
    "def tokenization(text):\n",
    "    text = re.split('\\W+', text)\n",
    "    return text\n",
    "tw_list['tokenized'] = tw_list['punct'].apply(lambda x: tokenization(x.lower()))\n",
    "#Removing stopwords\n",
    "stopword = nltk.corpus.stopwords.words('english')\n",
    "def remove_stopwords(text):\n",
    "    text = [word for word in text if word not in stopword]\n",
    "    return text\n",
    "    \n",
    "tw_list['nonstop'] = tw_list['tokenized'].apply(lambda x: remove_stopwords(x))\n",
    "#Appliyng Stemmer\n",
    "ps = nltk.PorterStemmer()\n",
    "def stemming(text):\n",
    "    text = [ps.stem(word) for word in text]\n",
    "    return text\n",
    "tw_list['stemmed'] = tw_list['nonstop'].apply(lambda x: stemming(x))\n",
    "#Cleaning Text\n",
    "def clean_text(text):\n",
    "    text_lc = \"\".join([word.lower() for word in text if word not in string.punctuation]) # remove puntuation\n",
    "    text_rc = re.sub('[0-9]+', '', text_lc)\n",
    "    tokens = re.split('\\W+', text_rc)    # tokenization\n",
    "    text = [ps.stem(word) for word in tokens if word not in stopword]  # remove stopwords and stemming\n",
    "    return text\n",
    "tw_list.head()"
   ]
  },
  {
   "cell_type": "code",
   "execution_count": 478,
   "id": "3e250b73-3732-4a4f-8580-9308ddafff67",
   "metadata": {},
   "outputs": [
    {
     "ename": "NameError",
     "evalue": "name 'clean_text' is not defined",
     "output_type": "error",
     "traceback": [
      "\u001b[1;31m---------------------------------------------------------------------------\u001b[0m",
      "\u001b[1;31mNameError\u001b[0m                                 Traceback (most recent call last)",
      "\u001b[1;32m~\\AppData\\Local\\Temp/ipykernel_2112/912172848.py\u001b[0m in \u001b[0;36m<module>\u001b[1;34m\u001b[0m\n\u001b[0;32m      1\u001b[0m \u001b[1;31m#Appliyng Countvectorizer\u001b[0m\u001b[1;33m\u001b[0m\u001b[1;33m\u001b[0m\u001b[0m\n\u001b[1;32m----> 2\u001b[1;33m \u001b[0mcountVectorizer\u001b[0m \u001b[1;33m=\u001b[0m \u001b[0mCountVectorizer\u001b[0m\u001b[1;33m(\u001b[0m\u001b[0manalyzer\u001b[0m\u001b[1;33m=\u001b[0m\u001b[0mclean_text\u001b[0m\u001b[1;33m)\u001b[0m\u001b[1;33m\u001b[0m\u001b[1;33m\u001b[0m\u001b[0m\n\u001b[0m\u001b[0;32m      3\u001b[0m \u001b[0mcountVector\u001b[0m \u001b[1;33m=\u001b[0m \u001b[0mcountVectorizer\u001b[0m\u001b[1;33m.\u001b[0m\u001b[0mfit_transform\u001b[0m\u001b[1;33m(\u001b[0m\u001b[0mtw_list\u001b[0m\u001b[1;33m[\u001b[0m\u001b[1;34m'text'\u001b[0m\u001b[1;33m]\u001b[0m\u001b[1;33m)\u001b[0m\u001b[1;33m\u001b[0m\u001b[1;33m\u001b[0m\u001b[0m\n\u001b[0;32m      4\u001b[0m \u001b[0mprint\u001b[0m\u001b[1;33m(\u001b[0m\u001b[1;34m'{} Number of reviews has {} words'\u001b[0m\u001b[1;33m.\u001b[0m\u001b[0mformat\u001b[0m\u001b[1;33m(\u001b[0m\u001b[0mcountVector\u001b[0m\u001b[1;33m.\u001b[0m\u001b[0mshape\u001b[0m\u001b[1;33m[\u001b[0m\u001b[1;36m0\u001b[0m\u001b[1;33m]\u001b[0m\u001b[1;33m,\u001b[0m \u001b[0mcountVector\u001b[0m\u001b[1;33m.\u001b[0m\u001b[0mshape\u001b[0m\u001b[1;33m[\u001b[0m\u001b[1;36m1\u001b[0m\u001b[1;33m]\u001b[0m\u001b[1;33m)\u001b[0m\u001b[1;33m)\u001b[0m\u001b[1;33m\u001b[0m\u001b[1;33m\u001b[0m\u001b[0m\n\u001b[0;32m      5\u001b[0m \u001b[1;31m#print(countVectorizer.get_feature_names())\u001b[0m\u001b[1;33m\u001b[0m\u001b[1;33m\u001b[0m\u001b[0m\n",
      "\u001b[1;31mNameError\u001b[0m: name 'clean_text' is not defined"
     ]
    }
   ],
   "source": [
    "#Appliyng Countvectorizer\n",
    "countVectorizer = CountVectorizer(analyzer=clean_text) \n",
    "countVector = countVectorizer.fit_transform(tw_list['text'])\n",
    "print('{} Number of reviews has {} words'.format(countVector.shape[0], countVector.shape[1]))\n",
    "#print(countVectorizer.get_feature_names())\n",
    "#1281 Number of reviews has 2966 words\n",
    "count_vect_df = pd.DataFrame(countVector.toarray(), columns=countVectorizer.get_feature_names())\n",
    "count_vect_df.head()"
   ]
  },
  {
   "cell_type": "code",
   "execution_count": 479,
   "id": "6e00459a-1a77-48fc-a21b-9b7d2d7e85aa",
   "metadata": {},
   "outputs": [
    {
     "ename": "NameError",
     "evalue": "name 'count_vect_df' is not defined",
     "output_type": "error",
     "traceback": [
      "\u001b[1;31m---------------------------------------------------------------------------\u001b[0m",
      "\u001b[1;31mNameError\u001b[0m                                 Traceback (most recent call last)",
      "\u001b[1;32m~\\AppData\\Local\\Temp/ipykernel_2112/895197079.py\u001b[0m in \u001b[0;36m<module>\u001b[1;34m\u001b[0m\n\u001b[0;32m      1\u001b[0m \u001b[1;31m# Most Used Words\u001b[0m\u001b[1;33m\u001b[0m\u001b[1;33m\u001b[0m\u001b[0m\n\u001b[1;32m----> 2\u001b[1;33m \u001b[0mcount\u001b[0m \u001b[1;33m=\u001b[0m \u001b[0mpd\u001b[0m\u001b[1;33m.\u001b[0m\u001b[0mDataFrame\u001b[0m\u001b[1;33m(\u001b[0m\u001b[0mcount_vect_df\u001b[0m\u001b[1;33m.\u001b[0m\u001b[0msum\u001b[0m\u001b[1;33m(\u001b[0m\u001b[1;33m)\u001b[0m\u001b[1;33m)\u001b[0m\u001b[1;33m\u001b[0m\u001b[1;33m\u001b[0m\u001b[0m\n\u001b[0m\u001b[0;32m      3\u001b[0m \u001b[0mcountdf\u001b[0m \u001b[1;33m=\u001b[0m \u001b[0mcount\u001b[0m\u001b[1;33m.\u001b[0m\u001b[0msort_values\u001b[0m\u001b[1;33m(\u001b[0m\u001b[1;36m0\u001b[0m\u001b[1;33m,\u001b[0m\u001b[0mascending\u001b[0m\u001b[1;33m=\u001b[0m\u001b[1;32mFalse\u001b[0m\u001b[1;33m)\u001b[0m\u001b[1;33m.\u001b[0m\u001b[0mhead\u001b[0m\u001b[1;33m(\u001b[0m\u001b[1;36m20\u001b[0m\u001b[1;33m)\u001b[0m\u001b[1;33m\u001b[0m\u001b[1;33m\u001b[0m\u001b[0m\n\u001b[0;32m      4\u001b[0m \u001b[0mcountdf\u001b[0m\u001b[1;33m[\u001b[0m\u001b[1;36m1\u001b[0m\u001b[1;33m:\u001b[0m\u001b[1;36m11\u001b[0m\u001b[1;33m]\u001b[0m\u001b[1;33m\u001b[0m\u001b[1;33m\u001b[0m\u001b[0m\n\u001b[0;32m      5\u001b[0m \u001b[1;33m\u001b[0m\u001b[0m\n",
      "\u001b[1;31mNameError\u001b[0m: name 'count_vect_df' is not defined"
     ]
    }
   ],
   "source": [
    "# Most Used Words\n",
    "count = pd.DataFrame(count_vect_df.sum())\n",
    "countdf = count.sort_values(0,ascending=False).head(20)\n",
    "countdf[1:11]\n",
    "  \n",
    "                     "
   ]
  },
  {
   "cell_type": "code",
   "execution_count": 480,
   "id": "d2fbb692-fa26-4fdd-bc57-b348af51b6e5",
   "metadata": {},
   "outputs": [
    {
     "ename": "ValueError",
     "evalue": "empty vocabulary; perhaps the documents only contain stop words",
     "output_type": "error",
     "traceback": [
      "\u001b[1;31m---------------------------------------------------------------------------\u001b[0m",
      "\u001b[1;31mValueError\u001b[0m                                Traceback (most recent call last)",
      "\u001b[1;32m~\\AppData\\Local\\Temp/ipykernel_2112/1392259441.py\u001b[0m in \u001b[0;36m<module>\u001b[1;34m\u001b[0m\n\u001b[0;32m      8\u001b[0m  \u001b[1;32mreturn\u001b[0m \u001b[0mwords_freq\u001b[0m\u001b[1;33m[\u001b[0m\u001b[1;33m:\u001b[0m\u001b[0mn\u001b[0m\u001b[1;33m]\u001b[0m\u001b[1;33m\u001b[0m\u001b[1;33m\u001b[0m\u001b[0m\n\u001b[0;32m      9\u001b[0m \u001b[1;31m#n2_bigram\u001b[0m\u001b[1;33m\u001b[0m\u001b[1;33m\u001b[0m\u001b[0m\n\u001b[1;32m---> 10\u001b[1;33m \u001b[0mn2_bigrams\u001b[0m \u001b[1;33m=\u001b[0m \u001b[0mget_top_n_gram\u001b[0m\u001b[1;33m(\u001b[0m\u001b[0mtw_list\u001b[0m\u001b[1;33m[\u001b[0m\u001b[1;34m'text'\u001b[0m\u001b[1;33m]\u001b[0m\u001b[1;33m,\u001b[0m\u001b[1;33m(\u001b[0m\u001b[1;36m2\u001b[0m\u001b[1;33m,\u001b[0m\u001b[1;36m2\u001b[0m\u001b[1;33m)\u001b[0m\u001b[1;33m,\u001b[0m\u001b[1;36m20\u001b[0m\u001b[1;33m)\u001b[0m\u001b[1;33m\u001b[0m\u001b[1;33m\u001b[0m\u001b[0m\n\u001b[0m\u001b[0;32m     11\u001b[0m \u001b[0mn2_bigrams\u001b[0m\u001b[1;33m\u001b[0m\u001b[1;33m\u001b[0m\u001b[0m\n",
      "\u001b[1;32m~\\AppData\\Local\\Temp/ipykernel_2112/1392259441.py\u001b[0m in \u001b[0;36mget_top_n_gram\u001b[1;34m(corpus, ngram_range, n)\u001b[0m\n\u001b[0;32m      1\u001b[0m \u001b[1;31m#Function to ngram\u001b[0m\u001b[1;33m\u001b[0m\u001b[1;33m\u001b[0m\u001b[0m\n\u001b[0;32m      2\u001b[0m \u001b[1;32mdef\u001b[0m \u001b[0mget_top_n_gram\u001b[0m\u001b[1;33m(\u001b[0m\u001b[0mcorpus\u001b[0m\u001b[1;33m,\u001b[0m\u001b[0mngram_range\u001b[0m\u001b[1;33m,\u001b[0m\u001b[0mn\u001b[0m\u001b[1;33m=\u001b[0m\u001b[1;32mNone\u001b[0m\u001b[1;33m)\u001b[0m\u001b[1;33m:\u001b[0m\u001b[1;33m\u001b[0m\u001b[1;33m\u001b[0m\u001b[0m\n\u001b[1;32m----> 3\u001b[1;33m  \u001b[0mvec\u001b[0m \u001b[1;33m=\u001b[0m \u001b[0mCountVectorizer\u001b[0m\u001b[1;33m(\u001b[0m\u001b[0mngram_range\u001b[0m\u001b[1;33m=\u001b[0m\u001b[0mngram_range\u001b[0m\u001b[1;33m,\u001b[0m\u001b[0mstop_words\u001b[0m \u001b[1;33m=\u001b[0m \u001b[1;34m'english'\u001b[0m\u001b[1;33m)\u001b[0m\u001b[1;33m.\u001b[0m\u001b[0mfit\u001b[0m\u001b[1;33m(\u001b[0m\u001b[0mcorpus\u001b[0m\u001b[1;33m)\u001b[0m\u001b[1;33m\u001b[0m\u001b[1;33m\u001b[0m\u001b[0m\n\u001b[0m\u001b[0;32m      4\u001b[0m  \u001b[0mbag_of_words\u001b[0m \u001b[1;33m=\u001b[0m \u001b[0mvec\u001b[0m\u001b[1;33m.\u001b[0m\u001b[0mtransform\u001b[0m\u001b[1;33m(\u001b[0m\u001b[0mcorpus\u001b[0m\u001b[1;33m)\u001b[0m\u001b[1;33m\u001b[0m\u001b[1;33m\u001b[0m\u001b[0m\n\u001b[0;32m      5\u001b[0m  \u001b[0msum_words\u001b[0m \u001b[1;33m=\u001b[0m \u001b[0mbag_of_words\u001b[0m\u001b[1;33m.\u001b[0m\u001b[0msum\u001b[0m\u001b[1;33m(\u001b[0m\u001b[0maxis\u001b[0m\u001b[1;33m=\u001b[0m\u001b[1;36m0\u001b[0m\u001b[1;33m)\u001b[0m\u001b[1;33m\u001b[0m\u001b[1;33m\u001b[0m\u001b[0m\n",
      "\u001b[1;32m~\\anaconda3\\anaconda\\lib\\site-packages\\sklearn\\feature_extraction\\text.py\u001b[0m in \u001b[0;36mfit\u001b[1;34m(self, raw_documents, y)\u001b[0m\n\u001b[0;32m   1167\u001b[0m         \"\"\"\n\u001b[0;32m   1168\u001b[0m         \u001b[0mself\u001b[0m\u001b[1;33m.\u001b[0m\u001b[0m_warn_for_unused_params\u001b[0m\u001b[1;33m(\u001b[0m\u001b[1;33m)\u001b[0m\u001b[1;33m\u001b[0m\u001b[1;33m\u001b[0m\u001b[0m\n\u001b[1;32m-> 1169\u001b[1;33m         \u001b[0mself\u001b[0m\u001b[1;33m.\u001b[0m\u001b[0mfit_transform\u001b[0m\u001b[1;33m(\u001b[0m\u001b[0mraw_documents\u001b[0m\u001b[1;33m)\u001b[0m\u001b[1;33m\u001b[0m\u001b[1;33m\u001b[0m\u001b[0m\n\u001b[0m\u001b[0;32m   1170\u001b[0m         \u001b[1;32mreturn\u001b[0m \u001b[0mself\u001b[0m\u001b[1;33m\u001b[0m\u001b[1;33m\u001b[0m\u001b[0m\n\u001b[0;32m   1171\u001b[0m \u001b[1;33m\u001b[0m\u001b[0m\n",
      "\u001b[1;32m~\\anaconda3\\anaconda\\lib\\site-packages\\sklearn\\feature_extraction\\text.py\u001b[0m in \u001b[0;36mfit_transform\u001b[1;34m(self, raw_documents, y)\u001b[0m\n\u001b[0;32m   1200\u001b[0m         \u001b[0mmax_features\u001b[0m \u001b[1;33m=\u001b[0m \u001b[0mself\u001b[0m\u001b[1;33m.\u001b[0m\u001b[0mmax_features\u001b[0m\u001b[1;33m\u001b[0m\u001b[1;33m\u001b[0m\u001b[0m\n\u001b[0;32m   1201\u001b[0m \u001b[1;33m\u001b[0m\u001b[0m\n\u001b[1;32m-> 1202\u001b[1;33m         vocabulary, X = self._count_vocab(raw_documents,\n\u001b[0m\u001b[0;32m   1203\u001b[0m                                           self.fixed_vocabulary_)\n\u001b[0;32m   1204\u001b[0m \u001b[1;33m\u001b[0m\u001b[0m\n",
      "\u001b[1;32m~\\anaconda3\\anaconda\\lib\\site-packages\\sklearn\\feature_extraction\\text.py\u001b[0m in \u001b[0;36m_count_vocab\u001b[1;34m(self, raw_documents, fixed_vocab)\u001b[0m\n\u001b[0;32m   1131\u001b[0m             \u001b[0mvocabulary\u001b[0m \u001b[1;33m=\u001b[0m \u001b[0mdict\u001b[0m\u001b[1;33m(\u001b[0m\u001b[0mvocabulary\u001b[0m\u001b[1;33m)\u001b[0m\u001b[1;33m\u001b[0m\u001b[1;33m\u001b[0m\u001b[0m\n\u001b[0;32m   1132\u001b[0m             \u001b[1;32mif\u001b[0m \u001b[1;32mnot\u001b[0m \u001b[0mvocabulary\u001b[0m\u001b[1;33m:\u001b[0m\u001b[1;33m\u001b[0m\u001b[1;33m\u001b[0m\u001b[0m\n\u001b[1;32m-> 1133\u001b[1;33m                 raise ValueError(\"empty vocabulary; perhaps the documents only\"\n\u001b[0m\u001b[0;32m   1134\u001b[0m                                  \" contain stop words\")\n\u001b[0;32m   1135\u001b[0m \u001b[1;33m\u001b[0m\u001b[0m\n",
      "\u001b[1;31mValueError\u001b[0m: empty vocabulary; perhaps the documents only contain stop words"
     ]
    }
   ],
   "source": [
    "#Function to ngram\n",
    "def get_top_n_gram(corpus,ngram_range,n=None):\n",
    " vec = CountVectorizer(ngram_range=ngram_range,stop_words = 'english').fit(corpus)\n",
    " bag_of_words = vec.transform(corpus)\n",
    " sum_words = bag_of_words.sum(axis=0) \n",
    " words_freq = [(word, sum_words[0, idx]) for word, idx in vec.vocabulary_.items()]\n",
    " words_freq =sorted(words_freq, key = lambda x: x[1], reverse=True)\n",
    " return words_freq[:n]\n",
    "#n2_bigram\n",
    "n2_bigrams = get_top_n_gram(tw_list['text'],(2,2),20)\n",
    "n2_bigrams"
   ]
  },
  {
   "cell_type": "code",
   "execution_count": 481,
   "id": "be5c3806-ba0c-4023-8470-06bb656a4702",
   "metadata": {},
   "outputs": [
    {
     "ename": "ValueError",
     "evalue": "empty vocabulary; perhaps the documents only contain stop words",
     "output_type": "error",
     "traceback": [
      "\u001b[1;31m---------------------------------------------------------------------------\u001b[0m",
      "\u001b[1;31mValueError\u001b[0m                                Traceback (most recent call last)",
      "\u001b[1;32m~\\AppData\\Local\\Temp/ipykernel_2112/2933090096.py\u001b[0m in \u001b[0;36m<module>\u001b[1;34m\u001b[0m\n\u001b[0;32m      1\u001b[0m \u001b[1;31m#n3_trigram\u001b[0m\u001b[1;33m\u001b[0m\u001b[1;33m\u001b[0m\u001b[0m\n\u001b[1;32m----> 2\u001b[1;33m \u001b[0mn3_trigrams\u001b[0m \u001b[1;33m=\u001b[0m \u001b[0mget_top_n_gram\u001b[0m\u001b[1;33m(\u001b[0m\u001b[0mtw_list\u001b[0m\u001b[1;33m[\u001b[0m\u001b[1;34m'text'\u001b[0m\u001b[1;33m]\u001b[0m\u001b[1;33m,\u001b[0m\u001b[1;33m(\u001b[0m\u001b[1;36m3\u001b[0m\u001b[1;33m,\u001b[0m\u001b[1;36m3\u001b[0m\u001b[1;33m)\u001b[0m\u001b[1;33m,\u001b[0m\u001b[1;36m20\u001b[0m\u001b[1;33m)\u001b[0m\u001b[1;33m\u001b[0m\u001b[1;33m\u001b[0m\u001b[0m\n\u001b[0m\u001b[0;32m      3\u001b[0m \u001b[0mn3_trigrams\u001b[0m\u001b[1;33m\u001b[0m\u001b[1;33m\u001b[0m\u001b[0m\n",
      "\u001b[1;32m~\\AppData\\Local\\Temp/ipykernel_2112/1392259441.py\u001b[0m in \u001b[0;36mget_top_n_gram\u001b[1;34m(corpus, ngram_range, n)\u001b[0m\n\u001b[0;32m      1\u001b[0m \u001b[1;31m#Function to ngram\u001b[0m\u001b[1;33m\u001b[0m\u001b[1;33m\u001b[0m\u001b[0m\n\u001b[0;32m      2\u001b[0m \u001b[1;32mdef\u001b[0m \u001b[0mget_top_n_gram\u001b[0m\u001b[1;33m(\u001b[0m\u001b[0mcorpus\u001b[0m\u001b[1;33m,\u001b[0m\u001b[0mngram_range\u001b[0m\u001b[1;33m,\u001b[0m\u001b[0mn\u001b[0m\u001b[1;33m=\u001b[0m\u001b[1;32mNone\u001b[0m\u001b[1;33m)\u001b[0m\u001b[1;33m:\u001b[0m\u001b[1;33m\u001b[0m\u001b[1;33m\u001b[0m\u001b[0m\n\u001b[1;32m----> 3\u001b[1;33m  \u001b[0mvec\u001b[0m \u001b[1;33m=\u001b[0m \u001b[0mCountVectorizer\u001b[0m\u001b[1;33m(\u001b[0m\u001b[0mngram_range\u001b[0m\u001b[1;33m=\u001b[0m\u001b[0mngram_range\u001b[0m\u001b[1;33m,\u001b[0m\u001b[0mstop_words\u001b[0m \u001b[1;33m=\u001b[0m \u001b[1;34m'english'\u001b[0m\u001b[1;33m)\u001b[0m\u001b[1;33m.\u001b[0m\u001b[0mfit\u001b[0m\u001b[1;33m(\u001b[0m\u001b[0mcorpus\u001b[0m\u001b[1;33m)\u001b[0m\u001b[1;33m\u001b[0m\u001b[1;33m\u001b[0m\u001b[0m\n\u001b[0m\u001b[0;32m      4\u001b[0m  \u001b[0mbag_of_words\u001b[0m \u001b[1;33m=\u001b[0m \u001b[0mvec\u001b[0m\u001b[1;33m.\u001b[0m\u001b[0mtransform\u001b[0m\u001b[1;33m(\u001b[0m\u001b[0mcorpus\u001b[0m\u001b[1;33m)\u001b[0m\u001b[1;33m\u001b[0m\u001b[1;33m\u001b[0m\u001b[0m\n\u001b[0;32m      5\u001b[0m  \u001b[0msum_words\u001b[0m \u001b[1;33m=\u001b[0m \u001b[0mbag_of_words\u001b[0m\u001b[1;33m.\u001b[0m\u001b[0msum\u001b[0m\u001b[1;33m(\u001b[0m\u001b[0maxis\u001b[0m\u001b[1;33m=\u001b[0m\u001b[1;36m0\u001b[0m\u001b[1;33m)\u001b[0m\u001b[1;33m\u001b[0m\u001b[1;33m\u001b[0m\u001b[0m\n",
      "\u001b[1;32m~\\anaconda3\\anaconda\\lib\\site-packages\\sklearn\\feature_extraction\\text.py\u001b[0m in \u001b[0;36mfit\u001b[1;34m(self, raw_documents, y)\u001b[0m\n\u001b[0;32m   1167\u001b[0m         \"\"\"\n\u001b[0;32m   1168\u001b[0m         \u001b[0mself\u001b[0m\u001b[1;33m.\u001b[0m\u001b[0m_warn_for_unused_params\u001b[0m\u001b[1;33m(\u001b[0m\u001b[1;33m)\u001b[0m\u001b[1;33m\u001b[0m\u001b[1;33m\u001b[0m\u001b[0m\n\u001b[1;32m-> 1169\u001b[1;33m         \u001b[0mself\u001b[0m\u001b[1;33m.\u001b[0m\u001b[0mfit_transform\u001b[0m\u001b[1;33m(\u001b[0m\u001b[0mraw_documents\u001b[0m\u001b[1;33m)\u001b[0m\u001b[1;33m\u001b[0m\u001b[1;33m\u001b[0m\u001b[0m\n\u001b[0m\u001b[0;32m   1170\u001b[0m         \u001b[1;32mreturn\u001b[0m \u001b[0mself\u001b[0m\u001b[1;33m\u001b[0m\u001b[1;33m\u001b[0m\u001b[0m\n\u001b[0;32m   1171\u001b[0m \u001b[1;33m\u001b[0m\u001b[0m\n",
      "\u001b[1;32m~\\anaconda3\\anaconda\\lib\\site-packages\\sklearn\\feature_extraction\\text.py\u001b[0m in \u001b[0;36mfit_transform\u001b[1;34m(self, raw_documents, y)\u001b[0m\n\u001b[0;32m   1200\u001b[0m         \u001b[0mmax_features\u001b[0m \u001b[1;33m=\u001b[0m \u001b[0mself\u001b[0m\u001b[1;33m.\u001b[0m\u001b[0mmax_features\u001b[0m\u001b[1;33m\u001b[0m\u001b[1;33m\u001b[0m\u001b[0m\n\u001b[0;32m   1201\u001b[0m \u001b[1;33m\u001b[0m\u001b[0m\n\u001b[1;32m-> 1202\u001b[1;33m         vocabulary, X = self._count_vocab(raw_documents,\n\u001b[0m\u001b[0;32m   1203\u001b[0m                                           self.fixed_vocabulary_)\n\u001b[0;32m   1204\u001b[0m \u001b[1;33m\u001b[0m\u001b[0m\n",
      "\u001b[1;32m~\\anaconda3\\anaconda\\lib\\site-packages\\sklearn\\feature_extraction\\text.py\u001b[0m in \u001b[0;36m_count_vocab\u001b[1;34m(self, raw_documents, fixed_vocab)\u001b[0m\n\u001b[0;32m   1131\u001b[0m             \u001b[0mvocabulary\u001b[0m \u001b[1;33m=\u001b[0m \u001b[0mdict\u001b[0m\u001b[1;33m(\u001b[0m\u001b[0mvocabulary\u001b[0m\u001b[1;33m)\u001b[0m\u001b[1;33m\u001b[0m\u001b[1;33m\u001b[0m\u001b[0m\n\u001b[0;32m   1132\u001b[0m             \u001b[1;32mif\u001b[0m \u001b[1;32mnot\u001b[0m \u001b[0mvocabulary\u001b[0m\u001b[1;33m:\u001b[0m\u001b[1;33m\u001b[0m\u001b[1;33m\u001b[0m\u001b[0m\n\u001b[1;32m-> 1133\u001b[1;33m                 raise ValueError(\"empty vocabulary; perhaps the documents only\"\n\u001b[0m\u001b[0;32m   1134\u001b[0m                                  \" contain stop words\")\n\u001b[0;32m   1135\u001b[0m \u001b[1;33m\u001b[0m\u001b[0m\n",
      "\u001b[1;31mValueError\u001b[0m: empty vocabulary; perhaps the documents only contain stop words"
     ]
    }
   ],
   "source": [
    "#n3_trigram\n",
    "n3_trigrams = get_top_n_gram(tw_list['text'],(3,3),20)\n",
    "n3_trigrams"
   ]
  },
  {
   "cell_type": "code",
   "execution_count": 482,
   "id": "e44d6d41-a078-4407-80e5-9d2e08d42487",
   "metadata": {},
   "outputs": [
    {
     "name": "stdout",
     "output_type": "stream",
     "text": [
      "Collecting folium\n",
      "  Downloading folium-0.12.1.post1-py2.py3-none-any.whl (95 kB)\n",
      "Requirement already satisfied: numpy in c:\\users\\18323\\anaconda3\\anaconda\\lib\\site-packages (from folium) (1.20.3)\n",
      "Requirement already satisfied: jinja2>=2.9 in c:\\users\\18323\\anaconda3\\anaconda\\lib\\site-packages (from folium) (2.11.3)\n",
      "Requirement already satisfied: requests in c:\\users\\18323\\anaconda3\\anaconda\\lib\\site-packages (from folium) (2.26.0)\n",
      "Collecting branca>=0.3.0\n",
      "  Downloading branca-0.4.2-py3-none-any.whl (24 kB)\n",
      "Requirement already satisfied: MarkupSafe>=0.23 in c:\\users\\18323\\anaconda3\\anaconda\\lib\\site-packages (from jinja2>=2.9->folium) (1.1.1)\n",
      "Requirement already satisfied: urllib3<1.27,>=1.21.1 in c:\\users\\18323\\anaconda3\\anaconda\\lib\\site-packages (from requests->folium) (1.26.7)\n",
      "Requirement already satisfied: charset-normalizer~=2.0.0 in c:\\users\\18323\\anaconda3\\anaconda\\lib\\site-packages (from requests->folium) (2.0.4)\n",
      "Requirement already satisfied: certifi>=2017.4.17 in c:\\users\\18323\\anaconda3\\anaconda\\lib\\site-packages (from requests->folium) (2021.10.8)\n",
      "Requirement already satisfied: idna<4,>=2.5 in c:\\users\\18323\\anaconda3\\anaconda\\lib\\site-packages (from requests->folium) (3.2)\n",
      "Installing collected packages: branca, folium\n",
      "Successfully installed branca-0.4.2 folium-0.12.1.post1\n",
      "Note: you may need to restart the kernel to use updated packages.\n"
     ]
    }
   ],
   "source": [
    "pip install folium"
   ]
  },
  {
   "cell_type": "code",
   "execution_count": 484,
   "id": "b10ad99e-6828-4fc9-987f-2b7028c187c3",
   "metadata": {},
   "outputs": [
    {
     "name": "stdout",
     "output_type": "stream",
     "text": [
      "Collecting sklearn\n",
      "  Downloading sklearn-0.0.tar.gz (1.1 kB)\n",
      "Requirement already satisfied: scikit-learn in c:\\users\\18323\\anaconda3\\anaconda\\lib\\site-packages (from sklearn) (0.24.2)\n",
      "Requirement already satisfied: numpy>=1.13.3 in c:\\users\\18323\\anaconda3\\anaconda\\lib\\site-packages (from scikit-learn->sklearn) (1.20.3)\n",
      "Note: you may need to restart the kernel to use updated packages.Requirement already satisfied: joblib>=0.11 in c:\\users\\18323\\anaconda3\\anaconda\\lib\\site-packages (from scikit-learn->sklearn) (1.1.0)\n",
      "\n",
      "Requirement already satisfied: threadpoolctl>=2.0.0 in c:\\users\\18323\\anaconda3\\anaconda\\lib\\site-packages (from scikit-learn->sklearn) (2.2.0)\n",
      "Requirement already satisfied: scipy>=0.19.1 in c:\\users\\18323\\anaconda3\\anaconda\\lib\\site-packages (from scikit-learn->sklearn) (1.7.1)\n",
      "Building wheels for collected packages: sklearn\n",
      "  Building wheel for sklearn (setup.py): started\n",
      "  Building wheel for sklearn (setup.py): finished with status 'done'\n",
      "  Created wheel for sklearn: filename=sklearn-0.0-py2.py3-none-any.whl size=1309 sha256=d93b9a381052ae9deb2876423eb4827d172a41d050b6c4003c887fd4d81f8342\n",
      "  Stored in directory: c:\\users\\18323\\appdata\\local\\pip\\cache\\wheels\\e4\\7b\\98\\b6466d71b8d738a0c547008b9eb39bf8676d1ff6ca4b22af1c\n",
      "Successfully built sklearn\n",
      "Installing collected packages: sklearn\n",
      "Successfully installed sklearn-0.0\n"
     ]
    }
   ],
   "source": [
    "pip install sklearn"
   ]
  },
  {
   "cell_type": "code",
   "execution_count": 486,
   "id": "758fa903-bbbe-489e-bd8d-8a3ead1b8904",
   "metadata": {},
   "outputs": [],
   "source": [
    "from sklearn.datasets import load_digits"
   ]
  },
  {
   "cell_type": "code",
   "execution_count": 487,
   "id": "93ebdade-2e7d-43ee-a625-ffe4ff79e953",
   "metadata": {},
   "outputs": [],
   "source": [
    "digits=load_digits()"
   ]
  },
  {
   "cell_type": "code",
   "execution_count": 499,
   "id": "bc9fbf82-fb90-4972-802e-da97a449b1ea",
   "metadata": {},
   "outputs": [
    {
     "name": "stdout",
     "output_type": "stream",
     "text": [
      ".. _digits_dataset:\n",
      "\n",
      "Optical recognition of handwritten digits dataset\n",
      "--------------------------------------------------\n",
      "\n",
      "**Data Set Characteristics:**\n",
      "\n",
      "    :Number of Instances: 1797\n",
      "    :Number of Attributes: 64\n",
      "    :Attribute Information: 8x8 image of integer pixels in the range 0..16.\n",
      "    :Missing Attribute Values: None\n",
      "    :Creator: E. Alpaydin (alpaydin '@' boun.edu.tr)\n",
      "    :Date: July; 1998\n",
      "\n",
      "This is a copy of the test set of the UCI ML hand-written digits datasets\n",
      "https://archive.ics.uci.edu/ml/datasets/Optical+Recognition+of+Handwritten+Digits\n",
      "\n",
      "The data set contains images of hand-written digits: 10 classes where\n",
      "each class refers to a digit.\n",
      "\n",
      "Preprocessing programs made available by NIST were used to extract\n",
      "normalized bitmaps of handwritten digits from a preprinted form. From a\n",
      "total of 43 people, 30 contributed to the training set and different 13\n",
      "to the test set. 32x32 bitmaps are divided into nonoverlapping blocks of\n",
      "4x4 and the number of on pixels are counted in each block. This generates\n",
      "an input matrix of 8x8 where each element is an integer in the range\n",
      "0..16. This reduces dimensionality and gives invariance to small\n",
      "distortions.\n",
      "\n",
      "For info on NIST preprocessing routines, see M. D. Garris, J. L. Blue, G.\n",
      "T. Candela, D. L. Dimmick, J. Geist, P. J. Grother, S. A. Janet, and C.\n",
      "L. Wilson, NIST Form-Based Handprint Recognition System, NISTIR 5469,\n",
      "1994.\n",
      "\n",
      ".. topic:: References\n",
      "\n",
      "  - C. Kaynak (1995) Methods of Combining Multiple Classifiers and Their\n",
      "    Applications to Handwritten Digit Recognition, MSc Thesis, Institute of\n",
      "    Graduate Studies in Science and Engineering, Bogazici University.\n",
      "  - E. Alpaydin, C. Kaynak (1998) Cascading Classifiers, Kybernetika.\n",
      "  - Ken Tang and Ponnuthurai N. Suganthan and Xi Yao and A. Kai Qin.\n",
      "    Linear dimensionalityreduction using relevance weighted LDA. School of\n",
      "    Electrical and Electronic Engineering Nanyang Technological University.\n",
      "    2005.\n",
      "  - Claudio Gentile. A New Approximate Maximal Margin Classification\n",
      "    Algorithm. NIPS. 2000.\n",
      "\n"
     ]
    }
   ],
   "source": [
    "print(digits.DESCR)\n",
    "#_digits_dataset:"
   ]
  },
  {
   "cell_type": "code",
   "execution_count": 500,
   "id": "13cfa6bd-964f-4ec0-9c96-b5563d5e7311",
   "metadata": {},
   "outputs": [
    {
     "ename": "NameError",
     "evalue": "name 'array' is not defined",
     "output_type": "error",
     "traceback": [
      "\u001b[1;31m---------------------------------------------------------------------------\u001b[0m",
      "\u001b[1;31mNameError\u001b[0m                                 Traceback (most recent call last)",
      "\u001b[1;32m~\\AppData\\Local\\Temp/ipykernel_2112/1734525120.py\u001b[0m in \u001b[0;36m<module>\u001b[1;34m\u001b[0m\n\u001b[0;32m      1\u001b[0m \u001b[0mdigits\u001b[0m\u001b[1;33m.\u001b[0m\u001b[0mtarget\u001b[0m\u001b[1;33m[\u001b[0m\u001b[1;33m:\u001b[0m\u001b[1;33m:\u001b[0m\u001b[1;36m100\u001b[0m\u001b[1;33m]\u001b[0m\u001b[1;33m\u001b[0m\u001b[1;33m\u001b[0m\u001b[0m\n\u001b[1;32m----> 2\u001b[1;33m \u001b[0marray\u001b[0m\u001b[1;33m(\u001b[0m\u001b[1;33m[\u001b[0m\u001b[1;36m0\u001b[0m\u001b[1;33m,\u001b[0m\u001b[1;36m4\u001b[0m\u001b[1;33m,\u001b[0m\u001b[1;36m1\u001b[0m\u001b[1;33m,\u001b[0m\u001b[1;36m7\u001b[0m\u001b[1;33m,\u001b[0m\u001b[1;36m4\u001b[0m\u001b[1;33m,\u001b[0m\u001b[1;36m8\u001b[0m\u001b[1;33m,\u001b[0m\u001b[1;36m2\u001b[0m\u001b[1;33m,\u001b[0m\u001b[1;36m2\u001b[0m\u001b[1;33m,\u001b[0m\u001b[1;36m4\u001b[0m\u001b[1;33m,\u001b[0m\u001b[1;36m4\u001b[0m\u001b[1;33m,\u001b[0m\u001b[1;36m1\u001b[0m\u001b[1;33m,\u001b[0m\u001b[1;36m9\u001b[0m\u001b[1;33m,\u001b[0m\u001b[1;36m7\u001b[0m\u001b[1;33m,\u001b[0m\u001b[1;36m3\u001b[0m\u001b[1;33m,\u001b[0m\u001b[1;36m2\u001b[0m\u001b[1;33m,\u001b[0m\u001b[1;36m1\u001b[0m\u001b[1;33m,\u001b[0m\u001b[1;36m2\u001b[0m\u001b[1;33m,\u001b[0m\u001b[1;36m5\u001b[0m\u001b[1;33m]\u001b[0m\u001b[1;33m)\u001b[0m\u001b[1;33m\u001b[0m\u001b[1;33m\u001b[0m\u001b[0m\n\u001b[0m",
      "\u001b[1;31mNameError\u001b[0m: name 'array' is not defined"
     ]
    }
   ],
   "source": [
    "digits.target[::100]\n",
    "array([0,4,1,7,4,8,2,2,4,4,1,9,7,3,2,1,2,5])"
   ]
  },
  {
   "cell_type": "code",
   "execution_count": 501,
   "id": "0e8d2e85-3578-4253-9932-6f69614b6a35",
   "metadata": {},
   "outputs": [
    {
     "data": {
      "text/plain": [
       "(1797, 64)"
      ]
     },
     "execution_count": 501,
     "metadata": {},
     "output_type": "execute_result"
    }
   ],
   "source": [
    "digits.data.shape"
   ]
  },
  {
   "cell_type": "code",
   "execution_count": 502,
   "id": "cc6455c9-7c62-4ced-b928-4152f2ab7fe9",
   "metadata": {},
   "outputs": [
    {
     "data": {
      "text/plain": [
       "(1797,)"
      ]
     },
     "execution_count": 502,
     "metadata": {},
     "output_type": "execute_result"
    }
   ],
   "source": [
    "digits.target.shape\n"
   ]
  },
  {
   "cell_type": "code",
   "execution_count": 503,
   "id": "a940087c-c673-4b38-85cd-62a55b73ef17",
   "metadata": {},
   "outputs": [
    {
     "data": {
      "text/plain": [
       "array([[ 0.,  2.,  9., 15., 14.,  9.,  3.,  0.],\n",
       "       [ 0.,  4., 13.,  8.,  9., 16.,  8.,  0.],\n",
       "       [ 0.,  0.,  0.,  6., 14., 15.,  3.,  0.],\n",
       "       [ 0.,  0.,  0., 11., 14.,  2.,  0.,  0.],\n",
       "       [ 0.,  0.,  0.,  2., 15., 11.,  0.,  0.],\n",
       "       [ 0.,  0.,  0.,  0.,  2., 15.,  4.,  0.],\n",
       "       [ 0.,  1.,  5.,  6., 13., 16.,  6.,  0.],\n",
       "       [ 0.,  2., 12., 12., 13., 11.,  0.,  0.]])"
      ]
     },
     "execution_count": 503,
     "metadata": {},
     "output_type": "execute_result"
    }
   ],
   "source": [
    "digits.images[13]"
   ]
  },
  {
   "cell_type": "code",
   "execution_count": 504,
   "id": "6796516b-2773-4edb-a8a3-165b4153c1f7",
   "metadata": {},
   "outputs": [
    {
     "data": {
      "text/plain": [
       "array([[ 0.,  0.,  8., 16.,  5.,  0.,  0.,  0.],\n",
       "       [ 0.,  1., 13., 11., 16.,  0.,  0.,  0.],\n",
       "       [ 0.,  0., 10.,  0., 13.,  3.,  0.,  0.],\n",
       "       [ 0.,  0.,  3.,  1., 16.,  1.,  0.,  0.],\n",
       "       [ 0.,  0.,  0.,  9., 12.,  0.,  0.,  0.],\n",
       "       [ 0.,  0.,  3., 15.,  5.,  0.,  0.,  0.],\n",
       "       [ 0.,  0., 14., 15.,  8.,  8.,  3.,  0.],\n",
       "       [ 0.,  0.,  7., 12., 12., 12., 13.,  1.]])"
      ]
     },
     "execution_count": 504,
     "metadata": {},
     "output_type": "execute_result"
    }
   ],
   "source": [
    "digits.images[22]"
   ]
  },
  {
   "cell_type": "code",
   "execution_count": 505,
   "id": "02b56c42-ae0d-404f-b5b2-92faf760aad8",
   "metadata": {},
   "outputs": [
    {
     "data": {
      "text/plain": [
       "2"
      ]
     },
     "execution_count": 505,
     "metadata": {},
     "output_type": "execute_result"
    }
   ],
   "source": [
    "digits.target[22]"
   ]
  },
  {
   "cell_type": "code",
   "execution_count": 506,
   "id": "b50a7ab5-db00-4fe6-9a3c-7044dc68c892",
   "metadata": {},
   "outputs": [],
   "source": [
    "import matplotlib.pyplot as plt\n"
   ]
  },
  {
   "cell_type": "code",
   "execution_count": 507,
   "id": "eb0404f2-c116-4e95-a6e0-7abebc523acd",
   "metadata": {},
   "outputs": [
    {
     "data": {
      "image/png": "[encoded data removed]",
      "text/plain": [
       "<Figure size 600x400 with 24 Axes>"
      ]
     },
     "metadata": {},
     "output_type": "display_data"
    }
   ],
   "source": [
    "figure, axes=plt.subplots(nrows=4, ncols=6, figsize = (6,4))"
   ]
  },
  {
   "cell_type": "code",
   "execution_count": 538,
   "id": "e48690d5-b4ba-4aa2-9b00-4f653b25a576",
   "metadata": {},
   "outputs": [
    {
     "ename": "ValueError",
     "evalue": "not enough values to unpack (expected 3, got 2)",
     "output_type": "error",
     "traceback": [
      "\u001b[1;31m---------------------------------------------------------------------------\u001b[0m",
      "\u001b[1;31mValueError\u001b[0m                                Traceback (most recent call last)",
      "\u001b[1;32m~\\AppData\\Local\\Temp/ipykernel_2112/3979461463.py\u001b[0m in \u001b[0;36m<module>\u001b[1;34m\u001b[0m\n\u001b[0;32m      1\u001b[0m \u001b[1;31m#for item in zip(axes.ravel(), digits.images, digits.target):\u001b[0m\u001b[1;33m\u001b[0m\u001b[1;33m\u001b[0m\u001b[0m\n\u001b[0;32m      2\u001b[0m \u001b[0maxes\u001b[0m \u001b[1;33m=\u001b[0m \u001b[0mplt\u001b[0m\u001b[1;33m.\u001b[0m\u001b[0msubplot\u001b[0m\u001b[1;33m(\u001b[0m\u001b[1;33m)\u001b[0m\u001b[1;33m\u001b[0m\u001b[1;33m\u001b[0m\u001b[0m\n\u001b[1;32m----> 3\u001b[1;33m \u001b[0maxes\u001b[0m\u001b[1;33m,\u001b[0m \u001b[0mimage\u001b[0m\u001b[1;33m,\u001b[0m \u001b[0mtarget\u001b[0m \u001b[1;33m=\u001b[0m \u001b[0mitem\u001b[0m\u001b[1;33m\u001b[0m\u001b[1;33m\u001b[0m\u001b[0m\n\u001b[0m\u001b[0;32m      4\u001b[0m \u001b[0maxes\u001b[0m\u001b[1;33m.\u001b[0m\u001b[0mimshow\u001b[0m\u001b[1;33m(\u001b[0m\u001b[0mimage\u001b[0m\u001b[1;33m,\u001b[0m \u001b[0mcmap\u001b[0m\u001b[1;33m=\u001b[0m\u001b[0mplt\u001b[0m\u001b[1;33m.\u001b[0m\u001b[0mcm\u001b[0m\u001b[1;33m.\u001b[0m\u001b[0mgray_r\u001b[0m\u001b[1;33m)\u001b[0m\u001b[1;33m\u001b[0m\u001b[1;33m\u001b[0m\u001b[0m\n\u001b[0;32m      5\u001b[0m \u001b[0maxes\u001b[0m\u001b[1;33m.\u001b[0m\u001b[0mset_xticks\u001b[0m\u001b[1;33m(\u001b[0m\u001b[1;33m[\u001b[0m\u001b[1;33m]\u001b[0m\u001b[1;33m)\u001b[0m\u001b[1;33m\u001b[0m\u001b[1;33m\u001b[0m\u001b[0m\n",
      "\u001b[1;31mValueError\u001b[0m: not enough values to unpack (expected 3, got 2)"
     ]
    },
    {
     "data": {
      "image/png": "[encoded data removed]",
      "text/plain": [
       "<Figure size 640x480 with 1 Axes>"
      ]
     },
     "metadata": {},
     "output_type": "display_data"
    }
   ],
   "source": [
    "#for item in zip(axes.ravel(), digits.images, digits.target):\n",
    "axes = plt.subplot()\n",
    "axes, image, target = item \n",
    "axes.imshow(image, cmap=plt.cm.gray_r)  \n",
    "axes.set_xticks([])\n",
    "axes.set_yticks([])\n",
    "axes.set_title(target)\n",
    "plt:tight_layout()\n",
    "\n"
   ]
  },
  {
   "cell_type": "code",
   "execution_count": 547,
   "id": "9c28fa47-a248-47b6-9f72-98b028ebd516",
   "metadata": {},
   "outputs": [
    {
     "data": {
      "image/png": "[encoded data removed]",
      "text/plain": [
       "<Figure size 640x480 with 1 Axes>"
      ]
     },
     "metadata": {},
     "output_type": "display_data"
    }
   ],
   "source": [
    "axes=plt.subplot()\n",
    "image=plt.imshow(digits.images[22], cmap=plt.cm.gray_r)\n",
    "xticks=axes.set_xticks([])\n",
    "#yticks=axes.set.yticks([])"
   ]
  },
  {
   "cell_type": "code",
   "execution_count": 549,
   "id": "ead1774d-a193-42e3-aded-e89c69c01c42",
   "metadata": {},
   "outputs": [
    {
     "name": "stdout",
     "output_type": "stream",
     "text": [
      "Requirement already satisfied: sklearn in c:\\users\\18323\\anaconda3\\anaconda\\lib\\site-packages (0.0)\n",
      "Requirement already satisfied: scikit-learn in c:\\users\\18323\\anaconda3\\anaconda\\lib\\site-packages (from sklearn) (0.24.2)\n",
      "Requirement already satisfied: threadpoolctl>=2.0.0 in c:\\users\\18323\\anaconda3\\anaconda\\lib\\site-packages (from scikit-learn->sklearn) (2.2.0)\n",
      "Requirement already satisfied: numpy>=1.13.3 in c:\\users\\18323\\anaconda3\\anaconda\\lib\\site-packages (from scikit-learn->sklearn) (1.20.3)\n",
      "Requirement already satisfied: scipy>=0.19.1 in c:\\users\\18323\\anaconda3\\anaconda\\lib\\site-packages (from scikit-learn->sklearn) (1.7.1)\n",
      "Requirement already satisfied: joblib>=0.11 in c:\\users\\18323\\anaconda3\\anaconda\\lib\\site-packages (from scikit-learn->sklearn) (1.1.0)\n",
      "Note: you may need to restart the kernel to use updated packages.\n"
     ]
    }
   ],
   "source": [
    "pip install sklearn"
   ]
  },
  {
   "cell_type": "code",
   "execution_count": 550,
   "id": "b7c830bc-f59a-4f0f-a006-911020e8c1b4",
   "metadata": {},
   "outputs": [],
   "source": [
    "from sklearn.model_selection import train_test_split\n",
    "x_train, x_test, y_train, y_test = train_test_split(digits.data, digits.target, random_state = 11)"
   ]
  },
  {
   "cell_type": "code",
   "execution_count": 551,
   "id": "f856c103-2671-4655-9c89-0a1c97077afa",
   "metadata": {},
   "outputs": [
    {
     "data": {
      "text/plain": [
       "(1347, 64)"
      ]
     },
     "execution_count": 551,
     "metadata": {},
     "output_type": "execute_result"
    }
   ],
   "source": [
    "x_train.shape"
   ]
  },
  {
   "cell_type": "code",
   "execution_count": 552,
   "id": "eaeec6c1-0dc4-4a06-9437-7ff8789fb693",
   "metadata": {},
   "outputs": [
    {
     "data": {
      "text/plain": [
       "(450, 64)"
      ]
     },
     "execution_count": 552,
     "metadata": {},
     "output_type": "execute_result"
    }
   ],
   "source": [
    "x_test.shape\n"
   ]
  },
  {
   "cell_type": "code",
   "execution_count": 564,
   "id": "c72b02b0-7748-4d6a-8fbb-35c307d852b1",
   "metadata": {},
   "outputs": [],
   "source": [
    "from sklearn.neighbors import KNeighborsClassifier\n",
    "knn= KNeighborsClassifier()"
   ]
  },
  {
   "cell_type": "code",
   "execution_count": 570,
   "id": "dfc789b2-ed7f-4218-b9b5-cca21eb7da3a",
   "metadata": {},
   "outputs": [
    {
     "data": {
      "text/plain": [
       "KNeighborsClassifier()"
      ]
     },
     "execution_count": 570,
     "metadata": {},
     "output_type": "execute_result"
    }
   ],
   "source": [
    "knn.fit(X=x_train, y=y_train)\n",
    "KNeighborsClassifier(algorithm='auto', leaf_size=30, metric='minkowski', metric_params=None,n_jobs=None, n_neighbors=5, p=2, weights='uniform')"
   ]
  },
  {
   "cell_type": "raw",
   "id": "eaa3bc9b-9304-4654-8d45-5a6e5365a36c",
   "metadata": {},
   "source": [
    "\n",
    "\n",
    "\n"
   ]
  },
  {
   "cell_type": "code",
   "execution_count": 574,
   "id": "8c467712-3716-4ca0-bbbf-36fffd37475c",
   "metadata": {},
   "outputs": [],
   "source": [
    "expected=y_test"
   ]
  },
  {
   "cell_type": "code",
   "execution_count": 577,
   "id": "583ab246-ea5c-485d-a72d-ddbd81a0bf61",
   "metadata": {},
   "outputs": [
    {
     "data": {
      "text/plain": [
       "array([0, 4, 9, 9, 3, 1, 4, 1, 5, 0, 4, 9, 4, 1, 5, 3, 3, 8, 5, 6])"
      ]
     },
     "execution_count": 577,
     "metadata": {},
     "output_type": "execute_result"
    }
   ],
   "source": [
    "predicted=knn.predict(X=x_test)\n",
    "predicted[:20]"
   ]
  },
  {
   "cell_type": "code",
   "execution_count": 578,
   "id": "06ad1e82-f6df-4903-b586-7f5555aa90b5",
   "metadata": {},
   "outputs": [
    {
     "data": {
      "text/plain": [
       "array([0, 4, 9, 9, 3, 1, 4, 1, 5, 0, 4, 9, 4, 1, 5, 3, 3, 8, 3, 6])"
      ]
     },
     "execution_count": 578,
     "metadata": {},
     "output_type": "execute_result"
    }
   ],
   "source": [
    "expected=y_test\n",
    "expected[:20]"
   ]
  },
  {
   "cell_type": "code",
   "execution_count": 581,
   "id": "a6b36b58-40f5-4436-b6a5-eda593734741",
   "metadata": {},
   "outputs": [],
   "source": [
    "wrong = [(p,e) for (p,e) in zip(predicted, expected) if p !=e]\n",
    "#wrong = [(p, e) for (p, e) in zip(predicted, expected) if p != e] \n",
    "\n",
    " "
   ]
  },
  {
   "cell_type": "code",
   "execution_count": 582,
   "id": "6f3a9ba9-1a3a-4987-b0e9-91b3d2e42b83",
   "metadata": {},
   "outputs": [
    {
     "data": {
      "text/plain": [
       "[(5, 3),\n",
       " (8, 9),\n",
       " (4, 9),\n",
       " (7, 3),\n",
       " (7, 4),\n",
       " (2, 8),\n",
       " (9, 8),\n",
       " (3, 8),\n",
       " (3, 8),\n",
       " (1, 8)]"
      ]
     },
     "execution_count": 582,
     "metadata": {},
     "output_type": "execute_result"
    }
   ],
   "source": [
    "wrong"
   ]
  },
  {
   "cell_type": "code",
   "execution_count": 589,
   "id": "e2909bef-b138-47db-92dc-90e40b87a018",
   "metadata": {},
   "outputs": [
    {
     "name": "stdout",
     "output_type": "stream",
     "text": [
      "97.78%\n"
     ]
    }
   ],
   "source": [
    "#print( f '{knn.score(X_test, y_test:.2%}')\n",
    "print(f'{knn.score(x_test, y_test):.2%}')  \n",
    "\n",
    "\n"
   ]
  },
  {
   "cell_type": "code",
   "execution_count": null,
   "id": "de19b5c6-a861-4c71-a0b8-33c0af323b8b",
   "metadata": {},
   "outputs": [],
   "source": []
  },
  {
   "cell_type": "code",
   "execution_count": 585,
   "id": "fb31eb08-d684-4607-a54d-fa938cc8e6fd",
   "metadata": {},
   "outputs": [
    {
     "name": "stdout",
     "output_type": "stream",
     "text": [
      " 97.78%\n"
     ]
    }
   ],
   "source": [
    "print( f' {(len(expected)-len(wrong))/len(expected):.2%}')\n",
    "\n",
    "\n",
    " "
   ]
  },
  {
   "cell_type": "code",
   "execution_count": 591,
   "id": "e7bdaf52-5329-4d32-8a7a-1d28de1fa744",
   "metadata": {},
   "outputs": [],
   "source": [
    "from sklearn.metrics import confusion_matrix\n",
    "\n",
    "#from sklearn.metrics import confusion_matrix  \n",
    "\n"
   ]
  },
  {
   "cell_type": "code",
   "execution_count": 595,
   "id": "dc5a4f2c-1c1a-4f46-8467-02d9995edc30",
   "metadata": {},
   "outputs": [],
   "source": [
    "confusion=   confusion_matrix(y_true=expected, y_pred=predicted)\n",
    "#confusion = confusion_matrix(y_true=expected, y_pred=predicted) \n",
    "\n"
   ]
  },
  {
   "cell_type": "code",
   "execution_count": 596,
   "id": "17987e3d-1743-4fae-b9be-5689fe1f4a7b",
   "metadata": {},
   "outputs": [
    {
     "data": {
      "text/plain": [
       "array([[45,  0,  0,  0,  0,  0,  0,  0,  0,  0],\n",
       "       [ 0, 45,  0,  0,  0,  0,  0,  0,  0,  0],\n",
       "       [ 0,  0, 54,  0,  0,  0,  0,  0,  0,  0],\n",
       "       [ 0,  0,  0, 42,  0,  1,  0,  1,  0,  0],\n",
       "       [ 0,  0,  0,  0, 49,  0,  0,  1,  0,  0],\n",
       "       [ 0,  0,  0,  0,  0, 38,  0,  0,  0,  0],\n",
       "       [ 0,  0,  0,  0,  0,  0, 42,  0,  0,  0],\n",
       "       [ 0,  0,  0,  0,  0,  0,  0, 45,  0,  0],\n",
       "       [ 0,  1,  1,  2,  0,  0,  0,  0, 39,  1],\n",
       "       [ 0,  0,  0,  0,  1,  0,  0,  0,  1, 41]], dtype=int64)"
      ]
     },
     "execution_count": 596,
     "metadata": {},
     "output_type": "execute_result"
    }
   ],
   "source": [
    "confusion"
   ]
  },
  {
   "cell_type": "code",
   "execution_count": 597,
   "id": "95ed40ab-75fb-40bf-adde-324113898783",
   "metadata": {},
   "outputs": [],
   "source": [
    "from sklearn.metrics import classification_report"
   ]
  },
  {
   "cell_type": "code",
   "execution_count": 598,
   "id": "9b1c803b-d464-4e6d-a5f4-28f6b1a353d9",
   "metadata": {},
   "outputs": [],
   "source": [
    "names=[str(digit) for digit in digits.target_names]"
   ]
  },
  {
   "cell_type": "code",
   "execution_count": 599,
   "id": "bc06ceeb-4f7d-4aa1-b5b7-1201289d1a0a",
   "metadata": {},
   "outputs": [
    {
     "data": {
      "text/plain": [
       "['0', '1', '2', '3', '4', '5', '6', '7', '8', '9']"
      ]
     },
     "execution_count": 599,
     "metadata": {},
     "output_type": "execute_result"
    }
   ],
   "source": [
    "names"
   ]
  },
  {
   "cell_type": "code",
   "execution_count": 600,
   "id": "36b5bfe0-e1d2-4db6-aa87-bd2dd7953e99",
   "metadata": {},
   "outputs": [
    {
     "name": "stdout",
     "output_type": "stream",
     "text": [
      "              precision    recall  f1-score   support\n",
      "\n",
      "           0       1.00      1.00      1.00        45\n",
      "           1       0.98      1.00      0.99        45\n",
      "           2       0.98      1.00      0.99        54\n",
      "           3       0.95      0.95      0.95        44\n",
      "           4       0.98      0.98      0.98        50\n",
      "           5       0.97      1.00      0.99        38\n",
      "           6       1.00      1.00      1.00        42\n",
      "           7       0.96      1.00      0.98        45\n",
      "           8       0.97      0.89      0.93        44\n",
      "           9       0.98      0.95      0.96        43\n",
      "\n",
      "    accuracy                           0.98       450\n",
      "   macro avg       0.98      0.98      0.98       450\n",
      "weighted avg       0.98      0.98      0.98       450\n",
      "\n"
     ]
    }
   ],
   "source": [
    "print(classification_report(expected,predicted, target_names=names))"
   ]
  },
  {
   "cell_type": "code",
   "execution_count": 608,
   "id": "d8a7e52d-b488-4ac7-8cc4-f9a89249bc3d",
   "metadata": {},
   "outputs": [],
   "source": [
    "import numpy as np\n",
    "import pandas as pd"
   ]
  },
  {
   "cell_type": "code",
   "execution_count": null,
   "id": "9ad2ee4c-5450-4252-b0c2-15a939eb8d75",
   "metadata": {},
   "outputs": [],
   "source": []
  },
  {
   "cell_type": "code",
   "execution_count": 622,
   "id": "e5409b2d-8964-441c-8857-0e7675aa9d33",
   "metadata": {},
   "outputs": [],
   "source": [
    "import pandas as pd\n",
    "#confusion_df = pd.Dataframe\n",
    "confusion_df = pd.DataFrame(confusion, index=range(10),  columns=range(10))\n",
    "                           "
   ]
  },
  {
   "cell_type": "code",
   "execution_count": 623,
   "id": "1a333c3a-7bfa-4a99-bb5a-bfb1cd28cc12",
   "metadata": {},
   "outputs": [],
   "source": [
    "import seaborn as sns"
   ]
  },
  {
   "cell_type": "code",
   "execution_count": 625,
   "id": "e63c6ea7-a97f-4037-b2e4-d546b5fb130d",
   "metadata": {},
   "outputs": [
    {
     "data": {
      "image/png": "[encoded data removed]",
      "text/plain": [
       "<Figure size 640x480 with 2 Axes>"
      ]
     },
     "metadata": {},
     "output_type": "display_data"
    }
   ],
   "source": [
    "axes = sns.heatmap(confusion_df, annot=True, cmap = 'nipy_spectral_r')\n",
    "#axes = sns.heatmap(confusion_df, annot=True, \n",
    "\n"
   ]
  },
  {
   "cell_type": "code",
   "execution_count": 626,
   "id": "647e9f2d-6376-4953-8375-46c01c2bdfab",
   "metadata": {},
   "outputs": [
    {
     "name": "stdout",
     "output_type": "stream",
     "text": [
      "Collecting tensorflowNote: you may need to restart the kernel to use updated packages.\n",
      "\n",
      "  Downloading tensorflow-2.8.0-cp39-cp39-win_amd64.whl (438.0 MB)\n",
      "Collecting gast>=0.2.1\n",
      "  Downloading gast-0.5.3-py3-none-any.whl (19 kB)\n",
      "Collecting absl-py>=0.4.0\n",
      "  Downloading absl_py-1.0.0-py3-none-any.whl (126 kB)\n",
      "Collecting opt-einsum>=2.3.2\n",
      "  Downloading opt_einsum-3.3.0-py3-none-any.whl (65 kB)\n",
      "Collecting tensorflow-io-gcs-filesystem>=0.23.1\n",
      "  Downloading tensorflow_io_gcs_filesystem-0.24.0-cp39-cp39-win_amd64.whl (1.5 MB)\n",
      "Requirement already satisfied: setuptools in c:\\users\\18323\\anaconda3\\anaconda\\lib\\site-packages (from tensorflow) (58.0.4)\n",
      "Collecting protobuf>=3.9.2\n",
      "  Downloading protobuf-3.19.4-cp39-cp39-win_amd64.whl (895 kB)\n",
      "Collecting libclang>=9.0.1\n",
      "  Downloading libclang-13.0.0-py2.py3-none-win_amd64.whl (13.9 MB)\n",
      "Collecting google-pasta>=0.1.1\n",
      "  Downloading google_pasta-0.2.0-py3-none-any.whl (57 kB)\n",
      "Requirement already satisfied: numpy>=1.20 in c:\\users\\18323\\anaconda3\\anaconda\\lib\\site-packages (from tensorflow) (1.20.3)\n",
      "Collecting tf-estimator-nightly==2.8.0.dev2021122109\n",
      "  Downloading tf_estimator_nightly-2.8.0.dev2021122109-py2.py3-none-any.whl (462 kB)\n",
      "Requirement already satisfied: h5py>=2.9.0 in c:\\users\\18323\\anaconda3\\anaconda\\lib\\site-packages (from tensorflow) (3.2.1)\n",
      "Collecting tensorboard<2.9,>=2.8\n",
      "  Downloading tensorboard-2.8.0-py3-none-any.whl (5.8 MB)\n",
      "Requirement already satisfied: wrapt>=1.11.0 in c:\\users\\18323\\anaconda3\\anaconda\\lib\\site-packages (from tensorflow) (1.12.1)\n",
      "Collecting termcolor>=1.1.0\n",
      "  Downloading termcolor-1.1.0.tar.gz (3.9 kB)\n",
      "Requirement already satisfied: typing-extensions>=3.6.6 in c:\\users\\18323\\anaconda3\\anaconda\\lib\\site-packages (from tensorflow) (3.10.0.2)\n",
      "Requirement already satisfied: six>=1.12.0 in c:\\users\\18323\\anaconda3\\anaconda\\lib\\site-packages (from tensorflow) (1.16.0)\n",
      "Collecting keras<2.9,>=2.8.0rc0\n",
      "  Downloading keras-2.8.0-py2.py3-none-any.whl (1.4 MB)\n",
      "Collecting keras-preprocessing>=1.1.1\n",
      "  Downloading Keras_Preprocessing-1.1.2-py2.py3-none-any.whl (42 kB)\n",
      "Collecting grpcio<2.0,>=1.24.3\n",
      "  Downloading grpcio-1.44.0-cp39-cp39-win_amd64.whl (3.4 MB)\n",
      "Collecting astunparse>=1.6.0\n",
      "  Downloading astunparse-1.6.3-py2.py3-none-any.whl (12 kB)\n",
      "Collecting flatbuffers>=1.12\n",
      "  Downloading flatbuffers-2.0-py2.py3-none-any.whl (26 kB)\n",
      "Requirement already satisfied: wheel<1.0,>=0.23.0 in c:\\users\\18323\\anaconda3\\anaconda\\lib\\site-packages (from astunparse>=1.6.0->tensorflow) (0.37.0)\n",
      "Collecting markdown>=2.6.8\n",
      "  Downloading Markdown-3.3.6-py3-none-any.whl (97 kB)\n",
      "Collecting tensorboard-data-server<0.7.0,>=0.6.0\n",
      "  Downloading tensorboard_data_server-0.6.1-py3-none-any.whl (2.4 kB)\n",
      "Requirement already satisfied: werkzeug>=0.11.15 in c:\\users\\18323\\anaconda3\\anaconda\\lib\\site-packages (from tensorboard<2.9,>=2.8->tensorflow) (2.0.2)\n",
      "Requirement already satisfied: requests<3,>=2.21.0 in c:\\users\\18323\\anaconda3\\anaconda\\lib\\site-packages (from tensorboard<2.9,>=2.8->tensorflow) (2.26.0)\n",
      "Collecting google-auth<3,>=1.6.3\n",
      "  Downloading google_auth-2.6.0-py2.py3-none-any.whl (156 kB)\n",
      "Collecting tensorboard-plugin-wit>=1.6.0\n",
      "  Downloading tensorboard_plugin_wit-1.8.1-py3-none-any.whl (781 kB)\n",
      "Collecting google-auth-oauthlib<0.5,>=0.4.1\n",
      "  Downloading google_auth_oauthlib-0.4.6-py2.py3-none-any.whl (18 kB)\n",
      "Collecting pyasn1-modules>=0.2.1\n",
      "  Downloading pyasn1_modules-0.2.8-py2.py3-none-any.whl (155 kB)\n",
      "Collecting cachetools<6.0,>=2.0.0\n",
      "  Downloading cachetools-5.0.0-py3-none-any.whl (9.1 kB)\n",
      "Collecting rsa<5,>=3.1.4\n",
      "  Downloading rsa-4.8-py3-none-any.whl (39 kB)\n",
      "Requirement already satisfied: requests-oauthlib>=0.7.0 in c:\\users\\18323\\anaconda3\\anaconda\\lib\\site-packages (from google-auth-oauthlib<0.5,>=0.4.1->tensorboard<2.9,>=2.8->tensorflow) (1.3.1)\n",
      "Requirement already satisfied: importlib-metadata>=4.4 in c:\\users\\18323\\anaconda3\\anaconda\\lib\\site-packages (from markdown>=2.6.8->tensorboard<2.9,>=2.8->tensorflow) (4.8.1)\n",
      "Requirement already satisfied: zipp>=0.5 in c:\\users\\18323\\anaconda3\\anaconda\\lib\\site-packages (from importlib-metadata>=4.4->markdown>=2.6.8->tensorboard<2.9,>=2.8->tensorflow) (3.6.0)\n",
      "Collecting pyasn1<0.5.0,>=0.4.6\n",
      "  Downloading pyasn1-0.4.8-py2.py3-none-any.whl (77 kB)\n",
      "Requirement already satisfied: certifi>=2017.4.17 in c:\\users\\18323\\anaconda3\\anaconda\\lib\\site-packages (from requests<3,>=2.21.0->tensorboard<2.9,>=2.8->tensorflow) (2021.10.8)\n",
      "Requirement already satisfied: urllib3<1.27,>=1.21.1 in c:\\users\\18323\\anaconda3\\anaconda\\lib\\site-packages (from requests<3,>=2.21.0->tensorboard<2.9,>=2.8->tensorflow) (1.26.7)\n",
      "Requirement already satisfied: idna<4,>=2.5 in c:\\users\\18323\\anaconda3\\anaconda\\lib\\site-packages (from requests<3,>=2.21.0->tensorboard<2.9,>=2.8->tensorflow) (3.2)\n",
      "Requirement already satisfied: charset-normalizer~=2.0.0 in c:\\users\\18323\\anaconda3\\anaconda\\lib\\site-packages (from requests<3,>=2.21.0->tensorboard<2.9,>=2.8->tensorflow) (2.0.4)\n",
      "Requirement already satisfied: oauthlib>=3.0.0 in c:\\users\\18323\\anaconda3\\anaconda\\lib\\site-packages (from requests-oauthlib>=0.7.0->google-auth-oauthlib<0.5,>=0.4.1->tensorboard<2.9,>=2.8->tensorflow) (3.2.0)\n",
      "Building wheels for collected packages: termcolor\n",
      "  Building wheel for termcolor (setup.py): started\n",
      "  Building wheel for termcolor (setup.py): finished with status 'done'\n",
      "  Created wheel for termcolor: filename=termcolor-1.1.0-py3-none-any.whl size=4847 sha256=63bb1c9af9bbc98bf296daf6607306b58e4c5e88d92da7e282677f9929bfee8e\n",
      "  Stored in directory: c:\\users\\18323\\appdata\\local\\pip\\cache\\wheels\\b6\\0d\\90\\0d1bbd99855f99cb2f6c2e5ff96f8023fad8ec367695f7d72d\n",
      "Successfully built termcolor\n",
      "Installing collected packages: pyasn1, rsa, pyasn1-modules, cachetools, google-auth, tensorboard-plugin-wit, tensorboard-data-server, protobuf, markdown, grpcio, google-auth-oauthlib, absl-py, tf-estimator-nightly, termcolor, tensorflow-io-gcs-filesystem, tensorboard, opt-einsum, libclang, keras-preprocessing, keras, google-pasta, gast, flatbuffers, astunparse, tensorflow\n",
      "Successfully installed absl-py-1.0.0 astunparse-1.6.3 cachetools-5.0.0 flatbuffers-2.0 gast-0.5.3 google-auth-2.6.0 google-auth-oauthlib-0.4.6 google-pasta-0.2.0 grpcio-1.44.0 keras-2.8.0 keras-preprocessing-1.1.2 libclang-13.0.0 markdown-3.3.6 opt-einsum-3.3.0 protobuf-3.19.4 pyasn1-0.4.8 pyasn1-modules-0.2.8 rsa-4.8 tensorboard-2.8.0 tensorboard-data-server-0.6.1 tensorboard-plugin-wit-1.8.1 tensorflow-2.8.0 tensorflow-io-gcs-filesystem-0.24.0 termcolor-1.1.0 tf-estimator-nightly-2.8.0.dev2021122109\n"
     ]
    }
   ],
   "source": [
    "pip install tensorflow"
   ]
  },
  {
   "cell_type": "markdown",
   "id": "be7e8e0b-41aa-45db-8b9b-8e26edb236c7",
   "metadata": {},
   "source": [
    "from tensorflow.keras.datasets import mnist"
   ]
  },
  {
   "cell_type": "code",
   "execution_count": 629,
   "id": "dfbf6a57-5f59-409b-82d6-fc109be0a83c",
   "metadata": {},
   "outputs": [],
   "source": [
    "from tensorflow.keras.datasets import mnist"
   ]
  },
  {
   "cell_type": "code",
   "execution_count": 630,
   "id": "e8d23848-c55f-48e5-9ae5-4014995204fb",
   "metadata": {},
   "outputs": [
    {
     "data": {
      "text/plain": [
       "(1347, 64)"
      ]
     },
     "execution_count": 630,
     "metadata": {},
     "output_type": "execute_result"
    }
   ],
   "source": [
    "x_train.shape"
   ]
  },
  {
   "cell_type": "code",
   "execution_count": 631,
   "id": "306af5f9-ae22-4e6d-8b53-2bd9718ebe6d",
   "metadata": {},
   "outputs": [
    {
     "data": {
      "text/plain": [
       "(1347,)"
      ]
     },
     "execution_count": 631,
     "metadata": {},
     "output_type": "execute_result"
    }
   ],
   "source": [
    "y_train.shape"
   ]
  },
  {
   "cell_type": "code",
   "execution_count": 636,
   "id": "b8891014-e297-4b6b-9903-d669f5d485b3",
   "metadata": {},
   "outputs": [
    {
     "name": "stdout",
     "output_type": "stream",
     "text": [
      "Downloading data from https://storage.googleapis.com/tensorflow/tf-keras-datasets/mnist.npz\n",
      "11493376/11490434 [==============================] - 1s 0us/step\n",
      "11501568/11490434 [==============================] - 1s 0us/step\n"
     ]
    }
   ],
   "source": [
    "(X_train, y_train), (X_test, y_test) = mnist.load_data()\n"
   ]
  },
  {
   "cell_type": "code",
   "execution_count": 638,
   "id": "388feaa9-8c09-4aab-838c-d44b57ca427e",
   "metadata": {},
   "outputs": [
    {
     "data": {
      "text/plain": [
       "(60000, 28, 28)"
      ]
     },
     "execution_count": 638,
     "metadata": {},
     "output_type": "execute_result"
    }
   ],
   "source": [
    "X_train.shape"
   ]
  },
  {
   "cell_type": "code",
   "execution_count": 639,
   "id": "660b0f87-4c1d-4e55-abe3-9fe6fb94bdbc",
   "metadata": {},
   "outputs": [
    {
     "data": {
      "text/plain": [
       "(60000,)"
      ]
     },
     "execution_count": 639,
     "metadata": {},
     "output_type": "execute_result"
    }
   ],
   "source": [
    "y_train.shape"
   ]
  },
  {
   "cell_type": "code",
   "execution_count": 640,
   "id": "d28d6743-93f1-45a7-becc-0d7fc5df571f",
   "metadata": {},
   "outputs": [
    {
     "data": {
      "text/plain": [
       "(10000, 28, 28)"
      ]
     },
     "execution_count": 640,
     "metadata": {},
     "output_type": "execute_result"
    }
   ],
   "source": [
    "X_test.shape"
   ]
  },
  {
   "cell_type": "code",
   "execution_count": 641,
   "id": "5cd74dc6-b985-4795-98fd-b3817a73c7f0",
   "metadata": {},
   "outputs": [
    {
     "data": {
      "text/plain": [
       "(10000,)"
      ]
     },
     "execution_count": 641,
     "metadata": {},
     "output_type": "execute_result"
    }
   ],
   "source": [
    "y_test.shape"
   ]
  },
  {
   "cell_type": "code",
   "execution_count": 642,
   "id": "87b9c738-fb5b-4662-b966-aaf84942151e",
   "metadata": {},
   "outputs": [],
   "source": [
    "%matplotlib inline"
   ]
  },
  {
   "cell_type": "code",
   "execution_count": 644,
   "id": "e285590c-d3c2-4c93-8556-528acbf61a27",
   "metadata": {},
   "outputs": [],
   "source": [
    "import matplotlib.pyplot as plt\n"
   ]
  },
  {
   "cell_type": "code",
   "execution_count": 645,
   "id": "73d99356-ce7b-4bdc-9214-1b9d748c6b91",
   "metadata": {},
   "outputs": [],
   "source": [
    "import seaborn as sns"
   ]
  },
  {
   "cell_type": "code",
   "execution_count": 646,
   "id": "8929ea86-c145-4764-ba98-9d42701d702f",
   "metadata": {},
   "outputs": [],
   "source": [
    "sns.set(font_scale=2)"
   ]
  },
  {
   "cell_type": "code",
   "execution_count": 652,
   "id": "5966aecc-8aef-468d-9014-7a064cf7816a",
   "metadata": {},
   "outputs": [
    {
     "data": {
      "image/png": "[encoded data removed]",
      "text/plain": [
       "<Figure size 1152x648 with 24 Axes>"
      ]
     },
     "metadata": {},
     "output_type": "display_data"
    }
   ],
   "source": [
    "import numpy as np  \n",
    "index = np.random.choice(np.arange(len(X_train)), 24, replace=False)  \n",
    "figure, axes = plt.subplots(nrows=4, ncols=6, figsize=(16, 9))  \n",
    "\n",
    "for item in zip(axes.ravel(), X_train[index], y_train[index]):  \n",
    "    axes, image, target = item  \n",
    "    axes.imshow(image, cmap=plt.cm.gray_r)  \n",
    "    axes.set_xticks([]) #remove x-axis tick marks  \n",
    "    axes.set_yticks([]) #remove y-axis tick marks  \n",
    "    axes.set_title(target) \n",
    "plt.tight_layout()\n"
   ]
  },
  {
   "cell_type": "code",
   "execution_count": null,
   "id": "2f07f174-88dc-455b-b574-5e51f1c10a95",
   "metadata": {},
   "outputs": [],
   "source": [
    "X_train = X_train.reshape ((60000,28,28,1))"
   ]
  },
  {
   "cell_type": "code",
   "execution_count": 656,
   "id": "116eaf9f-3af0-4db9-8326-18746b606943",
   "metadata": {},
   "outputs": [
    {
     "data": {
      "text/plain": [
       "(60000, 28, 28, 1)"
      ]
     },
     "execution_count": 656,
     "metadata": {},
     "output_type": "execute_result"
    }
   ],
   "source": [
    "X_train.shape"
   ]
  },
  {
   "cell_type": "code",
   "execution_count": 657,
   "id": "25bc1919-7892-4376-9ddb-fd89773093f8",
   "metadata": {},
   "outputs": [],
   "source": [
    "X_test= X_test.reshape ((10000, 28, 28, 1))"
   ]
  },
  {
   "cell_type": "code",
   "execution_count": 658,
   "id": "7cbfbcab-e823-4da0-a685-f4b9588ca15c",
   "metadata": {},
   "outputs": [
    {
     "data": {
      "text/plain": [
       "(10000, 28, 28, 1)"
      ]
     },
     "execution_count": 658,
     "metadata": {},
     "output_type": "execute_result"
    }
   ],
   "source": [
    "X_test.shape"
   ]
  },
  {
   "cell_type": "code",
   "execution_count": 659,
   "id": "58a43239-f048-404a-b77e-3bfb6a5ff837",
   "metadata": {},
   "outputs": [],
   "source": [
    "X_train = X_train.astype('float32')/255"
   ]
  },
  {
   "cell_type": "code",
   "execution_count": 660,
   "id": "cf3899ab-8ebe-4416-824b-a2a414041c5e",
   "metadata": {},
   "outputs": [],
   "source": [
    "X_test = X_test.astype('float32')/255"
   ]
  },
  {
   "cell_type": "code",
   "execution_count": 662,
   "id": "7811b6f6-8641-4b54-97dd-e396b135b35c",
   "metadata": {},
   "outputs": [],
   "source": [
    "from tensorflow.keras.utils import to_categorical"
   ]
  },
  {
   "cell_type": "code",
   "execution_count": 663,
   "id": "c2b8e184-432d-4d7f-b193-17db3a940a4c",
   "metadata": {},
   "outputs": [],
   "source": [
    "y_train = to_categorical(y_train)"
   ]
  },
  {
   "cell_type": "code",
   "execution_count": 664,
   "id": "dce2b27b-ede7-4fb3-a341-5073981596aa",
   "metadata": {},
   "outputs": [
    {
     "data": {
      "text/plain": [
       "(60000, 10)"
      ]
     },
     "execution_count": 664,
     "metadata": {},
     "output_type": "execute_result"
    }
   ],
   "source": [
    "y_train.shape"
   ]
  },
  {
   "cell_type": "code",
   "execution_count": 668,
   "id": "d2e29ba4-d76a-44e5-8f14-fee3a9a37724",
   "metadata": {},
   "outputs": [
    {
     "data": {
      "text/plain": [
       "array([0., 0., 0., 0., 0., 1., 0., 0., 0., 0.], dtype=float32)"
      ]
     },
     "execution_count": 668,
     "metadata": {},
     "output_type": "execute_result"
    }
   ],
   "source": [
    "y_train[0]\n",
    "#array([ 0., 0., 0., 0., 0., 1., 0., 0., 0., 0.], dtype=float32)\n",
    "\n"
   ]
  },
  {
   "cell_type": "code",
   "execution_count": 669,
   "id": "0ddff06d-26ba-460a-8159-050a1ef4af5c",
   "metadata": {},
   "outputs": [],
   "source": [
    "y_test = to_categorical(y_test)"
   ]
  },
  {
   "cell_type": "code",
   "execution_count": 670,
   "id": "3d117f27-233b-4b8c-8a52-fe60f1acc1c3",
   "metadata": {},
   "outputs": [
    {
     "data": {
      "text/plain": [
       "(10000, 10)"
      ]
     },
     "execution_count": 670,
     "metadata": {},
     "output_type": "execute_result"
    }
   ],
   "source": [
    "y_test.shape"
   ]
  },
  {
   "cell_type": "code",
   "execution_count": 671,
   "id": "b4a42f19-2d33-41fb-aa32-aab4bf46edf4",
   "metadata": {},
   "outputs": [],
   "source": [
    "from tensorflow.keras.models import Sequential"
   ]
  },
  {
   "cell_type": "code",
   "execution_count": 674,
   "id": "e20a35cf-1246-49af-8736-adc6603d35c3",
   "metadata": {},
   "outputs": [],
   "source": [
    "cnn = Sequential()\n",
    "\n"
   ]
  },
  {
   "cell_type": "code",
   "execution_count": 673,
   "id": "08b0e8ce-d1f9-42c6-8215-9d4a44972c04",
   "metadata": {},
   "outputs": [],
   "source": [
    "from tensorflow.keras.layers import Conv2D, Dense, Flatten, MaxPooling2D"
   ]
  },
  {
   "cell_type": "code",
   "execution_count": 676,
   "id": "4590eac1-7d30-431b-948a-0eb5eabaf687",
   "metadata": {},
   "outputs": [],
   "source": [
    "#cnn.add(Conv2D(filters=64, kernel_size=(3,3), activation='relu', input_shape(28,28,1)))\n",
    "cnn.add(Conv2D(filters=64, kernel_size=(3, 3), activation='relu', input_shape = (28,28,1))) \n",
    "\n"
   ]
  },
  {
   "cell_type": "code",
   "execution_count": 677,
   "id": "a60b1073-c3fa-484a-be9e-60a51108602d",
   "metadata": {},
   "outputs": [],
   "source": [
    "cnn.add(MaxPooling2D(pool_size = (2, 2)))"
   ]
  },
  {
   "cell_type": "code",
   "execution_count": 683,
   "id": "4f082ae1-c014-4864-858c-14e9a7a507f8",
   "metadata": {},
   "outputs": [],
   "source": [
    "#cnn.add(Conv2D(filters=128, kernel_size=(3.3), activation='relu'))\n",
    "\n",
    "cnn.add(Conv2D(filters=128, kernel_size=(3, 3), activation='relu')) \n",
    "\n",
    " "
   ]
  },
  {
   "cell_type": "code",
   "execution_count": 685,
   "id": "ec404948-adfb-47f2-8257-e0d4f81839d3",
   "metadata": {},
   "outputs": [],
   "source": [
    "cnn.add(MaxPooling2D(pool_size = (2, 2)))"
   ]
  },
  {
   "cell_type": "code",
   "execution_count": 686,
   "id": "9016dc26-b08e-4020-8c1d-66ecfe400d47",
   "metadata": {},
   "outputs": [],
   "source": [
    "cnn.add(Flatten())"
   ]
  },
  {
   "cell_type": "code",
   "execution_count": 687,
   "id": "32cfce1a-32f0-4173-9288-5b497d23cf6f",
   "metadata": {},
   "outputs": [],
   "source": [
    "cnn.add(Dense(units=128, activation='relu'))"
   ]
  },
  {
   "cell_type": "code",
   "execution_count": 688,
   "id": "0e2a30ac-8592-4942-95d8-b0e31f885b2e",
   "metadata": {},
   "outputs": [],
   "source": [
    "cnn.add(Dense(units=10, activation='softmax'))"
   ]
  },
  {
   "cell_type": "code",
   "execution_count": 689,
   "id": "86dda18e-2573-4795-8d78-a863a167a25a",
   "metadata": {},
   "outputs": [
    {
     "name": "stdout",
     "output_type": "stream",
     "text": [
      "Model: \"sequential_1\"\n",
      "_________________________________________________________________\n",
      " Layer (type)                Output Shape              Param #   \n",
      "=================================================================\n",
      " conv2d (Conv2D)             (None, 26, 26, 64)        640       \n",
      "                                                                 \n",
      " max_pooling2d (MaxPooling2D  (None, 13, 13, 64)       0         \n",
      " )                                                               \n",
      "                                                                 \n",
      " conv2d_3 (Conv2D)           (None, 11, 11, 128)       73856     \n",
      "                                                                 \n",
      " max_pooling2d_1 (MaxPooling  (None, 5, 5, 128)        0         \n",
      " 2D)                                                             \n",
      "                                                                 \n",
      " flatten (Flatten)           (None, 3200)              0         \n",
      "                                                                 \n",
      " dense (Dense)               (None, 128)               409728    \n",
      "                                                                 \n",
      " dense_1 (Dense)             (None, 10)                1290      \n",
      "                                                                 \n",
      "=================================================================\n",
      "Total params: 485,514\n",
      "Trainable params: 485,514\n",
      "Non-trainable params: 0\n",
      "_________________________________________________________________\n"
     ]
    }
   ],
   "source": [
    "cnn.summary()"
   ]
  },
  {
   "cell_type": "code",
   "execution_count": null,
   "id": "6c3901ac-5eb7-449f-85f6-cb6a5032a4b5",
   "metadata": {},
   "outputs": [],
   "source": [
    "\n",
    "\n",
    " "
   ]
  },
  {
   "cell_type": "code",
   "execution_count": 698,
   "id": "1a9fb8a6-48cd-47be-a851-6f78561724f1",
   "metadata": {},
   "outputs": [
    {
     "name": "stdout",
     "output_type": "stream",
     "text": [
      "Requirement already satisfied: pydot in c:\\users\\18323\\anaconda3\\anaconda\\lib\\site-packages (1.4.2)\n",
      "Requirement already satisfied: pyparsing>=2.1.4 in c:\\users\\18323\\anaconda3\\anaconda\\lib\\site-packages (from pydot) (3.0.4)\n",
      "Note: you may need to restart the kernel to use updated packages.\n"
     ]
    }
   ],
   "source": [
    "pip install pydot"
   ]
  },
  {
   "cell_type": "code",
   "execution_count": 699,
   "id": "c8b38b26-7f7c-401b-b039-3d71b897388f",
   "metadata": {},
   "outputs": [
    {
     "name": "stdout",
     "output_type": "stream",
     "text": [
      "Requirement already satisfied: graphviz in c:\\users\\18323\\anaconda3\\anaconda\\lib\\site-packages (0.19.1)\n",
      "Note: you may need to restart the kernel to use updated packages.\n"
     ]
    }
   ],
   "source": [
    "pip install graphviz"
   ]
  },
  {
   "cell_type": "code",
   "execution_count": null,
   "id": "f7ab74f0-edde-49d8-9dfc-ae181faa88a2",
   "metadata": {},
   "outputs": [],
   "source": []
  },
  {
   "cell_type": "code",
   "execution_count": 694,
   "id": "c20e016d-60ad-4198-a94f-c87ab32022b3",
   "metadata": {},
   "outputs": [
    {
     "name": "stdout",
     "output_type": "stream",
     "text": [
      "Collecting pydot\n",
      "  Downloading pydot-1.4.2-py2.py3-none-any.whl (21 kB)\n",
      "Requirement already satisfied: pyparsing>=2.1.4 in c:\\users\\18323\\anaconda3\\anaconda\\lib\\site-packages (from pydot) (3.0.4)\n",
      "Installing collected packages: pydot\n",
      "Successfully installed pydot-1.4.2\n",
      "Note: you may need to restart the kernel to use updated packages.\n"
     ]
    }
   ],
   "source": [
    "pip install pydot"
   ]
  },
  {
   "cell_type": "code",
   "execution_count": 695,
   "id": "a9b384a7-5459-4097-8360-da9eafd91824",
   "metadata": {},
   "outputs": [
    {
     "name": "stdout",
     "output_type": "stream",
     "text": [
      "Collecting graphviz\n",
      "  Downloading graphviz-0.19.1-py3-none-any.whl (46 kB)\n",
      "Installing collected packages: graphviz\n",
      "Successfully installed graphviz-0.19.1\n",
      "Note: you may need to restart the kernel to use updated packages.\n"
     ]
    }
   ],
   "source": [
    "pip install graphviz"
   ]
  },
  {
   "cell_type": "code",
   "execution_count": 9,
   "id": "bcc5f23a-19ae-4de6-bbf3-30953ae78de4",
   "metadata": {},
   "outputs": [
    {
     "ename": "NameError",
     "evalue": "name 'cnn' is not defined",
     "output_type": "error",
     "traceback": [
      "\u001b[1;31m---------------------------------------------------------------------------\u001b[0m",
      "\u001b[1;31mNameError\u001b[0m                                 Traceback (most recent call last)",
      "\u001b[1;32m~\\AppData\\Local\\Temp/ipykernel_56588/261841535.py\u001b[0m in \u001b[0;36m<module>\u001b[1;34m\u001b[0m\n\u001b[0;32m      6\u001b[0m \u001b[1;32mfrom\u001b[0m \u001b[0mtensorflow\u001b[0m\u001b[1;33m.\u001b[0m\u001b[0mkeras\u001b[0m\u001b[1;33m.\u001b[0m\u001b[0mutils\u001b[0m \u001b[1;32mimport\u001b[0m \u001b[0mplot_model\u001b[0m\u001b[1;33m\u001b[0m\u001b[1;33m\u001b[0m\u001b[0m\n\u001b[0;32m      7\u001b[0m \u001b[1;32mfrom\u001b[0m \u001b[0mIPython\u001b[0m\u001b[1;33m.\u001b[0m\u001b[0mdisplay\u001b[0m \u001b[1;32mimport\u001b[0m \u001b[0mImage\u001b[0m\u001b[1;33m\u001b[0m\u001b[1;33m\u001b[0m\u001b[0m\n\u001b[1;32m----> 8\u001b[1;33m \u001b[0mplot_model\u001b[0m\u001b[1;33m(\u001b[0m\u001b[0mcnn\u001b[0m\u001b[1;33m,\u001b[0m \u001b[0mto_file\u001b[0m\u001b[1;33m=\u001b[0m\u001b[1;34m'convnet.png'\u001b[0m\u001b[1;33m,\u001b[0m \u001b[0mshow_shapes\u001b[0m\u001b[1;33m=\u001b[0m\u001b[1;32mTrue\u001b[0m\u001b[1;33m,\u001b[0m  \u001b[0mshow_layer_names\u001b[0m\u001b[1;33m=\u001b[0m\u001b[1;32mTrue\u001b[0m\u001b[1;33m)\u001b[0m\u001b[1;33m\u001b[0m\u001b[1;33m\u001b[0m\u001b[0m\n\u001b[0m\u001b[0;32m      9\u001b[0m \u001b[0mImage\u001b[0m\u001b[1;33m(\u001b[0m\u001b[0mfilename\u001b[0m\u001b[1;33m=\u001b[0m\u001b[1;34m'convnet.png'\u001b[0m\u001b[1;33m)\u001b[0m\u001b[1;33m\u001b[0m\u001b[1;33m\u001b[0m\u001b[0m\n\u001b[0;32m     10\u001b[0m \u001b[1;33m\u001b[0m\u001b[0m\n",
      "\u001b[1;31mNameError\u001b[0m: name 'cnn' is not defined"
     ]
    }
   ],
   "source": [
    "#from tensorflow.keras.utils import plot_model  \n",
    "#from IPython.display import Image  \n",
    "#plot_model(cnn, to_file='convnet.png', show_shapes=True,  show_layer_names=True)  \n",
    "#Image(filename='convnet.png') \n",
    "\n",
    "from tensorflow.keras.utils import plot_model  \n",
    "from IPython.display import Image  \n",
    "plot_model(cnn, to_file='convnet.png', show_shapes=True,  show_layer_names=True)  \n",
    "Image(filename='convnet.png') \n",
    "\n",
    "\n"
   ]
  },
  {
   "cell_type": "code",
   "execution_count": null,
   "id": "d82a7cf2-9667-4026-a9d2-8bd485d5e0b8",
   "metadata": {},
   "outputs": [],
   "source": [
    "cnn=Sequential()"
   ]
  },
  {
   "cell_type": "code",
   "execution_count": null,
   "id": "2dd59885-c1af-4dc5-9806-87d90be373a5",
   "metadata": {},
   "outputs": [],
   "source": [
    "cnn.compile(optimizer='adam',  \n",
    "            loss='categorical_crossentropy',  \n",
    "            metrics=['accuracy']) \n",
    "\n"
   ]
  },
  {
   "cell_type": "code",
   "execution_count": 8,
   "id": "22da43ef-ff08-4df9-9b48-9513be915176",
   "metadata": {},
   "outputs": [
    {
     "ename": "SyntaxError",
     "evalue": "invalid syntax (Temp/ipykernel_56588/3661844460.py, line 4)",
     "output_type": "error",
     "traceback": [
      "\u001b[1;36m  File \u001b[1;32m\"C:\\Users\\18323\\AppData\\Local\\Temp/ipykernel_56588/3661844460.py\"\u001b[1;36m, line \u001b[1;32m4\u001b[0m\n\u001b[1;33m    Epoch 1/5\u001b[0m\n\u001b[1;37m          ^\u001b[0m\n\u001b[1;31mSyntaxError\u001b[0m\u001b[1;31m:\u001b[0m invalid syntax\n"
     ]
    }
   ],
   "source": [
    "cnn.fit(X_train, y_train, epochs=5, batch_size=64,  \n",
    "        validation_split=0.1)  \n",
    "  #  Train on 54000 samples, validate on 6000 samples  \n",
    "Epoch 1/5  \n",
    "54000/54000 [==============================] - 68s 1ms/step - loss: \n",
    "0.1407 - acc: 0.9580 - val_loss: 0.0452 - val_acc: 0.9867 \n",
    "\n",
    "Epoch 2/5\n",
    "54000/54000 [==============================] - 64s 1ms/step - loss:  \n",
    "    0.0426 - acc: 0.9867 - val_loss: 0.0409 - val_acc: 0.9878  \n",
    "Epoch 3/5  \n",
    "54000/54000 [==============================] - 69s 1ms/step - loss:  \n",
    "    0.0299 - acc: 0.9902 - val_loss: 0.0325 - val_acc: 0.9912  \n",
    "    Epoch 4/5  \n",
    "    54000/54000 [==============================] - 70s 1ms/step - loss:  \n",
    "        0.0197 - acc: 0.9935 - val_loss: 0.0335 - val_acc: 0.9903 \n",
    "        Epoch 5/5 \n",
    "        54000/54000 [==============================] - 63s 1ms/step - loss: \n",
    "            0.0155 - acc: 0.9948 - val_loss: 0.0297 - val_acc: 0.9927 \n",
    "            <tensorflow.python.keras.callbacks.History\n",
    "\n",
    " \n",
    "\n",
    " \n",
    "\n"
   ]
  },
  {
   "cell_type": "code",
   "execution_count": null,
   "id": "5b20e9b3-0f42-4584-bccd-aef3d0f26763",
   "metadata": {},
   "outputs": [],
   "source": []
  },
  {
   "cell_type": "code",
   "execution_count": 10,
   "id": "246596ea-6f6e-4b02-aa39-36a9da7ac36f",
   "metadata": {},
   "outputs": [
    {
     "ename": "SyntaxError",
     "evalue": "invalid syntax (Temp/ipykernel_56588/4039698916.py, line 2)",
     "output_type": "error",
     "traceback": [
      "\u001b[1;36m  File \u001b[1;32m\"C:\\Users\\18323\\AppData\\Local\\Temp/ipykernel_56588/4039698916.py\"\u001b[1;36m, line \u001b[1;32m2\u001b[0m\n\u001b[1;33m    10000/10000 [==============================] - 4s 366us/step\u001b[0m\n\u001b[1;37m                 ^\u001b[0m\n\u001b[1;31mSyntaxError\u001b[0m\u001b[1;31m:\u001b[0m invalid syntax\n"
     ]
    }
   ],
   "source": [
    "loss, accuracy = cnn.evaluate(X_test, y_test)  \n",
    "10000/10000 [==============================] - 4s 366us/step \n",
    "\n"
   ]
  },
  {
   "cell_type": "code",
   "execution_count": 5,
   "id": "0a726edd-0a98-4b93-8717-fe7617a85f4c",
   "metadata": {},
   "outputs": [
    {
     "ename": "NameError",
     "evalue": "name 'loss' is not defined",
     "output_type": "error",
     "traceback": [
      "\u001b[1;31m---------------------------------------------------------------------------\u001b[0m",
      "\u001b[1;31mNameError\u001b[0m                                 Traceback (most recent call last)",
      "\u001b[1;32m~\\AppData\\Local\\Temp/ipykernel_56588/2516562487.py\u001b[0m in \u001b[0;36m<module>\u001b[1;34m\u001b[0m\n\u001b[1;32m----> 1\u001b[1;33m \u001b[0mloss\u001b[0m\u001b[1;33m\u001b[0m\u001b[1;33m\u001b[0m\u001b[0m\n\u001b[0m",
      "\u001b[1;31mNameError\u001b[0m: name 'loss' is not defined"
     ]
    }
   ],
   "source": [
    "loss"
   ]
  },
  {
   "cell_type": "code",
   "execution_count": 6,
   "id": "ebf35bb3-0eb4-4a27-a517-19d39f67026b",
   "metadata": {},
   "outputs": [
    {
     "ename": "NameError",
     "evalue": "name 'accuracy' is not defined",
     "output_type": "error",
     "traceback": [
      "\u001b[1;31m---------------------------------------------------------------------------\u001b[0m",
      "\u001b[1;31mNameError\u001b[0m                                 Traceback (most recent call last)",
      "\u001b[1;32m~\\AppData\\Local\\Temp/ipykernel_56588/3469749070.py\u001b[0m in \u001b[0;36m<module>\u001b[1;34m\u001b[0m\n\u001b[1;32m----> 1\u001b[1;33m \u001b[0maccuracy\u001b[0m\u001b[1;33m\u001b[0m\u001b[1;33m\u001b[0m\u001b[0m\n\u001b[0m",
      "\u001b[1;31mNameError\u001b[0m: name 'accuracy' is not defined"
     ]
    }
   ],
   "source": [
    "accuracy"
   ]
  },
  {
   "cell_type": "code",
   "execution_count": 7,
   "id": "74cec123-78da-410c-a1bc-25c3f7568b84",
   "metadata": {},
   "outputs": [],
   "source": [
    "from tensorflow.keras.datasets import imdb"
   ]
  },
  {
   "cell_type": "code",
   "execution_count": 8,
   "id": "68f8bfc5-98e9-4e57-ac04-3a3fccaa5a03",
   "metadata": {},
   "outputs": [],
   "source": [
    "number_of_words = 10000"
   ]
  },
  {
   "cell_type": "code",
   "execution_count": 9,
   "id": "01ab88fc-9537-488a-b038-616bac344c6e",
   "metadata": {},
   "outputs": [],
   "source": [
    "(X_train, y_train), (X_test, y_test) = imdb.load_data(\n",
    "    num_words = number_of_words)"
   ]
  },
  {
   "cell_type": "code",
   "execution_count": 16,
   "id": "500dc0ac-2a19-4689-ac3c-2f7bda129225",
   "metadata": {},
   "outputs": [
    {
     "data": {
      "text/plain": [
       "(25000,)"
      ]
     },
     "execution_count": 16,
     "metadata": {},
     "output_type": "execute_result"
    }
   ],
   "source": [
    "X_train.shape"
   ]
  },
  {
   "cell_type": "code",
   "execution_count": 17,
   "id": "e00cafeb-b38f-4bf4-8141-e57c2981e522",
   "metadata": {},
   "outputs": [
    {
     "data": {
      "text/plain": [
       "(25000,)"
      ]
     },
     "execution_count": 17,
     "metadata": {},
     "output_type": "execute_result"
    }
   ],
   "source": [
    "y_train.shape"
   ]
  },
  {
   "cell_type": "code",
   "execution_count": 18,
   "id": "383c0bf4-b7e6-4d76-bc30-1ea15b23047e",
   "metadata": {},
   "outputs": [
    {
     "data": {
      "text/plain": [
       "(25000,)"
      ]
     },
     "execution_count": 18,
     "metadata": {},
     "output_type": "execute_result"
    }
   ],
   "source": [
    "X_test.shape"
   ]
  },
  {
   "cell_type": "code",
   "execution_count": 19,
   "id": "76964168-de27-4239-b731-0a8d92077b11",
   "metadata": {},
   "outputs": [
    {
     "data": {
      "text/plain": [
       "(25000,)"
      ]
     },
     "execution_count": 19,
     "metadata": {},
     "output_type": "execute_result"
    }
   ],
   "source": [
    "y_test.shape\n"
   ]
  },
  {
   "cell_type": "code",
   "execution_count": 21,
   "id": "2cf3346b-4733-465a-a72f-6b65b11c0f21",
   "metadata": {},
   "outputs": [
    {
     "name": "stdout",
     "output_type": "stream",
     "text": [
      "Pretty printing has been turned OFF\n"
     ]
    }
   ],
   "source": [
    "%pprint"
   ]
  },
  {
   "cell_type": "code",
   "execution_count": 22,
   "id": "b66d0b9a-db63-44c3-9081-8da6a20a2148",
   "metadata": {},
   "outputs": [
    {
     "data": {
      "text/plain": [
       "[1, 307, 5, 1301, 20, 1026, 2511, 87, 2775, 52, 116, 5, 31, 7, 4, 91, 1220, 102, 13, 28, 110, 11, 6, 137, 13, 115, 219, 141, 35, 221, 956, 54, 13, 16, 11, 2714, 61, 322, 423, 12, 38, 76, 59, 1803, 72, 8, 2, 23, 5, 967, 12, 38, 85, 62, 358, 99]"
      ]
     },
     "execution_count": 22,
     "metadata": {},
     "output_type": "execute_result"
    }
   ],
   "source": [
    "X_train[123]"
   ]
  },
  {
   "cell_type": "code",
   "execution_count": 10,
   "id": "ab6151ea-79f3-45e6-82e8-ccdb68a30109",
   "metadata": {},
   "outputs": [
    {
     "name": "stdout",
     "output_type": "stream",
     "text": [
      "Downloading data from https://storage.googleapis.com/tensorflow/tf-keras-datasets/imdb_word_index.json\n",
      "1646592/1641221 [==============================] - 0s 0us/step\n",
      "1654784/1641221 [==============================] - 0s 0us/step\n"
     ]
    }
   ],
   "source": [
    "word_to_index = imdb.get_word_index()"
   ]
  },
  {
   "cell_type": "code",
   "execution_count": 12,
   "id": "eb4560c2-9c3d-46cd-ae4c-2a3ffaf4b356",
   "metadata": {},
   "outputs": [
    {
     "data": {
      "text/plain": [
       "84"
      ]
     },
     "execution_count": 12,
     "metadata": {},
     "output_type": "execute_result"
    }
   ],
   "source": [
    "word_to_index['great']\n"
   ]
  },
  {
   "cell_type": "code",
   "execution_count": 13,
   "id": "0979b1fc-258a-4723-8668-8fdebb1a4a18",
   "metadata": {},
   "outputs": [
    {
     "data": {
      "text/plain": [
       "774"
      ]
     },
     "execution_count": 13,
     "metadata": {},
     "output_type": "execute_result"
    }
   ],
   "source": [
    "word_to_index['fantastic']"
   ]
  },
  {
   "cell_type": "code",
   "execution_count": 15,
   "id": "65d21fd1-8589-403a-ba93-340eaa13532f",
   "metadata": {},
   "outputs": [
    {
     "data": {
      "text/plain": [
       "370"
      ]
     },
     "execution_count": 15,
     "metadata": {},
     "output_type": "execute_result"
    }
   ],
   "source": [
    "word_to_index['awful']"
   ]
  },
  {
   "cell_type": "code",
   "execution_count": 22,
   "id": "e76668b0-900b-43a5-94f6-020380d2b194",
   "metadata": {},
   "outputs": [],
   "source": [
    "#index_to_word =\\ \n",
    " #   {(index: word for (word, index) in word_to_index.items()}\n",
    "index_to_word =\\\n",
    "     {index: word for (word, index) in word_to_index.items()} \n",
    "\n",
    " "
   ]
  },
  {
   "cell_type": "code",
   "execution_count": 24,
   "id": "778c8deb-696b-4a55-8406-4acdf3e7c891",
   "metadata": {},
   "outputs": [
    {
     "data": {
      "text/plain": [
       "['the',\n",
       " 'and',\n",
       " 'a',\n",
       " 'of',\n",
       " 'to',\n",
       " 'is',\n",
       " 'br',\n",
       " 'in',\n",
       " 'it',\n",
       " 'i',\n",
       " 'this',\n",
       " 'that',\n",
       " 'was',\n",
       " 'as',\n",
       " 'for',\n",
       " 'with',\n",
       " 'movie',\n",
       " 'but',\n",
       " 'film',\n",
       " 'on',\n",
       " 'not',\n",
       " 'you',\n",
       " 'are',\n",
       " 'his',\n",
       " 'have',\n",
       " 'he',\n",
       " 'be',\n",
       " 'one',\n",
       " 'all',\n",
       " 'at',\n",
       " 'by',\n",
       " 'an',\n",
       " 'they',\n",
       " 'who',\n",
       " 'so',\n",
       " 'from',\n",
       " 'like',\n",
       " 'her',\n",
       " 'or',\n",
       " 'just',\n",
       " 'about',\n",
       " \"it's\",\n",
       " 'out',\n",
       " 'has',\n",
       " 'if',\n",
       " 'some',\n",
       " 'there',\n",
       " 'what',\n",
       " 'good',\n",
       " 'more']"
      ]
     },
     "execution_count": 24,
     "metadata": {},
     "output_type": "execute_result"
    }
   ],
   "source": [
    "[index_to_word[i] for i in range(1,51,)]"
   ]
  },
  {
   "cell_type": "code",
   "execution_count": 30,
   "id": "90fc809f-863d-48a3-bbe2-49c8e79defe6",
   "metadata": {},
   "outputs": [
    {
     "data": {
      "text/plain": [
       "'? beautiful and touching movie rich colors great settings good acting and one of the most charming movies i have seen in a while i never saw such an interesting setting when i was in china my wife liked it so much she asked me to ? on and rate it so other would enjoy too'"
      ]
     },
     "execution_count": 30,
     "metadata": {},
     "output_type": "execute_result"
    }
   ],
   "source": [
    "#''.join([index_to_word.get(i- 3, '?')\n",
    "#for i in X-train[123]])\n",
    "' '.join([index_to_word.get(i - 3,'?') \n",
    "for i in X_train[123]])  \n",
    "\n"
   ]
  },
  {
   "cell_type": "code",
   "execution_count": 31,
   "id": "825c81c1-7b36-4a23-9c35-7170963cbd8b",
   "metadata": {},
   "outputs": [
    {
     "data": {
      "text/plain": [
       "1"
      ]
     },
     "execution_count": 31,
     "metadata": {},
     "output_type": "execute_result"
    }
   ],
   "source": [
    "y_train[123]"
   ]
  },
  {
   "cell_type": "code",
   "execution_count": 32,
   "id": "d9ecf6bd-0b29-4b95-a9a2-51a4c12df8b4",
   "metadata": {},
   "outputs": [],
   "source": [
    "words_per_review=200"
   ]
  },
  {
   "cell_type": "code",
   "execution_count": 33,
   "id": "ae5dae5b-a108-4dd6-8741-1899cb43320d",
   "metadata": {},
   "outputs": [],
   "source": [
    "from tensorflow.keras.preprocessing.sequence import pad_sequences"
   ]
  },
  {
   "cell_type": "code",
   "execution_count": 34,
   "id": "fc40a345-65f7-41bc-ba71-bd33d87df04b",
   "metadata": {},
   "outputs": [],
   "source": [
    "X_train = pad_sequences(X_train, maxlen = words_per_review)"
   ]
  },
  {
   "cell_type": "code",
   "execution_count": 35,
   "id": "9e767b3c-a0db-48ae-96ba-25ee1f5bcb4f",
   "metadata": {},
   "outputs": [
    {
     "data": {
      "text/plain": [
       "(25000, 200)"
      ]
     },
     "execution_count": 35,
     "metadata": {},
     "output_type": "execute_result"
    }
   ],
   "source": [
    "X_train.shape"
   ]
  },
  {
   "cell_type": "code",
   "execution_count": 36,
   "id": "d458dc0a-4cb0-4a28-9fe8-f0c5f9bd39fd",
   "metadata": {},
   "outputs": [],
   "source": [
    "X_test = pad_sequences(X_test, maxlen = words_per_review)"
   ]
  },
  {
   "cell_type": "code",
   "execution_count": 37,
   "id": "bf881131-8e2d-44c3-bd6a-9838f0220774",
   "metadata": {},
   "outputs": [
    {
     "data": {
      "text/plain": [
       "(25000, 200)"
      ]
     },
     "execution_count": 37,
     "metadata": {},
     "output_type": "execute_result"
    }
   ],
   "source": [
    "X_test.shape\n"
   ]
  },
  {
   "cell_type": "code",
   "execution_count": 39,
   "id": "b9164e4b-f7f4-4429-8693-3447cc111140",
   "metadata": {},
   "outputs": [],
   "source": [
    "from sklearn.model_selection import train_test_split \n",
    "X_test, X_val, y_test, y_val = train_test_split( \n",
    "    X_test, y_test, random_state=11, test_size=0.20) \n",
    "\n",
    "\n"
   ]
  },
  {
   "cell_type": "code",
   "execution_count": 40,
   "id": "b6233c59-2060-46a4-b7f5-cfe8b2799bb1",
   "metadata": {},
   "outputs": [
    {
     "data": {
      "text/plain": [
       "(20000, 200)"
      ]
     },
     "execution_count": 40,
     "metadata": {},
     "output_type": "execute_result"
    }
   ],
   "source": [
    "X_test.shape\n"
   ]
  },
  {
   "cell_type": "code",
   "execution_count": 41,
   "id": "6c1a5d50-cd8d-444b-9686-9d8e64aae91f",
   "metadata": {},
   "outputs": [
    {
     "data": {
      "text/plain": [
       "(5000, 200)"
      ]
     },
     "execution_count": 41,
     "metadata": {},
     "output_type": "execute_result"
    }
   ],
   "source": [
    "X_val.shape"
   ]
  },
  {
   "cell_type": "code",
   "execution_count": 42,
   "id": "8b9ab9ba-217b-4b25-83bd-c22b1b9d3397",
   "metadata": {},
   "outputs": [],
   "source": [
    "from tensorflow.keras.models import Sequential"
   ]
  },
  {
   "cell_type": "code",
   "execution_count": 43,
   "id": "386582d9-f788-46e7-b2bd-1cdb30d797d2",
   "metadata": {},
   "outputs": [],
   "source": [
    "rnn = Sequential()"
   ]
  },
  {
   "cell_type": "code",
   "execution_count": 45,
   "id": "88140904-ec7c-4f13-a7c1-e138752ac3a6",
   "metadata": {},
   "outputs": [],
   "source": [
    "from tensorflow.keras.layers import Dense, LSTM"
   ]
  },
  {
   "cell_type": "code",
   "execution_count": 53,
   "id": "59cfe7b1-5fc2-45a5-8baa-3b2909d15996",
   "metadata": {},
   "outputs": [],
   "source": [
    "#from tensorflow.keras.layers.embeddings import Embedding\n",
    "\n",
    "from keras.layers.embeddings import Embedding \n"
   ]
  },
  {
   "cell_type": "code",
   "execution_count": 93,
   "id": "ccb46408-1576-4e0e-9654-828194ae96d6",
   "metadata": {},
   "outputs": [],
   "source": [
    "rnn.add(Embedding(input_dim = number_of_words, output_dim = 128, input_length = words_per_review))\n",
    "#This adds an Embedding layer  where it shows relationships with other words"
   ]
  },
  {
   "cell_type": "code",
   "execution_count": null,
   "id": "20615507-ec74-4e5b-bdb7-efe1761e37e2",
   "metadata": {},
   "outputs": [],
   "source": [
    "\n",
    "\n"
   ]
  },
  {
   "cell_type": "code",
   "execution_count": null,
   "id": "f8daa958-9757-4865-872c-932539af7688",
   "metadata": {},
   "outputs": [],
   "source": []
  },
  {
   "cell_type": "code",
   "execution_count": 94,
   "id": "94b47e2b-d3b3-457e-a22a-3750ca173223",
   "metadata": {},
   "outputs": [
    {
     "ename": "ValueError",
     "evalue": "Input 0 of layer \"lstm_19\" is incompatible with the layer: expected ndim=3, found ndim=8. Full shape received: (None, 200, 128, 1, 128, 128, 1, 128)",
     "output_type": "error",
     "traceback": [
      "\u001b[1;31m---------------------------------------------------------------------------\u001b[0m",
      "\u001b[1;31mValueError\u001b[0m                                Traceback (most recent call last)",
      "\u001b[1;32m~\\AppData\\Local\\Temp/ipykernel_7368/704266283.py\u001b[0m in \u001b[0;36m<module>\u001b[1;34m\u001b[0m\n\u001b[0;32m      1\u001b[0m \u001b[1;31m#rnn.add(LSTM(units =128, dropout = 0.2, recurrent_dropout = 0.2))\u001b[0m\u001b[1;33m\u001b[0m\u001b[1;33m\u001b[0m\u001b[0m\n\u001b[1;32m----> 2\u001b[1;33m \u001b[0mrnn\u001b[0m\u001b[1;33m.\u001b[0m\u001b[0madd\u001b[0m\u001b[1;33m(\u001b[0m\u001b[0mLSTM\u001b[0m\u001b[1;33m(\u001b[0m\u001b[0munits\u001b[0m\u001b[1;33m=\u001b[0m\u001b[1;36m128\u001b[0m\u001b[1;33m,\u001b[0m \u001b[0mdropout\u001b[0m\u001b[1;33m=\u001b[0m\u001b[1;36m0.2\u001b[0m\u001b[1;33m,\u001b[0m \u001b[0mrecurrent_dropout\u001b[0m\u001b[1;33m=\u001b[0m \u001b[1;36m0.2\u001b[0m\u001b[1;33m)\u001b[0m\u001b[1;33m)\u001b[0m\u001b[1;33m\u001b[0m\u001b[1;33m\u001b[0m\u001b[0m\n\u001b[0m\u001b[0;32m      3\u001b[0m \u001b[1;33m\u001b[0m\u001b[0m\n\u001b[0;32m      4\u001b[0m \u001b[1;33m\u001b[0m\u001b[0m\n",
      "\u001b[1;32m~\\anaconda3\\anaconda\\lib\\site-packages\\tensorflow\\python\\training\\tracking\\base.py\u001b[0m in \u001b[0;36m_method_wrapper\u001b[1;34m(self, *args, **kwargs)\u001b[0m\n\u001b[0;32m    627\u001b[0m     \u001b[0mself\u001b[0m\u001b[1;33m.\u001b[0m\u001b[0m_self_setattr_tracking\u001b[0m \u001b[1;33m=\u001b[0m \u001b[1;32mFalse\u001b[0m  \u001b[1;31m# pylint: disable=protected-access\u001b[0m\u001b[1;33m\u001b[0m\u001b[1;33m\u001b[0m\u001b[0m\n\u001b[0;32m    628\u001b[0m     \u001b[1;32mtry\u001b[0m\u001b[1;33m:\u001b[0m\u001b[1;33m\u001b[0m\u001b[1;33m\u001b[0m\u001b[0m\n\u001b[1;32m--> 629\u001b[1;33m       \u001b[0mresult\u001b[0m \u001b[1;33m=\u001b[0m \u001b[0mmethod\u001b[0m\u001b[1;33m(\u001b[0m\u001b[0mself\u001b[0m\u001b[1;33m,\u001b[0m \u001b[1;33m*\u001b[0m\u001b[0margs\u001b[0m\u001b[1;33m,\u001b[0m \u001b[1;33m**\u001b[0m\u001b[0mkwargs\u001b[0m\u001b[1;33m)\u001b[0m\u001b[1;33m\u001b[0m\u001b[1;33m\u001b[0m\u001b[0m\n\u001b[0m\u001b[0;32m    630\u001b[0m     \u001b[1;32mfinally\u001b[0m\u001b[1;33m:\u001b[0m\u001b[1;33m\u001b[0m\u001b[1;33m\u001b[0m\u001b[0m\n\u001b[0;32m    631\u001b[0m       \u001b[0mself\u001b[0m\u001b[1;33m.\u001b[0m\u001b[0m_self_setattr_tracking\u001b[0m \u001b[1;33m=\u001b[0m \u001b[0mprevious_value\u001b[0m  \u001b[1;31m# pylint: disable=protected-access\u001b[0m\u001b[1;33m\u001b[0m\u001b[1;33m\u001b[0m\u001b[0m\n",
      "\u001b[1;32m~\\anaconda3\\anaconda\\lib\\site-packages\\keras\\utils\\traceback_utils.py\u001b[0m in \u001b[0;36merror_handler\u001b[1;34m(*args, **kwargs)\u001b[0m\n\u001b[0;32m     65\u001b[0m     \u001b[1;32mexcept\u001b[0m \u001b[0mException\u001b[0m \u001b[1;32mas\u001b[0m \u001b[0me\u001b[0m\u001b[1;33m:\u001b[0m  \u001b[1;31m# pylint: disable=broad-except\u001b[0m\u001b[1;33m\u001b[0m\u001b[1;33m\u001b[0m\u001b[0m\n\u001b[0;32m     66\u001b[0m       \u001b[0mfiltered_tb\u001b[0m \u001b[1;33m=\u001b[0m \u001b[0m_process_traceback_frames\u001b[0m\u001b[1;33m(\u001b[0m\u001b[0me\u001b[0m\u001b[1;33m.\u001b[0m\u001b[0m__traceback__\u001b[0m\u001b[1;33m)\u001b[0m\u001b[1;33m\u001b[0m\u001b[1;33m\u001b[0m\u001b[0m\n\u001b[1;32m---> 67\u001b[1;33m       \u001b[1;32mraise\u001b[0m \u001b[0me\u001b[0m\u001b[1;33m.\u001b[0m\u001b[0mwith_traceback\u001b[0m\u001b[1;33m(\u001b[0m\u001b[0mfiltered_tb\u001b[0m\u001b[1;33m)\u001b[0m \u001b[1;32mfrom\u001b[0m \u001b[1;32mNone\u001b[0m\u001b[1;33m\u001b[0m\u001b[1;33m\u001b[0m\u001b[0m\n\u001b[0m\u001b[0;32m     68\u001b[0m     \u001b[1;32mfinally\u001b[0m\u001b[1;33m:\u001b[0m\u001b[1;33m\u001b[0m\u001b[1;33m\u001b[0m\u001b[0m\n\u001b[0;32m     69\u001b[0m       \u001b[1;32mdel\u001b[0m \u001b[0mfiltered_tb\u001b[0m\u001b[1;33m\u001b[0m\u001b[1;33m\u001b[0m\u001b[0m\n",
      "\u001b[1;32m~\\anaconda3\\anaconda\\lib\\site-packages\\keras\\engine\\input_spec.py\u001b[0m in \u001b[0;36massert_input_compatibility\u001b[1;34m(input_spec, inputs, layer_name)\u001b[0m\n\u001b[0;32m    212\u001b[0m       \u001b[0mndim\u001b[0m \u001b[1;33m=\u001b[0m \u001b[0mshape\u001b[0m\u001b[1;33m.\u001b[0m\u001b[0mrank\u001b[0m\u001b[1;33m\u001b[0m\u001b[1;33m\u001b[0m\u001b[0m\n\u001b[0;32m    213\u001b[0m       \u001b[1;32mif\u001b[0m \u001b[0mndim\u001b[0m \u001b[1;33m!=\u001b[0m \u001b[0mspec\u001b[0m\u001b[1;33m.\u001b[0m\u001b[0mndim\u001b[0m\u001b[1;33m:\u001b[0m\u001b[1;33m\u001b[0m\u001b[1;33m\u001b[0m\u001b[0m\n\u001b[1;32m--> 214\u001b[1;33m         raise ValueError(f'Input {input_index} of layer \"{layer_name}\" '\n\u001b[0m\u001b[0;32m    215\u001b[0m                          \u001b[1;34m'is incompatible with the layer: '\u001b[0m\u001b[1;33m\u001b[0m\u001b[1;33m\u001b[0m\u001b[0m\n\u001b[0;32m    216\u001b[0m                          \u001b[1;34mf'expected ndim={spec.ndim}, found ndim={ndim}. '\u001b[0m\u001b[1;33m\u001b[0m\u001b[1;33m\u001b[0m\u001b[0m\n",
      "\u001b[1;31mValueError\u001b[0m: Input 0 of layer \"lstm_19\" is incompatible with the layer: expected ndim=3, found ndim=8. Full shape received: (None, 200, 128, 1, 128, 128, 1, 128)"
     ]
    }
   ],
   "source": [
    "#rnn.add(LSTM(units =128, dropout = 0.2, recurrent_dropout = 0.2))\n",
    "rnn.add(LSTM(units=128, dropout=0.2, recurrent_dropout= 0.2)) \n",
    "\n",
    "\n"
   ]
  },
  {
   "cell_type": "code",
   "execution_count": 95,
   "id": "36be79b3-243c-4bed-bb58-c7bf00ef4709",
   "metadata": {},
   "outputs": [],
   "source": [
    "rnn.add(Dense(units =1, activation = 'sigmoid'))"
   ]
  },
  {
   "cell_type": "code",
   "execution_count": 96,
   "id": "3225efba-0701-4a65-9273-cf81948b24e0",
   "metadata": {},
   "outputs": [],
   "source": [
    "rnn.compile(optimizer = 'adam', \n",
    "            loss = 'binary.crossentropy',\n",
    "metrics = ['accuracy'])"
   ]
  },
  {
   "cell_type": "code",
   "execution_count": 97,
   "id": "481c8778-4737-4bcc-be69-ec4cc9d23438",
   "metadata": {},
   "outputs": [
    {
     "name": "stdout",
     "output_type": "stream",
     "text": [
      "Model: \"sequential\"\n",
      "_________________________________________________________________\n",
      " Layer (type)                Output Shape              Param #   \n",
      "=================================================================\n",
      " embedding (Embedding)       (None, 200, 128)          1280000   \n",
      "                                                                 \n",
      " embedding_1 (Embedding)     (None, 200, 128, 128)     1280000   \n",
      "                                                                 \n",
      " dense (Dense)               (None, 200, 128, 1)       129       \n",
      "                                                                 \n",
      " embedding_2 (Embedding)     (None, 200, 128, 1, 128)  1280000   \n",
      "                                                                 \n",
      " embedding_3 (Embedding)     (None, 200, 128, 1, 128,  1280000   \n",
      "                              128)                               \n",
      "                                                                 \n",
      " embedding_4 (Embedding)     (None, 200, 128, 1, 128,  2000000   \n",
      "                              128, 200)                          \n",
      "                                                                 \n",
      " dense_1 (Dense)             (None, 200, 128, 1, 128,  201       \n",
      "                              128, 1)                            \n",
      "                                                                 \n",
      " embedding_5 (Embedding)     (None, 200, 128, 1, 128,  1280000   \n",
      "                              128, 1, 128)                       \n",
      "                                                                 \n",
      " dense_2 (Dense)             (None, 200, 128, 1, 128,  129       \n",
      "                              128, 1, 1)                         \n",
      "                                                                 \n",
      "=================================================================\n",
      "Total params: 8,400,459\n",
      "Trainable params: 8,400,459\n",
      "Non-trainable params: 0\n",
      "_________________________________________________________________\n"
     ]
    }
   ],
   "source": [
    "rnn.summary()"
   ]
  },
  {
   "cell_type": "code",
   "execution_count": 102,
   "id": "fa5777a6-c38a-48c3-99f7-51274c729109",
   "metadata": {},
   "outputs": [
    {
     "name": "stdout",
     "output_type": "stream",
     "text": [
      "Epoch 1/10\n"
     ]
    },
    {
     "ename": "ValueError",
     "evalue": "in user code:\n\n    File \"C:\\Users\\18323\\anaconda3\\anaconda\\lib\\site-packages\\keras\\engine\\training.py\", line 1021, in train_function  *\n        return step_function(self, iterator)\n    File \"C:\\Users\\18323\\anaconda3\\anaconda\\lib\\site-packages\\keras\\engine\\training.py\", line 1010, in step_function  **\n        outputs = model.distribute_strategy.run(run_step, args=(data,))\n    File \"C:\\Users\\18323\\anaconda3\\anaconda\\lib\\site-packages\\keras\\engine\\training.py\", line 1000, in run_step  **\n        outputs = model.train_step(data)\n    File \"C:\\Users\\18323\\anaconda3\\anaconda\\lib\\site-packages\\keras\\engine\\training.py\", line 860, in train_step\n        loss = self.compute_loss(x, y, y_pred, sample_weight)\n    File \"C:\\Users\\18323\\anaconda3\\anaconda\\lib\\site-packages\\keras\\engine\\training.py\", line 918, in compute_loss\n        return self.compiled_loss(\n    File \"C:\\Users\\18323\\anaconda3\\anaconda\\lib\\site-packages\\keras\\engine\\compile_utils.py\", line 184, in __call__\n        self.build(y_pred)\n    File \"C:\\Users\\18323\\anaconda3\\anaconda\\lib\\site-packages\\keras\\engine\\compile_utils.py\", line 133, in build\n        self._losses = tf.nest.map_structure(self._get_loss_object, self._losses)\n    File \"C:\\Users\\18323\\anaconda3\\anaconda\\lib\\site-packages\\keras\\engine\\compile_utils.py\", line 272, in _get_loss_object\n        loss = losses_mod.get(loss)\n    File \"C:\\Users\\18323\\anaconda3\\anaconda\\lib\\site-packages\\keras\\losses.py\", line 2369, in get\n        return deserialize(identifier)\n    File \"C:\\Users\\18323\\anaconda3\\anaconda\\lib\\site-packages\\keras\\losses.py\", line 2324, in deserialize\n        return deserialize_keras_object(\n    File \"C:\\Users\\18323\\anaconda3\\anaconda\\lib\\site-packages\\keras\\utils\\generic_utils.py\", line 709, in deserialize_keras_object\n        raise ValueError(\n\n    ValueError: Unknown loss function: binary.crossentropy. Please ensure this object is passed to the `custom_objects` argument. See https://www.tensorflow.org/guide/keras/save_and_serialize#registering_the_custom_object for details.\n",
     "output_type": "error",
     "traceback": [
      "\u001b[1;31m---------------------------------------------------------------------------\u001b[0m",
      "\u001b[1;31mValueError\u001b[0m                                Traceback (most recent call last)",
      "\u001b[1;32m~\\AppData\\Local\\Temp/ipykernel_7368/2335609786.py\u001b[0m in \u001b[0;36m<module>\u001b[1;34m\u001b[0m\n\u001b[0;32m      2\u001b[0m \u001b[1;31m#validation_data = (X_test, y_test))\u001b[0m\u001b[1;33m\u001b[0m\u001b[1;33m\u001b[0m\u001b[0m\n\u001b[0;32m      3\u001b[0m \u001b[1;33m\u001b[0m\u001b[0m\n\u001b[1;32m----> 4\u001b[1;33m \u001b[0mrnn\u001b[0m\u001b[1;33m.\u001b[0m\u001b[0mfit\u001b[0m\u001b[1;33m(\u001b[0m\u001b[0mX_train\u001b[0m\u001b[1;33m,\u001b[0m \u001b[0my_train\u001b[0m\u001b[1;33m,\u001b[0m \u001b[0mepochs\u001b[0m\u001b[1;33m=\u001b[0m\u001b[1;36m10\u001b[0m\u001b[1;33m,\u001b[0m \u001b[0mbatch_size\u001b[0m\u001b[1;33m=\u001b[0m\u001b[1;36m32\u001b[0m\u001b[1;33m,\u001b[0m  \u001b[0mvalidation_data\u001b[0m\u001b[1;33m=\u001b[0m\u001b[1;33m(\u001b[0m\u001b[0mX_test\u001b[0m\u001b[1;33m,\u001b[0m \u001b[0my_test\u001b[0m\u001b[1;33m)\u001b[0m\u001b[1;33m)\u001b[0m\u001b[1;33m\u001b[0m\u001b[1;33m\u001b[0m\u001b[0m\n\u001b[0m",
      "\u001b[1;32m~\\anaconda3\\anaconda\\lib\\site-packages\\keras\\utils\\traceback_utils.py\u001b[0m in \u001b[0;36merror_handler\u001b[1;34m(*args, **kwargs)\u001b[0m\n\u001b[0;32m     65\u001b[0m     \u001b[1;32mexcept\u001b[0m \u001b[0mException\u001b[0m \u001b[1;32mas\u001b[0m \u001b[0me\u001b[0m\u001b[1;33m:\u001b[0m  \u001b[1;31m# pylint: disable=broad-except\u001b[0m\u001b[1;33m\u001b[0m\u001b[1;33m\u001b[0m\u001b[0m\n\u001b[0;32m     66\u001b[0m       \u001b[0mfiltered_tb\u001b[0m \u001b[1;33m=\u001b[0m \u001b[0m_process_traceback_frames\u001b[0m\u001b[1;33m(\u001b[0m\u001b[0me\u001b[0m\u001b[1;33m.\u001b[0m\u001b[0m__traceback__\u001b[0m\u001b[1;33m)\u001b[0m\u001b[1;33m\u001b[0m\u001b[1;33m\u001b[0m\u001b[0m\n\u001b[1;32m---> 67\u001b[1;33m       \u001b[1;32mraise\u001b[0m \u001b[0me\u001b[0m\u001b[1;33m.\u001b[0m\u001b[0mwith_traceback\u001b[0m\u001b[1;33m(\u001b[0m\u001b[0mfiltered_tb\u001b[0m\u001b[1;33m)\u001b[0m \u001b[1;32mfrom\u001b[0m \u001b[1;32mNone\u001b[0m\u001b[1;33m\u001b[0m\u001b[1;33m\u001b[0m\u001b[0m\n\u001b[0m\u001b[0;32m     68\u001b[0m     \u001b[1;32mfinally\u001b[0m\u001b[1;33m:\u001b[0m\u001b[1;33m\u001b[0m\u001b[1;33m\u001b[0m\u001b[0m\n\u001b[0;32m     69\u001b[0m       \u001b[1;32mdel\u001b[0m \u001b[0mfiltered_tb\u001b[0m\u001b[1;33m\u001b[0m\u001b[1;33m\u001b[0m\u001b[0m\n",
      "\u001b[1;32m~\\anaconda3\\anaconda\\lib\\site-packages\\tensorflow\\python\\framework\\func_graph.py\u001b[0m in \u001b[0;36mautograph_handler\u001b[1;34m(*args, **kwargs)\u001b[0m\n\u001b[0;32m   1145\u001b[0m           \u001b[1;32mexcept\u001b[0m \u001b[0mException\u001b[0m \u001b[1;32mas\u001b[0m \u001b[0me\u001b[0m\u001b[1;33m:\u001b[0m  \u001b[1;31m# pylint:disable=broad-except\u001b[0m\u001b[1;33m\u001b[0m\u001b[1;33m\u001b[0m\u001b[0m\n\u001b[0;32m   1146\u001b[0m             \u001b[1;32mif\u001b[0m \u001b[0mhasattr\u001b[0m\u001b[1;33m(\u001b[0m\u001b[0me\u001b[0m\u001b[1;33m,\u001b[0m \u001b[1;34m\"ag_error_metadata\"\u001b[0m\u001b[1;33m)\u001b[0m\u001b[1;33m:\u001b[0m\u001b[1;33m\u001b[0m\u001b[1;33m\u001b[0m\u001b[0m\n\u001b[1;32m-> 1147\u001b[1;33m               \u001b[1;32mraise\u001b[0m \u001b[0me\u001b[0m\u001b[1;33m.\u001b[0m\u001b[0mag_error_metadata\u001b[0m\u001b[1;33m.\u001b[0m\u001b[0mto_exception\u001b[0m\u001b[1;33m(\u001b[0m\u001b[0me\u001b[0m\u001b[1;33m)\u001b[0m\u001b[1;33m\u001b[0m\u001b[1;33m\u001b[0m\u001b[0m\n\u001b[0m\u001b[0;32m   1148\u001b[0m             \u001b[1;32melse\u001b[0m\u001b[1;33m:\u001b[0m\u001b[1;33m\u001b[0m\u001b[1;33m\u001b[0m\u001b[0m\n\u001b[0;32m   1149\u001b[0m               \u001b[1;32mraise\u001b[0m\u001b[1;33m\u001b[0m\u001b[1;33m\u001b[0m\u001b[0m\n",
      "\u001b[1;31mValueError\u001b[0m: in user code:\n\n    File \"C:\\Users\\18323\\anaconda3\\anaconda\\lib\\site-packages\\keras\\engine\\training.py\", line 1021, in train_function  *\n        return step_function(self, iterator)\n    File \"C:\\Users\\18323\\anaconda3\\anaconda\\lib\\site-packages\\keras\\engine\\training.py\", line 1010, in step_function  **\n        outputs = model.distribute_strategy.run(run_step, args=(data,))\n    File \"C:\\Users\\18323\\anaconda3\\anaconda\\lib\\site-packages\\keras\\engine\\training.py\", line 1000, in run_step  **\n        outputs = model.train_step(data)\n    File \"C:\\Users\\18323\\anaconda3\\anaconda\\lib\\site-packages\\keras\\engine\\training.py\", line 860, in train_step\n        loss = self.compute_loss(x, y, y_pred, sample_weight)\n    File \"C:\\Users\\18323\\anaconda3\\anaconda\\lib\\site-packages\\keras\\engine\\training.py\", line 918, in compute_loss\n        return self.compiled_loss(\n    File \"C:\\Users\\18323\\anaconda3\\anaconda\\lib\\site-packages\\keras\\engine\\compile_utils.py\", line 184, in __call__\n        self.build(y_pred)\n    File \"C:\\Users\\18323\\anaconda3\\anaconda\\lib\\site-packages\\keras\\engine\\compile_utils.py\", line 133, in build\n        self._losses = tf.nest.map_structure(self._get_loss_object, self._losses)\n    File \"C:\\Users\\18323\\anaconda3\\anaconda\\lib\\site-packages\\keras\\engine\\compile_utils.py\", line 272, in _get_loss_object\n        loss = losses_mod.get(loss)\n    File \"C:\\Users\\18323\\anaconda3\\anaconda\\lib\\site-packages\\keras\\losses.py\", line 2369, in get\n        return deserialize(identifier)\n    File \"C:\\Users\\18323\\anaconda3\\anaconda\\lib\\site-packages\\keras\\losses.py\", line 2324, in deserialize\n        return deserialize_keras_object(\n    File \"C:\\Users\\18323\\anaconda3\\anaconda\\lib\\site-packages\\keras\\utils\\generic_utils.py\", line 709, in deserialize_keras_object\n        raise ValueError(\n\n    ValueError: Unknown loss function: binary.crossentropy. Please ensure this object is passed to the `custom_objects` argument. See https://www.tensorflow.org/guide/keras/save_and_serialize#registering_the_custom_object for details.\n"
     ]
    }
   ],
   "source": [
    "#rnn.fit(X_train, y_train, epochs = 10, batch_size = 32, \n",
    "#validation_data = (X_test, y_test))\n",
    "\n",
    "rnn.fit(X_train, y_train, epochs=10, batch_size=32,  validation_data=(X_test, y_test))    "
   ]
  }
 ],
 "metadata": {
  "kernelspec": {
   "display_name": "Python 3 (ipykernel)",
   "language": "python",
   "name": "python3"
  },
  "language_info": {
   "codemirror_mode": {
    "name": "ipython",
    "version": 3
   },
   "file_extension": ".py",
   "mimetype": "text/x-python",
   "name": "python",
   "nbconvert_exporter": "python",
   "pygments_lexer": "ipython3",
   "version": "3.9.7"
  }
 },
 "nbformat": 4,
 "nbformat_minor": 5
}
