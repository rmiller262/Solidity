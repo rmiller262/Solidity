{
 "cells": [
  {
   "cell_type": "code",
   "execution_count": null,
   "id": "df9a6432-79e6-4c8e-9c86-e6e4d372abb1",
   "metadata": {},
   "outputs": [],
   "source": [
    "blob"
   ]
  },
  {
   "cell_type": "code",
   "execution_count": null,
   "id": "e2c669d9-b350-4e63-bd46-5933d9e1c0ad",
   "metadata": {},
   "outputs": [],
   "source": [
    "TextBlob(\"Today is a beautiful day. Tomorrow looks like bad weather.\")"
   ]
  },
  {
   "cell_type": "code",
   "execution_count": null,
   "id": "3dd3901f-f759-4360-ad95-4c20f466dc67",
   "metadata": {},
   "outputs": [],
   "source": [
    "blob.detect.language()"
   ]
  },
  {
   "cell_type": "code",
   "execution_count": null,
   "id": "50f7d194-26f1-4cc2-8349-9612dc3aff40",
   "metadata": {},
   "outputs": [],
   "source": [
    "blob"
   ]
  },
  {
   "cell_type": "code",
   "execution_count": null,
   "id": "89c0e18e-3590-4bdb-ba55-2c7f35a51490",
   "metadata": {},
   "outputs": [],
   "source": [
    "blob.detect_language()"
   ]
  },
  {
   "cell_type": "code",
   "execution_count": null,
   "id": "0202c17c-0e83-4bea-a8cc-1fed4eea5656",
   "metadata": {},
   "outputs": [],
   "source": [
    "Textblob"
   ]
  },
  {
   "cell_type": "code",
   "execution_count": null,
   "id": "f9adaeeb-4569-4a0d-823f-2c23c252cd3f",
   "metadata": {},
   "outputs": [],
   "source": [
    "blob = Textblob\n"
   ]
  },
  {
   "cell_type": "code",
   "execution_count": null,
   "id": "810a4d7a-0686-43ab-8b00-6e00e3aebeb5",
   "metadata": {},
   "outputs": [],
   "source": [
    "blob.detect_language()"
   ]
  },
  {
   "cell_type": "code",
   "execution_count": null,
   "id": "51b24b26-118e-4a40-8a5c-964f500da4fd",
   "metadata": {},
   "outputs": [],
   "source": [
    "Textblob"
   ]
  },
  {
   "cell_type": "code",
   "execution_count": null,
   "id": "7a3d8a70-e44a-434f-93a6-0f68355a1060",
   "metadata": {},
   "outputs": [],
   "source": [
    "from textblob import TextBlob"
   ]
  },
  {
   "cell_type": "code",
   "execution_count": null,
   "id": "cb10eb94-1589-4442-9b9c-327aabba437b",
   "metadata": {},
   "outputs": [],
   "source": [
    "text = 'Today is a beautiful day. Tomorrow looks like bad weather.'"
   ]
  },
  {
   "cell_type": "code",
   "execution_count": null,
   "id": "b7b5b987-c8c5-4f1e-a1be-ca7d8960792e",
   "metadata": {},
   "outputs": [],
   "source": [
    "blob = Textblob(text)"
   ]
  },
  {
   "cell_type": "code",
   "execution_count": null,
   "id": "be02b3fa-f84d-44a0-8c17-af2301aac73d",
   "metadata": {},
   "outputs": [],
   "source": [
    "blob.sentiment"
   ]
  },
  {
   "cell_type": "code",
   "execution_count": null,
   "id": "1d20f798-7c23-4d68-a030-b61df4063b0a",
   "metadata": {},
   "outputs": [],
   "source": []
  }
 ],
 "metadata": {
  "kernelspec": {
   "display_name": "Python 3 (ipykernel)",
   "language": "python",
   "name": "python3"
  },
  "language_info": {
   "codemirror_mode": {
    "name": "ipython",
    "version": 3
   },
   "file_extension": ".py",
   "mimetype": "text/x-python",
   "name": "python",
   "nbconvert_exporter": "python",
   "pygments_lexer": "ipython3",
   "version": "3.9.7"
  }
 },
 "nbformat": 4,
 "nbformat_minor": 5
}
